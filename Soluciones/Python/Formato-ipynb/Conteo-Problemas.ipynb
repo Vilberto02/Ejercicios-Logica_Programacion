{
  "nbformat": 4,
  "nbformat_minor": 0,
  "metadata": {
    "colab": {
      "provenance": []
    },
    "kernelspec": {
      "name": "python3",
      "display_name": "Python 3"
    },
    "language_info": {
      "name": "python"
    }
  },
  "cells": [
    {
      "cell_type": "markdown",
      "source": [
        "# **Tarea N°03: Conteo**"
      ],
      "metadata": {
        "id": "dMRE1DM1VOge"
      }
    },
    {
      "cell_type": "markdown",
      "source": [
        "## **Ejercicio 01**\n",
        "\n",
        "<img src=\"https://drive.google.com/uc?id=1McrF29ZLjzhNENdlRNmJMPxPCu3JrfPU\" width=\"600\" />"
      ],
      "metadata": {
        "id": "BD8F7QN07bu-"
      }
    },
    {
      "cell_type": "code",
      "source": [
        "#Paquetes\n",
        "import numpy as np\n",
        "\n",
        "#Permutacion\n",
        "factorial = lambda n: 1 if n == 0 else n * factorial(n-1)\n",
        "\n",
        "permutations = lambda n,r : np.int32(factorial(n)/factorial(n-r))"
      ],
      "metadata": {
        "id": "5BicKhm47d_d"
      },
      "execution_count": null,
      "outputs": []
    },
    {
      "cell_type": "code",
      "execution_count": null,
      "metadata": {
        "id": "seuM46P1VHMo",
        "colab": {
          "base_uri": "https://localhost:8080/"
        },
        "outputId": "1e75e5ab-f158-4b63-aadc-930a17e920b3"
      },
      "outputs": [
        {
          "output_type": "stream",
          "name": "stdout",
          "text": [
            "-> Cantidad de maneras para formar o ubicar los marcianos entre cada venusino: 30240\n"
          ]
        }
      ],
      "source": [
        "#Problema 19\n",
        "#Datos\n",
        "cantidad_marcianos = 5\n",
        "cantidad_venusinos = 8\n",
        "cantidad_espacios_entre_venusinos = 10\n",
        "\n",
        "#Espacios entre venusinos: _ V1 _ V2 _ V3 _ V4 _ V5 _ V6 _ V7 _ V8 _ V9 _\n",
        "#Dad que que queremos calcular el numero de maneras en que los marcianos pueden ocupar dichos espacios sin que estos esten juntos.\n",
        "\n",
        "#Resultado\n",
        "print(f\"-> Cantidad de maneras para formar o ubicar los marcianos entre cada venusino: {permutations(cantidad_espacios_entre_venusinos,cantidad_marcianos)}\")"
      ]
    },
    {
      "cell_type": "code",
      "source": [
        "#Problema 20\n",
        "#Datos\n",
        "cantidad_marcianos = 5\n",
        "cantidad_mercurianos = 10\n",
        "cantidad_venusinos = 8\n",
        "\n",
        "#Espacios entre mercurianos y venusinos: _ ME1 _ ME2 _ ME3 _ ME4 _ ME5 _ ME6 _ ME7 _ ME8 _ ME9 _ ME10 _ V1 _ V2 _ V3 _ V4 _ V5 _ V6 _ V7 _ V8 _ V9 _\n",
        "#Los marcianos se pueden ubicar en cada uno de los espacios entre los mercuarianos y venusinos, sin que los marcianos no puedan estar juntos.\n",
        "cantidad_espacios_mercurianos_venusinos = 20\n",
        "\n",
        "#Resultado\n",
        "print(f\"-> Cantidad de maneras para formar o ubicar los marcianos entre cada venusino o mercuriano: {permutations(cantidad_espacios_mercurianos_venusinos, cantidad_marcianos)}\")"
      ],
      "metadata": {
        "colab": {
          "base_uri": "https://localhost:8080/"
        },
        "id": "lx-vtW9p5rrE",
        "outputId": "be24c4d3-7efc-478f-972e-8cd9ee37321a"
      },
      "execution_count": null,
      "outputs": [
        {
          "output_type": "stream",
          "name": "stdout",
          "text": [
            "-> Cantidad de maneras para formar o ubicar los marcianos entre cada venusino o mercuriano: 1860480\n"
          ]
        }
      ]
    },
    {
      "cell_type": "markdown",
      "source": [
        "## **Ejercicio 02**\n",
        "\n",
        "\n",
        "<img src=\"https://drive.google.com/uc?id=1YBYcqNFKVjwn8cGwf1Rs7PK-QFI_07R3\" width=\"600\" />"
      ],
      "metadata": {
        "id": "ypAgeauw8ZIk"
      }
    },
    {
      "cell_type": "code",
      "source": [
        "#Paquetes necesarios\n",
        "import numpy as np\n",
        "\n",
        "n_choose_k = lambda n,k :factorial(n)/(factorial(k)*factorial(n-k)) #n!/(n-k)!*k!"
      ],
      "metadata": {
        "id": "0xS7Y_8FBCvK"
      },
      "execution_count": null,
      "outputs": []
    },
    {
      "cell_type": "code",
      "source": [
        "#Problema 29\n",
        "#Se desean formar un comite que contiene 4 integrantes de un grupo de 12 personas.\n",
        "cantidad_personas = 12\n",
        "cantidad_integrantes_comite = 4\n",
        "\n",
        "#Usaremos la combinatoria debido a que no especifica un orden para formar los grupos.\n",
        "combinatoria_comite = n_choose_k(cantidad_personas, cantidad_integrantes_comite)\n",
        "\n",
        "#Resultado\n",
        "print(f\"-> Cantidad de maneras de formar un comite de 4 personas en un grupo de 12 personas: {combinatoria_comite}\")"
      ],
      "metadata": {
        "id": "KUMl-iQs8dYI",
        "colab": {
          "base_uri": "https://localhost:8080/"
        },
        "outputId": "62000d7d-9c86-4adc-ec35-de723585e0e6"
      },
      "execution_count": null,
      "outputs": [
        {
          "output_type": "stream",
          "name": "stdout",
          "text": [
            "-> Cantidad de maneras de formar un comite de 4 personas en un grupo de 12 personas: 495.0\n"
          ]
        }
      ]
    },
    {
      "cell_type": "code",
      "source": [
        "#Problema 30\n",
        "#Primer caso: Elegir 6 numeros entre 44 numeros.\n",
        "cantidad_numeros_caso1 = 44\n",
        "cantidad_numeros_elegir_caso1 = 6\n",
        "\n",
        "#Usaremos combinatoria debido a que no se especifica el orden en el que deben de ser ordenamos o agrupados dichos numeros.\n",
        "combinatoria_numeros_caso1 = n_choose_k(cantidad_numeros_caso1, cantidad_numeros_elegir_caso1)\n",
        "\n",
        "#Resultado\n",
        "print(f\"-> Primer caso: Cantidad de maneras de elegir 6 numeros entre 44 numeros: {combinatoria_numeros_caso1}\")\n",
        "\n",
        "\n",
        "#Segundo caso: Elegir 6 numeros entre 48 numeros.\n",
        "cantidad_numeros_caso2 = 48\n",
        "cantidad_numeros_elegir_caso2 = 6\n",
        "\n",
        "#Usaremos combinatoria debido a que no se especifica el orden en el que deben de ser ordenamos o agrupados dichos numeros.\n",
        "combinatoria_numeros_caso2 = n_choose_k(cantidad_numeros_caso2, cantidad_numeros_elegir_caso2)\n",
        "\n",
        "#Resultado\n",
        "print(f\"-> Segundo caso: Cantidad de maneras de elegir 6 numeros entre 48 numeros: {combinatoria_numeros_caso2}\")"
      ],
      "metadata": {
        "colab": {
          "base_uri": "https://localhost:8080/"
        },
        "id": "oRRTIpYqBlgm",
        "outputId": "d26e0068-78b5-4bde-d3a7-9e34a002948b"
      },
      "execution_count": null,
      "outputs": [
        {
          "output_type": "stream",
          "name": "stdout",
          "text": [
            "-> Primer caso: Cantidad de maneras de elegir 6 numeros entre 44 numeros: 7059052.0\n",
            "-> Primer caso: Cantidad de maneras de elegir 6 numeros entre 48 numeros: 12271512.0\n"
          ]
        }
      ]
    },
    {
      "cell_type": "markdown",
      "source": [
        "## **Ejercicio 03**\n",
        "\n",
        "\n",
        "<img src=\"https://drive.google.com/uc?id=12QTULQrX7p7UsL_QDntMah8gCP-60dSl\" width=\"600\" />\n",
        "\n",
        "\n",
        "**Enunciado traducido:**\n",
        "\n",
        "1. Hay 18 especialidades en matemáticas y 325 especialidades en informática en una universidad.\n",
        "\n",
        "  a) ¿De cuántas maneras se pueden elegir dos representantes?\n",
        "  ¿Para que uno se especialice en matemáticas y el otro en informática?\n",
        "\n",
        "  b) ¿De cuántas maneras se puede elegir a un representante?\n",
        "  ¿Quién se especializa en matemáticas o en informática?\n",
        "\n",
        "2. Un edificio de oficinas tiene 27 pisos y 37 oficinas en cada piso. ¿Cuántas oficinas hay en el edificio?"
      ],
      "metadata": {
        "id": "Y7SHzwtc8eB2"
      }
    },
    {
      "cell_type": "code",
      "source": [
        "#Problema 01\n",
        "cantidad_especialidades_matematica = 18\n",
        "cantidad_especialidades_informatica = 325\n",
        "\n",
        "\n",
        "#Inciso a\n",
        "#Dado que pide un representante de cada area, entonces, podriamos usar una multiplicacion de permutaciones en cada area, ya que la eleccion de un representante de un area no depende de la otra.\n",
        "permutacion_representante_a = permutations(cantidad_especialidades_matematica,1) * permutations(cantidad_especialidades_informatica,1)\n",
        "\n",
        "#Resultado\n",
        "print(f\"-> a) Cantidad de maneras de elegir un representante de matematica y otro de informatica: {permutacion_representante_a}\")\n",
        "\n",
        "#Inciso b\n",
        "#Dado que pide un representante y no especifica si es del area de matematica o informatica, entonces, podriamos usar una suma de permutaciones, ya que tenemos que abarcar todos los casos y sin repeticiones\n",
        "permutacion_representante_b = permutations(cantidad_especialidades_matematica,1) + permutations(cantidad_especialidades_informatica,1)\n",
        "\n",
        "#Resultado\n",
        "print(f\"-> b) Cantidad de maneras de elegir un representante de matematica o de informatica: {permutacion_representante_b}\")"
      ],
      "metadata": {
        "id": "jJgzJipO8gyv",
        "colab": {
          "base_uri": "https://localhost:8080/"
        },
        "outputId": "cc847ea4-e463-4326-e53d-8459f8813fd5"
      },
      "execution_count": null,
      "outputs": [
        {
          "output_type": "stream",
          "name": "stdout",
          "text": [
            "Permutacion: 325\n",
            "-> a) Cantidad de maneras de elegir un representante de matematica y otro de informatica: 5850\n",
            "-> b) Cantidad de maneras de elegir un representante de matematica o de informatica: 343\n"
          ]
        }
      ]
    },
    {
      "cell_type": "code",
      "source": [
        "#Problema 02\n",
        "cantidad_pisos = 27\n",
        "cantidad_oficinas_por_piso = 37\n",
        "\n",
        "#Dado que solo se quiere conocer el numero de oficinas que hay en el edificio, podriamos usar el principio de la multiplicación para determinar dicha cantidad de oficinas\n",
        "cantidad_total_oficinas = cantidad_pisos * cantidad_oficinas_por_piso\n",
        "\n",
        "#Resultado\n",
        "print(f\"-> Cantidad total de oficinas que hay en el edificio: {cantidad_total_oficinas}\")"
      ],
      "metadata": {
        "colab": {
          "base_uri": "https://localhost:8080/"
        },
        "id": "9FitB-q2KMLD",
        "outputId": "8eeed487-43ea-4ed5-fcc6-fc81929b062e"
      },
      "execution_count": null,
      "outputs": [
        {
          "output_type": "stream",
          "name": "stdout",
          "text": [
            "-> Cantidad total de oficinas que hay en el edificio: 999\n"
          ]
        }
      ]
    },
    {
      "cell_type": "markdown",
      "source": [
        "## **Ejercicio 04**\n",
        "\n",
        "\n",
        "<img src=\"https://drive.google.com/uc?id=1Zp5KQ0GWy0EUnsmOPBgwkLQwt6Ko1cde\" width=\"600\"/>\n",
        "\n",
        "\n",
        "**Enunciado traducido:**\n",
        "\n",
        "5. Seis aerolíneas diferentes vuelan desde Nueva York a Denver y\n",
        "siete vuelan de Denver a San Francisco. ¿Cuántos pares diferentes de aerolíneas puedes elegir para reservar un viaje de Nueva York a San Francisco vía Denver, al elegir una aerolínea para el vuelo a Denver y una aerolínea para el vuelo de continuación a San Francisco?\n",
        "\n",
        "6. Hay cuatro rutas automáticas principales de Boston a Detroit y seis de Detroit a Los Ángeles. ¿Cuántas rutas automáticas principales hay de Boston a Los Ángeles vía Detroit?"
      ],
      "metadata": {
        "id": "aTp7yEb_8hcG"
      }
    },
    {
      "cell_type": "code",
      "source": [
        "#Problema 05\n",
        "aerolineas_ny_dnv = 6\n",
        "aerolineas_dnv_sf = 7\n",
        "\n",
        "#Se aplica el principio de la adición porque se necesitan abarcar todos los casos posibles y que ninguna se repita.\n",
        "viaje_ny_sf = aerolineas_ny_dnv + aerolineas_dnv_sf\n",
        "\n",
        "#Resultado\n",
        "print(f\"-> Cantidad de pares diferentes de aerolineas para reservar un viaje de NY a SF via DNV: {viaje_ny_sf}\")"
      ],
      "metadata": {
        "id": "fqUXrQh18krX",
        "colab": {
          "base_uri": "https://localhost:8080/"
        },
        "outputId": "0b25b511-395d-4130-a1fb-67cf5fd9f356"
      },
      "execution_count": null,
      "outputs": [
        {
          "output_type": "stream",
          "name": "stdout",
          "text": [
            "-> Cantidad de pares diferentes de aerolineas para reservar un viaje de NY a SF via DNV: 13\n"
          ]
        }
      ]
    },
    {
      "cell_type": "code",
      "source": [
        "#Problema 06\n",
        "ruta_boston_detroit = 4\n",
        "ruta_detroit_angeles = 6\n",
        "\n",
        "#Se aplica el principio de la adición porque se necesitan abarcar todos los casos posibles y que ninguna se repita.\n",
        "ruta_boston_angeles = ruta_boston_detroit + ruta_detroit_angeles\n",
        "\n",
        "#Resultado\n",
        "print(f\"-> Cantidad de rutas automaticas principales para viajar desde Boston a los Angeles via Detroit: {ruta_boston_angeles}\")"
      ],
      "metadata": {
        "colab": {
          "base_uri": "https://localhost:8080/"
        },
        "id": "5_vH-MnRt8pn",
        "outputId": "af1c974f-c5d0-4fc9-ac57-f5066ee8efc5"
      },
      "execution_count": null,
      "outputs": [
        {
          "output_type": "stream",
          "name": "stdout",
          "text": [
            "-> Cantidad de rutas automaticas principales para viajar desde Boston a los Angeles via Detroit: 10\n"
          ]
        }
      ]
    },
    {
      "cell_type": "markdown",
      "source": [
        "## **Ejercicio 05**\n",
        "\n",
        "\n",
        "<img src=\"https://drive.google.com/uc?id=1V5qia5eIa3cVUygadKAVMukWHS5mvFFx\" width=\"600\" />\n",
        "\n",
        "\n",
        "**Enunciado traducido:**\n",
        "\n",
        "28. ¿Cuántas placas se pueden hacer usando tres dígitos seguidos de tres letras mayúsculas en inglés o tres letras mayúsculas en inglés seguidas de tres dígitos?\n",
        "\n",
        "29. ¿Cuántas placas se pueden hacer usando dos letras mayúsculas en inglés seguidas de cuatro dígitos o dos dígitos seguidos de cuatro letras mayúsculas en inglés?"
      ],
      "metadata": {
        "id": "sqOPzwIY8k95"
      }
    },
    {
      "cell_type": "code",
      "source": [
        "#Problema 28\n",
        "import math\n",
        "\n",
        "numero_digitos = 10\n",
        "numero_letras = 26\n",
        "\n",
        "#Primer caso: Placas que comienzan con 3 digitos seguido de 3 letras mayusculas en ingles\n",
        "#Dado que son 3 digitos y 3 letras\n",
        "suma_digitos_caso1 = math.pow(numero_digitos,3)\n",
        "suma_letras_caso1 = math.pow(numero_letras,3)\n",
        "\n",
        "\n",
        "#Segundo caso: Placas que comienzan con 3 letras mayusculas en ingles seguido de 3 digitos\n",
        "#Dado que son 3 letras y 3 digitos\n",
        "suma_letras_caso2 = math.pow(numero_letras,3)\n",
        "suma_digitos_caso2 = math.pow(numero_digitos,3)\n",
        "\n",
        "\n",
        "#Resultado\n",
        "resultado = suma_digitos_caso1*suma_letras_caso1 + suma_letras_caso2*suma_digitos_caso2\n",
        "print(f\"-> 28) Numero de combinaciones o maneras de formar usando 3 digitos seguidos de 3 letras o 3 letras seguido de 3 digitos: {int(resultado)}\")"
      ],
      "metadata": {
        "id": "t-UxNFON9Zt_",
        "colab": {
          "base_uri": "https://localhost:8080/"
        },
        "outputId": "6ebdccba-a7d4-4f76-bcef-299c04de81a0"
      },
      "execution_count": null,
      "outputs": [
        {
          "output_type": "stream",
          "name": "stdout",
          "text": [
            "-> Numero de combinaciones o maneras de formar usando 3 digitos seguidos de 3 letras o 3 letras seguido de 3 digitos: 35152000\n"
          ]
        }
      ]
    },
    {
      "cell_type": "code",
      "source": [
        "#Problema 29\n",
        "numero_digitos = 10\n",
        "numero_letras = 26\n",
        "\n",
        "#Primer caso: Placas que comienzan con 2 letras mayusculas seguido de 4 digitos\n",
        "#Dado que son 2 letras y 4 digitos\n",
        "suma_letras_caso1 = math.pow(numero_letras,2)\n",
        "suma_digitos_caso1 = math.pow(numero_digitos,4)\n",
        "\n",
        "\n",
        "#Segundo caso: Placas que comienzan con 2 digitos seguido de 4 letras mayusculas\n",
        "#Dado que son 2 digitos y 4 letras\n",
        "suma_digitos_caso2 = math.pow(numero_digitos,2)\n",
        "suma_letras_caso2 = math.pow(numero_letras,4)\n",
        "\n",
        "\n",
        "#Resultado\n",
        "resultado = suma_digitos_caso1*suma_letras_caso1 + suma_letras_caso2*suma_digitos_caso2\n",
        "print(f\"-> 29) Numero de combinaciones o maneras de formar usando 2 letras mayusculas seguidos de 4 digitos o 2 digitos seguido de 4 letras mayusculas: {int(resultado)}\")"
      ],
      "metadata": {
        "colab": {
          "base_uri": "https://localhost:8080/"
        },
        "id": "UJGcEHfh1cSt",
        "outputId": "e055fb34-3187-4caf-e19a-0749f60ed647"
      },
      "execution_count": null,
      "outputs": [
        {
          "output_type": "stream",
          "name": "stdout",
          "text": [
            "-> 29) Numero de combinaciones o maneras de formar usando 2 letras mayusculas seguidos de 4 digitos o 2 digitos seguido de 4 letras mayusculas: 52457600\n"
          ]
        }
      ]
    },
    {
      "cell_type": "markdown",
      "source": [
        "## **Ejercicio 06**\n",
        "\n",
        "\n",
        "<img src=\"https://drive.google.com/uc?id=13t0scv7ru1P730wulSGWGeQKm3yffQVu\" width=\"800\" />\n",
        "\n",
        "**Enunciado traducido:**\n",
        "\n",
        "6.2. ¿De cuántas maneras diferentes podemos sentar a 9 filósofos distintos alrededor de una mesa redonda? Puede suponer que las sillas son indistinguibles. Comience afirmando, al menos de dos maneras diferentes, lo que significa que dos disposiciones de asientos sean diferentes."
      ],
      "metadata": {
        "id": "5bdYF6h_8oIe"
      }
    },
    {
      "cell_type": "code",
      "source": [
        "#Problema 6.2\n",
        "cantidad_filosofos = 9\n",
        "\n",
        "#Podemos calcularlo mediante permutaciones circulares, es cual nos menciona que en una disposición circular, la primera persona\n",
        "#puede sentarse en cualquiera de las n sillas, pero una vez que haya ocupado un asiento, la disposicion se fija y las demas solo\n",
        "#pueden permutarse en (n-1)! formas diferentes.\n",
        "\n",
        "permutacion_circular = factorial(cantidad_filosofos-1)\n",
        "\n",
        "print(f\"-> Numeros de formas de sentar a 9 filosofos en una mesa redonda: {permutacion_circular}\")"
      ],
      "metadata": {
        "id": "yeewXDO88nhM",
        "colab": {
          "base_uri": "https://localhost:8080/"
        },
        "outputId": "a2a2e242-0a97-4bb6-f27f-e964bf954511"
      },
      "execution_count": null,
      "outputs": [
        {
          "output_type": "stream",
          "name": "stdout",
          "text": [
            "-> Numeros de formas de sentar a 9 filosofos en una mesa redonda: 40320\n"
          ]
        }
      ]
    },
    {
      "cell_type": "markdown",
      "source": [
        "## **Ejercicio 07**\n",
        "\n",
        "\n",
        "<img src=\"https://drive.google.com/uc?id=1NzkTvwdERlm1gVqGUUnueqUJxEmWGWPN\" width=\"800\" />"
      ],
      "metadata": {
        "id": "_e38YnI48qa0"
      }
    },
    {
      "cell_type": "code",
      "source": [
        "#Problema 01\n",
        "tienda1_discos = 8\n",
        "tienda2_discos = 6\n",
        "tienda3_discos = 9\n",
        "\n",
        "#Dado que solo va comprar un disco si solo elige una tienda, entonces, podemos aplicar el principio de adicion.\n",
        "numero_opciones = tienda1_discos + tienda2_discos + tienda3_discos\n",
        "\n",
        "print(f\"-> Numero de formas de elegir un disco si solo elige una tienda de las 3 tiendas que venden discos: {numero_opciones}\")"
      ],
      "metadata": {
        "id": "APFCclVt8tZC",
        "colab": {
          "base_uri": "https://localhost:8080/"
        },
        "outputId": "13ab4f32-c253-4aad-9f60-1b5e45babdc4"
      },
      "execution_count": null,
      "outputs": [
        {
          "output_type": "stream",
          "name": "stdout",
          "text": [
            "-> Numero de formas de elegir un disco si solo elige una tienda de las 3 tiendas que venden discos: 23\n"
          ]
        }
      ]
    },
    {
      "cell_type": "code",
      "source": [
        "#Problema 02\n",
        "numero_lados = 6\n",
        "\n",
        "print(f\"-> Numero de posibles resultados diferentes: {numero_lados}\")"
      ],
      "metadata": {
        "colab": {
          "base_uri": "https://localhost:8080/"
        },
        "id": "bDrjyvenTkVS",
        "outputId": "b7e6b9db-d1ae-446d-f694-990d82197932"
      },
      "execution_count": null,
      "outputs": [
        {
          "output_type": "stream",
          "name": "stdout",
          "text": [
            "-> Numero de posibles resultados diferentes: 6\n"
          ]
        }
      ]
    },
    {
      "cell_type": "code",
      "source": [
        "#Problema 03\n",
        "numero_lados = 6\n",
        "\n",
        "#Dado que se estan lanzando dos veces, podemos aplicar el principio de multiplicación, ya que cada lanzamiento es independiente del otro.\n",
        "numeros_posibles_resultados = numero_lados * numero_lados\n",
        "\n",
        "print(f\"-> Numero de posibles resultados luego de lanzar 2 veces un dado de 6 lados: {numeros_posibles_resultados}\")"
      ],
      "metadata": {
        "colab": {
          "base_uri": "https://localhost:8080/"
        },
        "id": "RXwwyfHcTl--",
        "outputId": "ec28a7f6-8458-4751-88eb-de6519eaacaa"
      },
      "execution_count": null,
      "outputs": [
        {
          "output_type": "stream",
          "name": "stdout",
          "text": [
            "-> Numero de posibles resultados luego de lanzar 2 veces un dado de 6 lados: 36\n"
          ]
        }
      ]
    },
    {
      "cell_type": "markdown",
      "source": [
        "## **Ejercicio 08**\n",
        "\n",
        "\n",
        "<img src=\"https://drive.google.com/uc?id=1mpJWiOPgRzpmLT5uHk1Fu2r0c8BAHdL3\" width=\"800\" />"
      ],
      "metadata": {
        "id": "yvmytHW-8uBc"
      }
    },
    {
      "cell_type": "code",
      "source": [
        "#Problema 05\n",
        "tienda1_producto_belleza = 12\n",
        "tienda2_producto_belleza = 4\n",
        "tienda3_producto_belleza = 7\n",
        "\n",
        "#Dado que va comprar un producto de belleza en cada tienda, entonces, podemos aplicar el principio de multiplicacion.\n",
        "numero_opciones = tienda1_producto_belleza * tienda2_producto_belleza * tienda3_producto_belleza\n",
        "\n",
        "print(f\"-> Numero de formas de comprar un producto de belleza en cada una de las 3 tiendas de sus amigas: {numero_opciones}\")"
      ],
      "metadata": {
        "id": "Xg3smLxx9PCy",
        "colab": {
          "base_uri": "https://localhost:8080/"
        },
        "outputId": "2df7bc17-3a3d-464b-8716-7780159f769b"
      },
      "execution_count": null,
      "outputs": [
        {
          "output_type": "stream",
          "name": "stdout",
          "text": [
            "-> Numero de formas de comprar un producto de belleza en cada una de las 3 tiendas de sus amigas: 336\n"
          ]
        }
      ]
    },
    {
      "cell_type": "code",
      "source": [
        "#Problema 06\n",
        "#Usaremos un formula para hallar el numero de diagonales de un poligono, sabiendo su numero de lados.\n",
        "#Formula: [n(n-3)]/2 donde n es el numero de lados\n",
        "\n",
        "numero_lados_poligono = int(input(\"Ingresa el numero de lados del poligono: \"))\n",
        "\n",
        "if numero_lados_poligono>0:\n",
        "  numero_diagonales = (numero_lados_poligono*(numero_lados_poligono-3))/2\n",
        "  print(f\"-> Numero de diagonales de un poligono de {numero_lados_poligono} lados: {numero_diagonales}\")\n",
        "else:\n",
        "  print(f\"Error, el numero de lados del poligono no puede ser negativo o 0\")"
      ],
      "metadata": {
        "colab": {
          "base_uri": "https://localhost:8080/"
        },
        "id": "y-KHhBhjTq5L",
        "outputId": "7ddd5ec6-59ef-4d7b-9197-276696951a7b"
      },
      "execution_count": null,
      "outputs": [
        {
          "output_type": "stream",
          "name": "stdout",
          "text": [
            "Ingresa el numero de lados del poligono: 15\n",
            "-> Numero de diagonales de un poligono de 15 lados: 90.0\n"
          ]
        }
      ]
    },
    {
      "cell_type": "code",
      "source": [
        "#Problema 07\n",
        "import math\n",
        "#Usaremos un formula para hallar el numero de cadenas diferentes de 7 bits o n bits\n",
        "#Formula: 2^n donde n es el numero de bits de las cadenas\n",
        "\n",
        "numero_bits = int(input(\"Ingresa el numero de bits de una cadena: \"))\n",
        "\n",
        "if numero_bits>0:\n",
        "  numero_cadenas_diferentes = math.pow(2, numero_bits)\n",
        "  print(f\"-> Numero de cadenas diferentes de {numero_bits} bits: {numero_cadenas_diferentes}\")\n",
        "else:\n",
        "  print(f\"Error, el numero de bits no puede ser negativo o 0\")"
      ],
      "metadata": {
        "colab": {
          "base_uri": "https://localhost:8080/"
        },
        "id": "Z155OAVCTsV9",
        "outputId": "5ecf7159-4652-4421-9ba1-d12ad33ad3de"
      },
      "execution_count": null,
      "outputs": [
        {
          "output_type": "stream",
          "name": "stdout",
          "text": [
            "Ingresa el numero de bits de una cadena: 7\n",
            "-> Numero de cadenas diferentes de 7 bits: 128.0\n"
          ]
        }
      ]
    },
    {
      "cell_type": "markdown",
      "source": [
        "## **Ejercicio 09**\n",
        "\n",
        "\n",
        "<img src=\"https://drive.google.com/uc?id=160FympcNiNiIGyaYcOCjMtA1kfl5X2L0\" width=\"800\" />"
      ],
      "metadata": {
        "id": "aUOpOG7F9RK8"
      }
    },
    {
      "cell_type": "code",
      "source": [
        "#Problema 13\n",
        "import math\n",
        "\n",
        "numero_interruptores = 10\n",
        "#Dado que un interruptor puede estar encendido o apagado, entonces, puede estar en dos estados, por lo tanto, 2^n donde n es la cantidad de interruptores.\n",
        "\n",
        "#Inciso a\n",
        "print(f\"-> a) Numero de formas diferentes en el que los interruptores pueden estar en los estados: {math.pow(2,numero_interruptores)}\")\n",
        "\n",
        "#Inciso b\n",
        "interruptores_encendidos = 3\n",
        "interruptores_apagados = 7\n",
        "combinatoria_encendido = n_choose_k(numero_interruptores, interruptores_encendidos)\n",
        "combinatoria_apagado = n_choose_k(numero_interruptores, interruptores_apagados)\n",
        "#Ambas combinatorias son iguales\n",
        "print(f\"-> b) Numero de formas diferentes en el que 3 interruptores estan encendidos y 7 apagados: {combinatoria_encendido}\")\n",
        "\n",
        "\n",
        "#Inciso c\n",
        "#Dado que pide al menos 6 interruptes encendidos, entonces calculamos la combinatoria de al menos 6 interruptes. Luego, sumamos las combinatorias y restamos el numero de formas diferentes en el que los interruptores pueden estar (encendido o apagado).\n",
        "sumatoria = n_choose_k(numero_interruptores,1) + n_choose_k(numero_interruptores,2) + n_choose_k(numero_interruptores,3) + n_choose_k(numero_interruptores,4) + n_choose_k(numero_interruptores,5) + n_choose_k(numero_interruptores,6)\n",
        "formas_diferentes_interruptores = math.pow(2,numero_interruptores)\n",
        "print(f\"-> c) Numero de formas diferentes en el que al menos 6 estan encendidos: {formas_diferentes_interruptores - sumatoria}\")"
      ],
      "metadata": {
        "colab": {
          "base_uri": "https://localhost:8080/"
        },
        "id": "6ztx0esQTxSB",
        "outputId": "2e31840e-d623-4c74-8919-573e642400bb"
      },
      "execution_count": null,
      "outputs": [
        {
          "output_type": "stream",
          "name": "stdout",
          "text": [
            "-> a) Numero de formas diferentes en el que los interruptores pueden estar en los estados: 1024.0\n",
            "-> b) Numero de formas diferentes en el que 3 interruptores estan encendidos y 7 apagados: 120.0\n",
            "-> c) Numero de formas diferentes en el que al menos 6 estan encendidos: 177.0\n"
          ]
        }
      ]
    },
    {
      "cell_type": "markdown",
      "source": [
        "## **Ejercicio 10**\n",
        "\n",
        "<img src=\"https://drive.google.com/uc?id=15BBUEPmJ9hzcyME5nXVxFK9dFHBLNA1z\" width=\"800\" />"
      ],
      "metadata": {
        "id": "kqdhHaCD9U3B"
      }
    },
    {
      "cell_type": "code",
      "source": [
        "#Problema 16\n",
        "cantidad_ninas = 15\n",
        "cantidad_ninos = 12\n",
        "\n",
        "integrantes_grupos = 5\n",
        "\n",
        "#Inciso a\n",
        "#Podemos usar combinaciones para formar un grupo de 5 integrantes que sean solo niñas\n",
        "comite_ninas = n_choose_k(cantidad_ninas, integrantes_grupos)\n",
        "print(f\"-> a) Cantidad de maneras o formas de conformar un grupo de 5 integrantes que sean solo niñas: {comite_ninas}\")\n",
        "\n",
        "\n",
        "#Inciso b\n",
        "#Podemos usar combinaciones para formar un grupo de 5 integrantes que sean solo niños\n",
        "comite_ninos = n_choose_k(cantidad_ninos, integrantes_grupos)\n",
        "print(f\"-> b) Cantidad de maneras o formas de conformar un grupo de 5 integrantes que sean solo niños: {comite_ninos}\")\n",
        "\n",
        "\n",
        "#Inciso c\n",
        "#Podemos usar combinaciones para formar un grupo de 5 integrantes que sean del mismo sexo\n",
        "print(f\"-> c) Cantidad de maneras o formas de conformar un grupo de 5 integrantes que sean del mismo sexo: {comite_ninas + comite_ninos}\")\n",
        "\n",
        "\n",
        "#Inciso d\n",
        "#Podemos usar combinaciones para formar un grupo de 5 integrantes que sean solo niñas\n",
        "comite_3ninas = n_choose_k(cantidad_ninas, 3)\n",
        "comite_2ninos = n_choose_k(cantidad_ninos, 2)\n",
        "print(f\"-> d) Cantidad de maneras o formas de conformar un grupo de 5 integrantes que sean 3 niñas y 2 niños: {comite_3ninas * comite_2ninos}\")"
      ],
      "metadata": {
        "id": "C0Or3YNX9X9T",
        "colab": {
          "base_uri": "https://localhost:8080/"
        },
        "outputId": "eba904b8-3fa0-492f-ead1-d69a49212127"
      },
      "execution_count": null,
      "outputs": [
        {
          "output_type": "stream",
          "name": "stdout",
          "text": [
            "-> a) Cantidad de maneras o formas de conformar un grupo de 5 integrantes que sean solo niñas: 3003.0\n",
            "-> b) Cantidad de maneras o formas de conformar un grupo de 5 integrantes que sean solo niños: 792.0\n",
            "-> c) Cantidad de maneras o formas de conformar un grupo de 5 integrantes que sean del mismo sexo: 3795.0\n",
            "-> d) Cantidad de maneras o formas de conformar un grupo de 5 integrantes que sean 3 niñas y 2 niños: 30030.0\n"
          ]
        }
      ]
    },
    {
      "cell_type": "markdown",
      "source": [
        "## **Ejercicio 11**\n",
        "\n",
        "<img src=\"https://drive.google.com/uc?id=16EqEES_DsMEe3ONH-FYaA7_cFm_V5n7T\" width=\"600\" />\n",
        "\n",
        "\n",
        "**Enunciado traducido:**\n",
        "\n",
        "8. A una persona que compra un sistema de computadora personal se le ofrece elegir entre tres modelos de unidad básica, dos modelos de teclado y dos modelos de impresora. ¿Cuántos sistemas distintos se pueden comprar?\n",
        "9. Supongamos que hay tres caminos de la ciudad A a la ciudad B y cinco caminos de la ciudad B a la ciudad C.\n",
        "\n",
        "  a. ¿De cuántas maneras es posible viajar de la ciudad A a la ciudad C pasando por la ciudad B?\n",
        "\n",
        "  b. ¿Cuántas rutas diferentes de ida y vuelta hay desde la ciudad A a B, a C a B y de regreso a A?\n",
        "\n",
        "  C. ¿Cuántas rutas diferentes hay de la ciudad A a B, de C a B y de regreso a A en las que ningún camino se recorre dos veces?"
      ],
      "metadata": {
        "id": "7er7eGozHkYI"
      }
    },
    {
      "cell_type": "code",
      "source": [
        "#Problema 08\n",
        "unidades_basicas = 3\n",
        "modelos_teclados = 2\n",
        "modelos_impresoras = 2\n",
        "\n",
        "#Dado que el usuario o cliente puede elegir, entonces, podemos aplicar el principio de la multiplicacion para realizar coombinaciones y formas distintos sistemas\n",
        "producto = unidades_basicas * modelos_teclados * modelos_impresoras\n",
        "print(f\"-> Numero de sistemas con componentes diferentes: {producto}\")"
      ],
      "metadata": {
        "id": "sJ1Jq47tHn3t",
        "colab": {
          "base_uri": "https://localhost:8080/"
        },
        "outputId": "faed400d-a9ee-4101-ffc6-99616cabccf0"
      },
      "execution_count": null,
      "outputs": [
        {
          "output_type": "stream",
          "name": "stdout",
          "text": [
            "-> Numero de sistemas con componentes diferentes: 12\n"
          ]
        }
      ]
    },
    {
      "cell_type": "code",
      "source": [
        "#Problema 09\n",
        "caminos_a_b = 3\n",
        "caminos_b_c = 5\n",
        "\n",
        "#Inciso a\n",
        "caminos_totales = caminos_a_b * caminos_b_c\n",
        "print(f\"-> a) Numero de formas de viajar de la ciudad A a la ciudad C pasando por la ciudad B: {caminos_totales}\")\n",
        "\n",
        "#Inciso b\n",
        "caminos_diferentes = (caminos_a_b * caminos_b_c * (caminos_a_b + caminos_b_c))*2\n",
        "print(f\"-> b) Numero de formas diferentes de ida y vuelta desde la ciudad A a la ciudad B, desde la ciudad B a la ciudad C y desde la ciudad C hasta la ciudad A: {caminos_diferentes}\")\n",
        "\n",
        "#Inciso c\n",
        "#Numero de rutas de A a B: 3 caminos de A a B.\n",
        "#Numero de rutas de B a C: 5 caminos de B a C.\n",
        "#Numero de rutas de C a B: Dado que no se puede repetir el camino de B a C, hay que restar el numero de caminos de C a B menos el camino que tomamos: 5 - 1 = 4 caminos de C a B.\n",
        "#Numero de rutas de B a A: 3 caminos de B a A.\n",
        "caminos_diferentes_sin_repeticion = caminos_a_b * caminos_b_c * (caminos_b_c - 1) * caminos_a_b\n",
        "print(f\"-> c) Numero de formas diferentes para ir desde A hasta B, desde B hasta C, desde C hasta B y desde B hasta A sin que se recorra dos veces un mismo camino: {caminos_diferentes_sin_repeticion}\")"
      ],
      "metadata": {
        "colab": {
          "base_uri": "https://localhost:8080/"
        },
        "id": "v7ZIjnkoRona",
        "outputId": "cda79d44-abaf-4b2c-b828-2999bb89e663"
      },
      "execution_count": null,
      "outputs": [
        {
          "output_type": "stream",
          "name": "stdout",
          "text": [
            "-> a) Numero de formas de viajar de la ciudad A a la ciudad C pasando por la ciudad B: 15\n",
            "-> b) Numero de formas diferentes de ida y vuelta desde la ciudad A a la ciudad B, desde la ciudad B a la ciudad C y desde la ciudad C hasta la ciudad A: 240\n",
            "-> c) Numero de formas diferentes para ir desde A hasta B, desde B hasta C, desde C hasta B y desde B hasta A sin que se recorra dos veces un mismo camino: 180\n"
          ]
        }
      ]
    },
    {
      "cell_type": "markdown",
      "source": [
        "## **Ejercicio 12**\n",
        "\n",
        "<img src=\"https://drive.google.com/uc?id=14BN2MKQdxPIhzfOPVg7StGejW6O7BVzR\" width=\"600\" />\n",
        "\n",
        "\n",
        "**Enunciado traducido:**\n",
        "\n",
        "6. En cierto estado, las placas constan de cero a tres letras seguidas de cero a cuatro dígitos, con la condición, sin embargo, de que no se permite una placa en blanco.\n",
        "\n",
        "  a. ¿Cuántas matrículas diferentes puede producir el estado?\n",
        "\n",
        "  b. Supongamos que no se permiten combinaciones de 85 letras debido a su potencial ofensivo. ¿Cuántas matrículas diferentes puede producir el estado?"
      ],
      "metadata": {
        "id": "gFnjg_GoHodD"
      }
    },
    {
      "cell_type": "code",
      "source": [
        "#Problema 6\n",
        "#Combinaciones de letras\n",
        "combinaciones_letras = sum(n_choose_k(26, i) for i in range(4))\n",
        "\n",
        "#Combinaciones de dígitos\n",
        "combinaciones_digitos = sum(n_choose_k(10, i) for i in range(5))\n",
        "\n",
        "#Total de matriculas\n",
        "total_matriculas = combinaciones_letras * combinaciones_digitos - 1\n",
        "\n",
        "#Excluir combinaciones ofensivas de 85 letras\n",
        "total_matriculas_sin_85 = total_matriculas - n_choose_k(26,3)\n",
        "\n",
        "print(f\"-> a) Numero total de matriculas posibles: {total_matriculas}\")\n",
        "print(f\"-> b) Numero total de matriculas sin combinaciones ofensivas de 85 letras: {total_matriculas_sin_85}\")"
      ],
      "metadata": {
        "id": "WTbL-ulOHqoX",
        "colab": {
          "base_uri": "https://localhost:8080/"
        },
        "outputId": "645b5ff7-ff20-47d2-af12-36ca07fa2d9e"
      },
      "execution_count": null,
      "outputs": [
        {
          "output_type": "stream",
          "name": "stdout",
          "text": [
            "-> a) Numero total de matriculas posibles: 1139471.0\n",
            "-> b) Numero total de matriculas sin combinaciones ofensivas de 85 letras: 1136871.0\n"
          ]
        }
      ]
    },
    {
      "cell_type": "markdown",
      "source": [
        "## **Ejercicio 13**\n",
        "\n",
        "\n",
        "<img src=\"https://drive.google.com/uc?id=10eS4nkbgo8TAFmowhfNOcKN9SctuJ2cG\" width=\"600\" />\n",
        "\n",
        "\n",
        "**Enunciado traducido:**\n",
        "\n",
        "\n",
        "7. En otro estado, todas las placas constan de cuatro a seis símbolos elegidos entre las 26 letras del alfabeto junto con los diez dígitos del 0 al 9.\n",
        "\n",
        "  a. ¿Cuántas matrículas son posibles si se permite la repetición de símbolos?\n",
        "\n",
        "  b. ¿Cuántas matrículas no contienen ningún símbolo repetido?\n",
        "\n",
        "  c. ¿Cuántas matrículas tienen al menos un símbolo repetido?\n",
        "\n",
        "  d. ¿Cuál es la probabilidad de que una placa elegida al azar tenga un símbolo repetido?"
      ],
      "metadata": {
        "id": "Xsr3aIujHrJM"
      }
    },
    {
      "cell_type": "code",
      "source": [
        "#Problema 07\n",
        "#Calcula las combinaciones con repeticion\n",
        "def combinaciones_con_repeticion(n, r):\n",
        "    return n**r\n",
        "\n",
        "#Calcula las combinaciones sin repeticion\n",
        "def combinaciones_sin_repeticion(n, r):\n",
        "    return n_choose_k(n,r)\n",
        "\n",
        "#Inciso a\n",
        "total_a = sum(combinaciones_con_repeticion(36, i) for i in range(4, 7))\n",
        "print(f\"-> a) Numero total de matriculas posibles permitiendo la repetición de simbolos: {total_a}\")\n",
        "\n",
        "#Inciso b\n",
        "total_b = sum(combinaciones_sin_repeticion(36, i) for i in range(4, 7))\n",
        "print(f\"-> b) Numero total de matriculas que no contienen ningún simbolo repetido: {total_b}\")\n",
        "\n",
        "#Inciso c\n",
        "total_c = total_a - total_b\n",
        "print(f\"-> c) Numero total de matriculas que tienen al menos un simbolo repetido: {total_c}\")\n",
        "\n",
        "#Inciso d\n",
        "probabilidad_d = total_c / total_a\n",
        "print(f\"-> d) Probabilidad de que una placa elegida al azar tenga un simbolo repetido: {probabilidad_d}\")"
      ],
      "metadata": {
        "id": "pEGyFwRUHuMn",
        "colab": {
          "base_uri": "https://localhost:8080/"
        },
        "outputId": "5ca80888-283d-4da2-d7dc-d438788e5522"
      },
      "execution_count": null,
      "outputs": [
        {
          "output_type": "stream",
          "name": "stdout",
          "text": [
            "-> a. Numero total de matriculas posibles permitiendo la repetición de simbolos: 2238928128\n",
            "-> b. Numero total de matriculas que no contienen ningún simbolo repetido: 2383689.0\n",
            "-> c. Numero total de matriculas que tienen al menos un simbolo repetido: 2236544439.0\n",
            "-> d. Probabilidad de que una placa elegida al azar tenga un simbolo repetido: 0.9989353436717375\n"
          ]
        }
      ]
    },
    {
      "cell_type": "markdown",
      "source": [
        "## **Ejercicio 14**\n",
        "\n",
        "\n",
        "<img src=\"https://drive.google.com/uc?id=1vjmRXfS28ubOxzuXmVhIOJ2cuo_4bswG\" width=\"600\" />\n",
        "\n",
        "\n",
        "**Enunciado traducido:**\n",
        "8. Un instructor da un examen con catorce preguntas. Los estudiantes pueden elegir diez para responder.\n",
        "\n",
        "  a. ¿Cuántas opciones diferentes de diez preguntas hay?\n",
        "\n",
        "  b. Supongamos que seis preguntas requieren prueba y ocho no.\n",
        "\n",
        "    (i) ¿Cuántos grupos de diez preguntas contienen cuatro que requieren prueba y seis que no?\n",
        "\n",
        "    (ii) ¿Cuántos grupos de diez preguntas contienen al menos una que requiere prueba?\n",
        "\n",
        "    (iii) ¿Cuántos grupos de diez preguntas contienen como máximo tres que requieren prueba?\n",
        "\n",
        "  c. Supongamos que las instrucciones del examen especifican que como máximo una de las preguntas 1 y 2 puede incluirse entre las diez. ¿Cuántas opciones diferentes de diez preguntas hay?\n",
        "\n",
        "  d. Supongamos que las instrucciones del examen especifican que las preguntas 1 y 2 deben incluirse entre las diez o que ninguna de las dos debe incluirse. ¿Cuántas opciones diferentes de diez preguntas hay?\n",
        "\n"
      ],
      "metadata": {
        "id": "PFH0v1p-Humu"
      }
    },
    {
      "cell_type": "code",
      "source": [
        "#Problema 08\n",
        "#Inciso a\n",
        "opciones_a = n_choose_k(14,10)\n",
        "print(f\"-> a) Opciones diferentes de diez preguntas entre catorce: {opciones_a}\")\n",
        "\n",
        "#Inciso b\n",
        "opciones_b_i = n_choose_k(6,4) * n_choose_k(8,6)\n",
        "print(f\"-> b) (i) Grupos de diez preguntas con cuatro de prueba y seis no: {opciones_b_i}\")\n",
        "\n",
        "opciones_b_ii = opciones_a - n_choose_k(8, 10)\n",
        "print(f\"-> b) (ii) Grupos de diez preguntas con al menos una de prueba: {opciones_b_ii}\")\n",
        "\n",
        "opciones_b_iii = sum(n_choose_k(6, i) * n_choose_k(8, 10 - i) for i in range(4))\n",
        "print(f\"-> b) (iii) Grupos de diez preguntas con como máximo tres de prueba: {opciones_b_iii}\")\n",
        "\n",
        "#Inciso c\n",
        "opciones_c = n_choose_k(14, 10) - n_choose_k(12, 8)\n",
        "print(f\"-> c) Opciones diferentes de diez preguntas con máximo una de las preguntas 1 y 2: {opciones_c}\")\n",
        "\n",
        "#Inciso d\n",
        "opciones_d = n_choose_k(14, 10) - n_choose_k(12, 8) + n_choose_k(12, 8)\n",
        "print(f\"-> d) Opciones diferentes de diez preguntas con ambas preguntas 1 y 2 o ninguna de las dos: {opciones_d}\")"
      ],
      "metadata": {
        "id": "6OQFodYvHxUr"
      },
      "execution_count": null,
      "outputs": []
    },
    {
      "cell_type": "markdown",
      "source": [
        "## **Ejercicio 15**\n",
        "\n",
        "\n",
        "<img src=\"https://drive.google.com/uc?id=1PsQ--SVoDNQRuLaamZukAMZnTc_gghqM\" width=\"700\" />\n",
        "\n",
        "\n",
        "**Enunciado traducido:**\n",
        "\n",
        "6. Un consejo estudiantil está formado por 15 estudiantes.\n",
        "\n",
        "  a. ¿De cuántas maneras se puede seleccionar un comité de seis entre los miembros del consejo?\n",
        "\n",
        "  b. Dos miembros del consejo tienen la misma especialidad y no se les permite servir juntos en un comité. ¿De cuántas maneras se puede seleccionar un comité de seis entre los miembros del consejo?\n",
        "\n",
        "  c. Dos miembros del consejo siempre insisten en servir juntos en los comités. Si no pueden servir juntos, no servirán en absoluto. ¿De cuántas maneras se puede seleccionar un comité de seis entre los miembros del consejo?\n",
        "\n",
        "  d. Supongamos que el consejo está formado por ocho hombres y siete mujeres.\n",
        "\n",
        "  (i) ¿Cuántos comités de seis contienen tres hombres y tres mujeres?\n",
        "\n",
        "  (ii) ¿Cuántos comités de seis integran al menos una mujer?\n",
        "\n",
        "  e. Supongamos que el consejo está formado por tres estudiantes de primer año, cuatro de segundo, tres de tercer y cinco de último año. ¿Cuántos comités de ocho contienen dos representantes de cada clase?"
      ],
      "metadata": {
        "id": "6g9EN0wlHx6F"
      }
    },
    {
      "cell_type": "code",
      "source": [
        "#Problema 06\n",
        "#Realizamos una combinatoria, ya que no especificaron el orden de los grupos.\n",
        "#Inciso a\n",
        "opciones_a = n_choose_k(15, 6)\n",
        "print(f\"-> a) Maneras de seleccionar un comité de seis entre los 15 miembros del consejo: {opciones_a}\")\n",
        "\n",
        "#Inciso b\n",
        "opciones_b = n_choose_k(15, 6) - n_choose_k(13, 4)\n",
        "print(f\"-> b) Maneras de seleccionar un comité de seis donde dos miembros con la misma especialidad no pueden servir juntos: {opciones_b}\")\n",
        "\n",
        "#Inciso c\n",
        "opciones_c = n_choose_k(13, 6)\n",
        "print(f\"-> c) Maneras de seleccionar un comité de seis si dos miembros siempre deben estar juntos: {opciones_c}\")\n",
        "\n",
        "#Inciso d\n",
        "#i)\n",
        "opciones_d_i = n_choose_k(8, 3) * n_choose_k(7, 3)\n",
        "print(f\"-> d) (i) Comités de seis con tres hombres y tres mujeres: {opciones_d_i}\")\n",
        "\n",
        "#ii)\n",
        "opciones_d_ii = n_choose_k(15, 6) - n_choose_k(8, 6)\n",
        "print(f\"-> d) (ii) Comités de seis con al menos una mujer: {opciones_d_ii}\")\n",
        "\n",
        "#Inciso e\n",
        "opciones_e = n_choose_k(3, 2) * n_choose_k(4, 2) * n_choose_k(3, 2) * n_choose_k(5, 2)\n",
        "print(f\"-> e) Comités de ocho con dos representantes de cada clase: {opciones_e}\")"
      ],
      "metadata": {
        "id": "MKqg0NMkH1DS",
        "colab": {
          "base_uri": "https://localhost:8080/"
        },
        "outputId": "43a69eea-2ff4-44e6-a1bb-20a30f57e025"
      },
      "execution_count": null,
      "outputs": [
        {
          "output_type": "stream",
          "name": "stdout",
          "text": [
            "-> a. Maneras de seleccionar un comité de seis entre los 15 miembros del consejo: 5005.0\n",
            "-> b. Maneras de seleccionar un comité de seis donde dos miembros con la misma especialidad no pueden servir juntos: 4290.0\n",
            "-> c. Maneras de seleccionar un comité de seis si dos miembros siempre deben estar juntos: 1716.0\n",
            "-> d. (i) Comités de seis con tres hombres y tres mujeres: 1960.0\n",
            "-> d. (ii) Comités de seis con al menos una mujer: 4977.0\n",
            "-> e. Comités de ocho con dos representantes de cada clase: 540.0\n"
          ]
        }
      ]
    }
  ]
}