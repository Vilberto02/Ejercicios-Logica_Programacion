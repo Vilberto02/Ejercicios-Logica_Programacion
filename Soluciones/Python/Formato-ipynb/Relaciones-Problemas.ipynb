{
  "nbformat": 4,
  "nbformat_minor": 0,
  "metadata": {
    "colab": {
      "provenance": []
    },
    "kernelspec": {
      "name": "python3",
      "display_name": "Python 3"
    },
    "language_info": {
      "name": "python"
    }
  },
  "cells": [
    {
      "cell_type": "markdown",
      "source": [
        "# **Ejemplos**"
      ],
      "metadata": {
        "id": "u7gx9OYtQx68"
      }
    },
    {
      "cell_type": "code",
      "source": [
        "# Librerias\n",
        "import matplotlib.pyplot as plt\n",
        "import networkx as nx"
      ],
      "metadata": {
        "id": "y51gH1e_25_-"
      },
      "execution_count": null,
      "outputs": []
    },
    {
      "cell_type": "code",
      "source": [
        "#Funciones\n",
        "def es_transitiva(relacion, conjunto):\n",
        "    \"\"\" Verificar si una relación es transitiva \"\"\"\n",
        "    R = set(relacion)\n",
        "    for x in conjunto:\n",
        "        for y in conjunto:\n",
        "            if (x, y) in R:\n",
        "                for z in conjunto:\n",
        "                    if (y, z) in R and (x, z) not in R:\n",
        "                        return False\n",
        "    return True\n",
        "\n",
        "def crear_matriz_relacion(conjunto, relacion):\n",
        "    \"\"\" Crear una matriz de adyacencia para una relación \"\"\"\n",
        "    conjunto = sorted(conjunto)\n",
        "    indices = {elemento: idx for idx, elemento in enumerate(conjunto)}\n",
        "    tamano = len(conjunto)\n",
        "    matriz = [[0]*tamano for _ in range(tamano)]\n",
        "    for (x, y) in relacion:\n",
        "        matriz[indices[x]][indices[y]] = 1\n",
        "    return matriz\n",
        "\n",
        "def dibujar_digrafo(conjunto, relacion):\n",
        "    \"\"\" Dibujar un digrafo para una relación \"\"\"\n",
        "    G = nx.DiGraph()\n",
        "    G.add_nodes_from(conjunto)\n",
        "    G.add_edges_from(relacion)\n",
        "    pos = nx.spring_layout(G)\n",
        "    nx.draw(G, pos, with_labels=True, node_color='skyblue', edge_color='#FF5733', node_size=1500, font_size=16, font_color='darkred')\n",
        "    plt.title(\"DiGrafo de la Relación\")\n",
        "    plt.show()\n",
        "\n",
        "\n",
        "# Funciones para verificar propiedades de la relación\n",
        "def es_irreflexiva(relacion, conjunto):\n",
        "    return all((x, x) not in relacion for x in conjunto)\n",
        "\n",
        "def es_simetrica(relacion):\n",
        "    return all((b, a) in relacion for (a, b) in relacion)\n",
        "\n",
        "def es_transitiva(relacion):\n",
        "    for (a, b) in relacion:\n",
        "        for (c, d) in relacion:\n",
        "            if b == c and (a, d) not in relacion:\n",
        "                return False\n",
        "    return True\n",
        "\n",
        "\n",
        "def graficar_relacion(relacion, A, B, titulo):\n",
        "    fig, ax = plt.subplots()\n",
        "    for (a, b) in relacion:\n",
        "        ax.plot(A.index(a)+1, B.index(b)+1, 'bo')  # 'bo' es para \"blue dot\"\n",
        "    ax.set_xlim(0, len(A)+1)\n",
        "    ax.set_ylim(0, len(B)+1)\n",
        "    ax.set_xticks(range(1, len(A)+1))\n",
        "    ax.set_yticks(range(1, len(B)+1))\n",
        "    ax.set_xticklabels(A)\n",
        "    ax.set_yticklabels(B)\n",
        "    ax.grid(True)\n",
        "    ax.set_title(titulo)\n",
        "    plt.xlabel('Conjunto A')\n",
        "    plt.ylabel('Conjunto B')\n",
        "    plt.show()"
      ],
      "metadata": {
        "id": "B1Ba9EHW20Gp"
      },
      "execution_count": null,
      "outputs": []
    },
    {
      "cell_type": "markdown",
      "source": [
        "## **Ejemplo N°01:**\n",
        "\n",
        "\n",
        "<img src=\"https://drive.google.com/uc?id=1j1p1udUrpF71oM75SckniHz56V4fxb55\" width=\"600\">"
      ],
      "metadata": {
        "id": "NIUeqzdQ0pY4"
      }
    },
    {
      "cell_type": "code",
      "execution_count": null,
      "metadata": {
        "colab": {
          "base_uri": "https://localhost:8080/"
        },
        "id": "OE4F92ddyxXH",
        "outputId": "b2ea74e6-81e2-4b3a-f7aa-5173e44f2172"
      },
      "outputs": [
        {
          "output_type": "stream",
          "name": "stdout",
          "text": [
            "Caso 1: [(2, 4), (3, 6), (4, 8)]\n"
          ]
        }
      ],
      "source": [
        "A = [1,2,3,4]\n",
        "B = [3,4,5,6,7,8,9]\n",
        "\n",
        "def generar_pares_ordenados(limite):\n",
        "    pares_ordenados = []\n",
        "\n",
        "    # Asumiendo que x e y son enteros positivos\n",
        "    for x in range(1, limite + 1):  # Asumiremos que x va de 0 hasta el límite\n",
        "        y = 2*x  # Determinamos y basado en la relación x + y = 10\n",
        "        if y in B:  # Nos aseguramos de que no cuente el 1\n",
        "            pares_ordenados.append((x, y)) #Agrega una tupla a la lista\n",
        "\n",
        "    return pares_ordenados\n",
        "\n",
        "R = generar_pares_ordenados(4)\n",
        "print(f\"Caso 1: {R}\")"
      ]
    },
    {
      "cell_type": "code",
      "source": [
        "# Una forma distinta de comparar sin tener que colocar un limite\n",
        "\n",
        "A = [1,2,3,4]\n",
        "B = [3,4,5,6,7,8,9]\n",
        "\n",
        "def generar_pares_ordenados(conjuntoA, conjuntoB):\n",
        "    pares_ordenados = []\n",
        "\n",
        "    for a,b in zip(conjuntoA,conjuntoB):\n",
        "      b = 2*a\n",
        "      if b in conjuntoB:\n",
        "        pares_ordenados.append((a,b))\n",
        "\n",
        "    return pares_ordenados\n",
        "\n",
        "R = generar_pares_ordenados(A,B)\n",
        "print(f\"Caso 1: {R}\")"
      ],
      "metadata": {
        "colab": {
          "base_uri": "https://localhost:8080/"
        },
        "id": "ms2ghMNM_mLb",
        "outputId": "2a579a7f-bba8-4f50-888d-898c354f2f2b"
      },
      "execution_count": null,
      "outputs": [
        {
          "output_type": "stream",
          "name": "stdout",
          "text": [
            "Caso 1: [(2, 4), (3, 6), (4, 8)]\n"
          ]
        }
      ]
    },
    {
      "cell_type": "code",
      "source": [
        "A = [1,2,3]\n",
        "\n",
        "def generar_pares_ordenados(conjuntoA, conjuntoB):\n",
        "    pares_ordenados = []\n",
        "    producto_cartesiano = [(a, b) for a in conjuntoA for b in conjuntoB]\n",
        "\n",
        "    for a,b in producto_cartesiano:\n",
        "      if a < b:\n",
        "        pares_ordenados.append((a,b))\n",
        "\n",
        "    return pares_ordenados\n",
        "\n",
        "R = generar_pares_ordenados(A, A)\n",
        "print(f\"Caso 2: {R}\")"
      ],
      "metadata": {
        "colab": {
          "base_uri": "https://localhost:8080/"
        },
        "id": "WjuD8zjf7D9o",
        "outputId": "577f7d91-e07e-4484-a41c-1e40487fe0fb"
      },
      "execution_count": null,
      "outputs": [
        {
          "output_type": "stream",
          "name": "stdout",
          "text": [
            "Caso 2: [(1, 2), (1, 3), (2, 3)]\n"
          ]
        }
      ]
    },
    {
      "cell_type": "markdown",
      "source": [
        "## **Ejemplo N°02:**\n",
        "\n",
        "\n",
        "<img src=\"https://drive.google.com/uc?id=1m7J5DEzKRUBKWywGWv8oNKIp5K1862jq\" width=\"600\">"
      ],
      "metadata": {
        "id": "pXrz3Qju1OW9"
      }
    },
    {
      "cell_type": "code",
      "source": [
        "A = [1,2,3,4]\n",
        "R= [(1,1),(1,3),(2,2),(2,4),(3,3),(4,1),(4,4)]\n",
        "\n",
        "reflexiva = es_irreflexiva(R, A)\n",
        "if(not reflexiva):\n",
        "  print(\"-> Es reflexiva\")\n",
        "else:\n",
        "  print(\"-> No es reflexiva\")"
      ],
      "metadata": {
        "colab": {
          "base_uri": "https://localhost:8080/"
        },
        "id": "g38cOPtJ1eEo",
        "outputId": "2f7658c4-f13e-4f91-a611-08b81d38560f"
      },
      "execution_count": null,
      "outputs": [
        {
          "output_type": "stream",
          "name": "stdout",
          "text": [
            "-> Es reflexiva\n"
          ]
        }
      ]
    },
    {
      "cell_type": "markdown",
      "source": [
        "## **Ejemplo N°03:**\n",
        "\n",
        "\n",
        "<img src=\"https://drive.google.com/uc?id=18-7XmMMGs2GLEwZKTLxErdOctNAeFhUC\" width=\"600\">"
      ],
      "metadata": {
        "id": "4stnfQ0b1epa"
      }
    },
    {
      "cell_type": "code",
      "source": [
        "A = [1,2,3,4]\n",
        "R = [(1,2),(1,3),(1,4),(2,1),(2,2),(3,1),(4,1)]\n",
        "\n",
        "if(es_simetrica(R)):\n",
        "  print(\"-> Es simetrica\")\n",
        "else:\n",
        "  print(\"-> No es simetrica\")"
      ],
      "metadata": {
        "colab": {
          "base_uri": "https://localhost:8080/"
        },
        "id": "otGY4hul1wvH",
        "outputId": "ebf890e3-ad46-4404-9708-629fa09d5fc8"
      },
      "execution_count": null,
      "outputs": [
        {
          "output_type": "stream",
          "name": "stdout",
          "text": [
            "-> Es simetrica\n"
          ]
        }
      ]
    },
    {
      "cell_type": "markdown",
      "source": [
        "## **Ejemplo N°04:**\n",
        "\n",
        "<img src=\"https://drive.google.com/uc?id=1Bz0rewXXtKBGrx25EJsPNMC1fnkQRfEm\" width=\"600\">"
      ],
      "metadata": {
        "id": "XVUWLlfi1xHG"
      }
    },
    {
      "cell_type": "code",
      "source": [
        "A = [1,2,3,4]\n",
        "R = [(1,2),(1,3),(2,2),(4,1),(4,2),(4,3)]\n",
        "\n",
        "if(es_transitiva(R)):\n",
        "  print(\"-> Es transitiva\")\n",
        "else:\n",
        "  print(\"-> No es transitiva\")"
      ],
      "metadata": {
        "colab": {
          "base_uri": "https://localhost:8080/"
        },
        "id": "F79XwQnQ1_qj",
        "outputId": "5b2cb80c-ed54-4ebf-aada-15223c7fed25"
      },
      "execution_count": null,
      "outputs": [
        {
          "output_type": "stream",
          "name": "stdout",
          "text": [
            "-> Es transitiva\n"
          ]
        }
      ]
    },
    {
      "cell_type": "markdown",
      "source": [
        "## **Ejemplo N°05:**\n",
        "\n",
        "\n",
        "<img src=\"https://drive.google.com/uc?id=1Lw0d-x6fSUM_zi46n2_7m4cuJVBnFdmI\" width=\"700\">"
      ],
      "metadata": {
        "id": "SMNwkQDZ2AJI"
      }
    },
    {
      "cell_type": "code",
      "source": [
        "A = [1,2,3,4]\n",
        "R = [(1,2),(1,3),(2,4),(3,2),(4,1)]\n",
        "\n",
        "def es_antisimetrica(relacion):\n",
        "    for a, b in relacion:\n",
        "        if (a, b) in relacion and (b, a) in relacion and a != b:\n",
        "            return False\n",
        "    return True\n",
        "\n",
        "if(es_antisimetrica(R)):\n",
        "  print(\"-> Es antisimetrica\")\n",
        "else:\n",
        "  print(\"-> No es antisimetrica\")"
      ],
      "metadata": {
        "colab": {
          "base_uri": "https://localhost:8080/"
        },
        "id": "BcFEF4gr2PY3",
        "outputId": "8d85a742-dfd7-4772-a218-e34d39be2034"
      },
      "execution_count": null,
      "outputs": [
        {
          "output_type": "stream",
          "name": "stdout",
          "text": [
            "-> Es antisimetrica\n"
          ]
        }
      ]
    },
    {
      "cell_type": "markdown",
      "source": [
        "## **Ejemplo N°06:**\n",
        "\n",
        "<img src=\"https://drive.google.com/uc?id=1OnXYpDShgwfayVWyCT_5qoWgXKWCr8x6\" width=\"700\">"
      ],
      "metadata": {
        "id": "LS76Bmjj2Tlo"
      }
    },
    {
      "cell_type": "code",
      "source": [
        "A = [1,2,3,4]\n",
        "R = [(1,2),(1,3), (2,3),(2,4),(4,1)]\n",
        "\n",
        "if(es_irreflexiva(R,A)):\n",
        "  print(\"-> Es irreflexiva\")\n",
        "else:\n",
        "  print(\"-> No es irreflexiva\")"
      ],
      "metadata": {
        "colab": {
          "base_uri": "https://localhost:8080/"
        },
        "id": "OK7Bs0Ki2hNQ",
        "outputId": "6d6013a9-b597-46ce-8ff3-6921d528bfa6"
      },
      "execution_count": null,
      "outputs": [
        {
          "output_type": "stream",
          "name": "stdout",
          "text": [
            "-> Es irreflexiva\n"
          ]
        }
      ]
    },
    {
      "cell_type": "code",
      "source": [
        "import numpy as np\n",
        "\n",
        "A = [1,2,3,4]\n",
        "R = [(1,2),(1,3), (2,3),(2,4),(4,1)]\n",
        "\n",
        "\n",
        "def crear_matriz(A, relacion):\n",
        "    \"\"\" Función para generar una matriz de adyacencia a partir de una relación. \"\"\"\n",
        "    matriz = np.zeros((len(A), len(A)), dtype=int)\n",
        "    for (a, b) in relacion:\n",
        "        i, j = A.index(a), A.index(b)\n",
        "        matriz[i, j] = 1\n",
        "    return matriz\n",
        "\n",
        "def pares_ordenados(A, matriz):\n",
        "  relacion = []\n",
        "  for i in range(len(A)):\n",
        "    for j in range(len(A)):\n",
        "      if matriz[i][j] == 1:\n",
        "        relacion.append((A[i], A[j]))\n",
        "\n",
        "  return relacion\n",
        "\n",
        "matriz = crear_matriz(A, R)\n",
        "irreflexiva = es_irreflexiva(pares_ordenados(A, matriz),A)\n",
        "\n",
        "if(irreflexiva):\n",
        "  print(\"-> Es irreflexiva\")\n",
        "else:\n",
        "  print(\"-> No es irreflexiva\")"
      ],
      "metadata": {
        "colab": {
          "base_uri": "https://localhost:8080/"
        },
        "id": "Mb4LazoAwQxf",
        "outputId": "ca571f6f-daa2-4877-dbbb-bea8eb7dadbe"
      },
      "execution_count": null,
      "outputs": [
        {
          "output_type": "stream",
          "name": "stdout",
          "text": [
            "-> Es irreflexiva\n"
          ]
        }
      ]
    },
    {
      "cell_type": "markdown",
      "source": [
        "## **Ejemplo N°07:**\n",
        "\n",
        "\n",
        "<img src=\"https://drive.google.com/uc?id=1RXpUfw8s483fEuJV039VyACufeAQrZmb\" width=\"700\">"
      ],
      "metadata": {
        "id": "41_ApUV32hkG"
      }
    },
    {
      "cell_type": "code",
      "source": [
        "A = [1,2,3,4]\n",
        "R = [(1,2),(1,3),(2,2),(3,2),(4,1)]\n",
        "\n",
        "def es_antisimetrica(relacion):\n",
        "    for a, b in relacion:\n",
        "        if (a, b) in relacion and (b, a) in relacion and a != b:\n",
        "            return False\n",
        "    return True\n",
        "\n",
        "if(es_antisimetrica(R)):\n",
        "  print(\"-> Es antisimetrica\")\n",
        "else:\n",
        "  print(\"-> No es antisimetrica\")"
      ],
      "metadata": {
        "colab": {
          "base_uri": "https://localhost:8080/"
        },
        "id": "EPzufFX32ywv",
        "outputId": "6d377c40-0f09-4b33-b7a8-c5722384a22a"
      },
      "execution_count": null,
      "outputs": [
        {
          "output_type": "stream",
          "name": "stdout",
          "text": [
            "-> Es antisimetrica\n"
          ]
        }
      ]
    },
    {
      "cell_type": "markdown",
      "source": [
        "# **Ejercicios - Tarea**\n",
        "\n",
        "\n",
        "\n",
        "\n",
        "\n",
        "Ejercicios 1,2,3,4,5,6,9,10,14,15 del tema de Relaciones del libro Rosen_MD_7th_edition que se encuentra en las paginas 596-597"
      ],
      "metadata": {
        "id": "VltBKAS4Czns"
      }
    },
    {
      "cell_type": "markdown",
      "source": [
        "## **Ejercicio 01**\n",
        "\n",
        "Ejercicio 01 del libro de Rosen 7th edition.\n",
        "\n",
        "\n",
        "<img src=\"https://drive.google.com/uc?id=14wal9d7Ei4oWlpy6yBcivvdn046sa06L\" width=\"500\">\n",
        "\n",
        "\n",
        "Enunciado traducido:\n",
        "\n",
        "\n",
        "Representa cada una de estas relaciones en {1, 2, 3} con una matriz (con los elementos de este conjunto enumerados en orden creciente).\n",
        "\n",
        "a) {(1, 1), (1, 2), (1, 3)}\n",
        "\n",
        "b) {(1, 2), (2, 1), (2, 2), (3, 3)}\n",
        "\n",
        "c) {(1, 1), (1, 2), (1, 3), (2, 2), (2, 3), (3, 3)}\n",
        "\n",
        "d) {(1, 3), (3, 1)}"
      ],
      "metadata": {
        "id": "q1aWMwPQC2R8"
      }
    },
    {
      "cell_type": "code",
      "source": [
        "import numpy as np\n",
        "\n",
        "# Definición del conjunto A y las relaciones R\n",
        "A = [1,2,3]\n",
        "Ra = [(1,1), (1,2), (1,3)]\n",
        "Rb = [(1,2),(2,1),(2,2),(3,3)]\n",
        "Rc = [(1,1),(1,2),(1,3),(2,2),(2,3),(3,3)]\n",
        "Rd = [(1,3),(3,1)]\n",
        "\n",
        "def crear_matriz(A, relacion):\n",
        "    \"\"\" Función para generar una matriz de adyacencia a partir de una relación. \"\"\"\n",
        "    matriz = np.zeros((len(A), len(A)), dtype=int)\n",
        "    for (a, b) in relacion:\n",
        "        i, j = A.index(a), A.index(b)\n",
        "        matriz[i, j] = 1\n",
        "    return matriz\n",
        "\n",
        "# Matrices de las relaciones y el conjunto A = [1,2,3]\n",
        "inciso_a = crear_matriz(A, Ra)\n",
        "inciso_b = crear_matriz(A, Rb)\n",
        "inciso_c = crear_matriz(A, Rc)\n",
        "inciso_d = crear_matriz(A, Rd)\n",
        "\n",
        "#Mostrar todas las matrices\n",
        "print(\"Matriz A_Ra:\\n\", inciso_a)\n",
        "print(\"\\nMatriz A_Rb:\\n\", inciso_b)\n",
        "print(\"\\nMatriz A_Rc:\\n\", inciso_c)\n",
        "print(\"\\nMatriz A_Rd:\\n\", inciso_d)"
      ],
      "metadata": {
        "colab": {
          "base_uri": "https://localhost:8080/"
        },
        "id": "FnxIXNm9zdWN",
        "outputId": "8880a407-25e0-4cf6-8d77-89c803367ae4"
      },
      "execution_count": null,
      "outputs": [
        {
          "output_type": "stream",
          "name": "stdout",
          "text": [
            "Matriz A_Ra:\n",
            " [[1 1 1]\n",
            " [0 0 0]\n",
            " [0 0 0]]\n",
            "\n",
            "Matriz A_Rb:\n",
            " [[0 1 0]\n",
            " [1 1 0]\n",
            " [0 0 1]]\n",
            "\n",
            "Matriz A_Rc:\n",
            " [[1 1 1]\n",
            " [0 1 1]\n",
            " [0 0 1]]\n",
            "\n",
            "Matriz A_Rd:\n",
            " [[0 0 1]\n",
            " [0 0 0]\n",
            " [1 0 0]]\n"
          ]
        }
      ]
    },
    {
      "cell_type": "markdown",
      "source": [
        "## **Ejercicio 02**\n",
        "\n",
        "\n",
        "Ejercicio 02 del libro de Rosen 7th edition.\n",
        "\n",
        "\n",
        "<img src=\"https://drive.google.com/uc?id=1Dfp6h5kV9d5SsgrzJTi6ezAySJRRv-na\" width=\"500\">\n",
        "\n",
        "\n",
        "Enunciado traducido:\n",
        "\n",
        "Representa cada una de estas relaciones en {1, 2, 3, 4} con una matriz (con los elementos de este conjunto enumerados en orden creciente).\n",
        "\n",
        "a) {(1, 2), (1, 3), (1, 4), (2, 3), (2, 4), (3,4)}\n",
        "\n",
        "b) {(1, 1), (1, 4), (2, 2), (3, 3), (4, 1)}\n",
        "\n",
        "c) {(1, 2), (1, 3), (1, 4), (2, 1), (2, 3), (2, 4), (3, 1), (3,2) , (3, 4), (4, 1), (4, 2), (4,3)}\n",
        "\n",
        "d) {(2, 4), (3, 1), (3, 2), (3, 4)}"
      ],
      "metadata": {
        "id": "aAhl18sCzd4x"
      }
    },
    {
      "cell_type": "code",
      "source": [
        "import numpy as np\n",
        "\n",
        "# Definición del conjunto A y las relaciones R\n",
        "A = [1,2,3,4]\n",
        "Ra = [(1,2), (1,3), (1,4), (2,3), (2,4), (3,4)]\n",
        "Rb = [(1,1), (1,4), (2,2), (3,3), (4,1)]\n",
        "Rc = [(1,2),(1,3),(1,4),(2,1),(2,3), (2,4), (3,1), (3,2), (3,4), (4,1), (4,2), (4,3)]\n",
        "Rd = [(2,4),(3,1), (3,2), (3,4)]\n",
        "\n",
        "def crear_matriz(A, relacion):\n",
        "    \"\"\" Función para generar una matriz de adyacencia a partir de una relación. \"\"\"\n",
        "    matriz = np.zeros((len(A), len(A)), dtype=int)\n",
        "    for (a, b) in relacion:\n",
        "        i, j = A.index(a), A.index(b)\n",
        "        matriz[i, j] = 1\n",
        "    return matriz\n",
        "\n",
        "# Matrices de las relaciones y el conjunto A = [1,2,3]\n",
        "inciso_a = crear_matriz(A, Ra)\n",
        "inciso_b = crear_matriz(A, Rb)\n",
        "inciso_c = crear_matriz(A, Rc)\n",
        "inciso_d = crear_matriz(A, Rd)\n",
        "\n",
        "#Mostrar todas las matrices\n",
        "print(\"Matriz A_Ra:\\n\", inciso_a)\n",
        "print(\"\\nMatriz A_Rb:\\n\", inciso_b)\n",
        "print(\"\\nMatriz A_Rc:\\n\", inciso_c)\n",
        "print(\"\\nMatriz A_Rd:\\n\", inciso_d)"
      ],
      "metadata": {
        "colab": {
          "base_uri": "https://localhost:8080/"
        },
        "id": "PjMcrEzZzjQV",
        "outputId": "44a78803-82ee-4512-a119-362f439e19d5"
      },
      "execution_count": null,
      "outputs": [
        {
          "output_type": "stream",
          "name": "stdout",
          "text": [
            "Matriz A_Ra:\n",
            " [[0 1 1 1]\n",
            " [0 0 1 1]\n",
            " [0 0 0 1]\n",
            " [0 0 0 0]]\n",
            "\n",
            "Matriz A_Rb:\n",
            " [[1 0 0 1]\n",
            " [0 1 0 0]\n",
            " [0 0 1 0]\n",
            " [1 0 0 0]]\n",
            "\n",
            "Matriz A_Rc:\n",
            " [[0 1 1 1]\n",
            " [1 0 1 1]\n",
            " [1 1 0 1]\n",
            " [1 1 1 0]]\n",
            "\n",
            "Matriz A_Rd:\n",
            " [[0 0 0 0]\n",
            " [0 0 0 1]\n",
            " [1 1 0 1]\n",
            " [0 0 0 0]]\n"
          ]
        }
      ]
    },
    {
      "cell_type": "markdown",
      "source": [
        "## **Ejercicio 03**\n",
        "\n",
        "\n",
        "Ejercicio 03 del libro de Rosen 7th edition.\n",
        "\n",
        "\n",
        "<img src=\"https://drive.google.com/uc?id=1G6vDBCUQ0Dnbt5lmUy93sB6VsYqsfcEQ\" width=\"500\">\n",
        "\n",
        "\n",
        "\n",
        "Enunciado traducido:\n",
        "\n",
        "Enumere los pares ordenados en las relaciones en {1, 2, 3} correspondientes a estas matrices (donde las filas y columnas corresponden a los números enteros enumerados en orden creciente)."
      ],
      "metadata": {
        "id": "iHv7L3Dezjja"
      }
    },
    {
      "cell_type": "code",
      "source": [
        "# Definicion del conjunto A y las matrices\n",
        "A = [1,2,3]\n",
        "\n",
        "Ma = [\n",
        "    [1,0,1],\n",
        "    [0,1,0],\n",
        "    [1,0,1],\n",
        "]\n",
        "\n",
        "Mb = [\n",
        "    [0,1,0],\n",
        "    [0,1,0],\n",
        "    [0,1,0],\n",
        "]\n",
        "\n",
        "Mc = [\n",
        "    [1,1,1],\n",
        "    [1,0,1],\n",
        "    [1,1,1],\n",
        "]\n",
        "\n",
        "def pares_ordenados(A, matriz):\n",
        "  relacion = []\n",
        "  for i in range(len(A)):\n",
        "    for j in range(len(A)):\n",
        "      if matriz[i][j] == 1:\n",
        "        relacion.append((A[i], A[j]))\n",
        "\n",
        "  return relacion\n",
        "\n",
        "# Relaciones de las matrices y el conjunto A = [1,2,3]\n",
        "inciso_a = pares_ordenados(A, Ma)\n",
        "inciso_b = pares_ordenados(A, Mb)\n",
        "inciso_c = pares_ordenados(A, Mc)\n",
        "\n",
        "# Mostrar todas las relaciones o pares ordenados\n",
        "print(\"Relaciones del inciso A: \", inciso_a)\n",
        "print(\"Relaciones del inciso B: \", inciso_b)\n",
        "print(\"Relaciones del inciso C: \", inciso_c)"
      ],
      "metadata": {
        "colab": {
          "base_uri": "https://localhost:8080/"
        },
        "id": "H9qa7yx9zmA_",
        "outputId": "ee2dc85c-c318-4960-8c9e-1441abb2f9e8"
      },
      "execution_count": null,
      "outputs": [
        {
          "output_type": "stream",
          "name": "stdout",
          "text": [
            "Relaciones del inciso A:  [(1, 1), (1, 3), (2, 2), (3, 1), (3, 3)]\n",
            "Relaciones del inciso B:  [(1, 2), (2, 2), (3, 2)]\n",
            "Relaciones del inciso C:  [(1, 1), (1, 2), (1, 3), (2, 1), (2, 3), (3, 1), (3, 2), (3, 3)]\n"
          ]
        }
      ]
    },
    {
      "cell_type": "markdown",
      "source": [
        "## **Ejercicio 04**\n",
        "\n",
        "\n",
        "Ejercicio 04 del libro de Rosen 7th edition.\n",
        "\n",
        "<img src=\"https://drive.google.com/uc?id=1zcj7mVUqswV4z3uay8_dciznAXhPV0kw\" width=\"500\">\n",
        "\n",
        "\n",
        "Enunciado traducido:\n",
        "\n",
        "Enumere los pares ordenados en las relaciones de {1, 2, 3, 4} correspondientes a estas matrices (donde las filas y columnas corresponden a los números enteros enumerados en orden creciente)."
      ],
      "metadata": {
        "id": "V9B2gz_hzmqi"
      }
    },
    {
      "cell_type": "code",
      "source": [
        "# Definicion del conjunto A y las matrices\n",
        "A = [1,2,3,4]\n",
        "\n",
        "Ma = [\n",
        "    [1,1,0,1],\n",
        "    [1,0,1,0],\n",
        "    [0,1,1,1],\n",
        "    [1,0,1,1],\n",
        "]\n",
        "\n",
        "Mb = [\n",
        "    [1,1,1,0],\n",
        "    [0,1,0,0],\n",
        "    [0,0,1,1],\n",
        "    [1,0,0,1],\n",
        "]\n",
        "\n",
        "Mc = [\n",
        "    [0,1,0,1],\n",
        "    [1,0,1,0],\n",
        "    [0,1,0,1],\n",
        "    [1,0,1,0],\n",
        "]\n",
        "\n",
        "def pares_ordenados(A, matriz):\n",
        "  relacion = []\n",
        "  for i in range(len(A)):\n",
        "    for j in range(len(A)):\n",
        "      if matriz[i][j] == 1:\n",
        "        relacion.append((A[i], A[j]))\n",
        "\n",
        "  return relacion\n",
        "\n",
        "# Relaciones de las matrices y el conjunto A = [1,2,3]\n",
        "inciso_a = pares_ordenados(A, Ma)\n",
        "inciso_b = pares_ordenados(A, Mb)\n",
        "inciso_c = pares_ordenados(A, Mc)\n",
        "\n",
        "# Mostrar todas las relaciones o pares ordenados\n",
        "print(\"Relaciones del inciso A: \", inciso_a)\n",
        "print(\"Relaciones del inciso B: \", inciso_b)\n",
        "print(\"Relaciones del inciso C: \", inciso_c)"
      ],
      "metadata": {
        "colab": {
          "base_uri": "https://localhost:8080/"
        },
        "id": "v0rqRVzKzr1Q",
        "outputId": "89735f7f-8a9b-454d-9c72-10f400f03af0"
      },
      "execution_count": null,
      "outputs": [
        {
          "output_type": "stream",
          "name": "stdout",
          "text": [
            "Relaciones del inciso A:  [(1, 1), (1, 2), (1, 4), (2, 1), (2, 3), (3, 2), (3, 3), (3, 4), (4, 1), (4, 3), (4, 4)]\n",
            "Relaciones del inciso B:  [(1, 1), (1, 2), (1, 3), (2, 2), (3, 3), (3, 4), (4, 1), (4, 4)]\n",
            "Relaciones del inciso C:  [(1, 2), (1, 4), (2, 1), (2, 3), (3, 2), (3, 4), (4, 1), (4, 3)]\n"
          ]
        }
      ]
    },
    {
      "cell_type": "markdown",
      "source": [
        "## **Ejercicio 05**\n",
        "\n",
        "\n",
        "Ejercicio 05 del libro de Rosen 7th edition.\n",
        "\n",
        "\n",
        "<img src=\"https://drive.google.com/uc?id=1FQawRBhfY8VNeb2eDOccUw_pDSkcwTST\" width=\"500\">\n",
        "\n",
        "\n",
        "Enunciado traducido:\n",
        "\n",
        "¿Cómo se puede utilizar la matriz que representa una relación R en un conjunto A para determinar si la relación es irreflexiva?"
      ],
      "metadata": {
        "id": "nvCt5h36zsWp"
      }
    },
    {
      "cell_type": "code",
      "source": [
        "# Podemos transformar la matriz en una relación y de esa manera probar si la relación es irreflexiva.\n",
        "# También podemos probar si una matriz es irreflexiva si su diagonal principal es diferente 1, es decir, sus elementos son 0\n",
        "# Ejemplo, usando la matriz y el conjunto A del problema 3\n",
        "\n",
        "\n",
        "# Funcion para determinar si una relación es irreflexiva.\n",
        "def es_irreflexiva(relacion, conjunto):\n",
        "    return all((x, x) not in relacion for x in conjunto)\n",
        "\n",
        "# Funcion para transformar un matriz en una relación.\n",
        "def pares_ordenados(A, matriz):\n",
        "  relacion = []\n",
        "  for i in range(len(A)):\n",
        "    for j in range(len(A)):\n",
        "      if matriz[i][j] == 1:\n",
        "        relacion.append((A[i], A[j]))\n",
        "\n",
        "  return relacion\n",
        "\n",
        "# Definimos al conjunto A y a la matriz Ma\n",
        "A = [1,2,3]\n",
        "\n",
        "Ma = [\n",
        "    [1,0,1],\n",
        "    [0,1,0],\n",
        "    [1,0,1],\n",
        "]\n",
        "\n",
        "# Se llama a la funcion pares_ordenados y a la funcion es_irreflexivas\n",
        "relacion_prueba = es_irreflexiva(pares_ordenados(A, Ma), A)\n",
        "\n",
        "# Evaluamos si la matriz es irreflexiva.\n",
        "if relacion_prueba:\n",
        "    print(\"La matriz Ma es irreflexiva\")\n",
        "else:\n",
        "    print(\"La matriz Ma no es irreflexiva\")\n",
        "\n",
        "\n",
        "\n",
        "\n",
        "# Ahora probemos con una matriz que se da en el problema 4\n",
        "# Se define al conjunto A (lo denominaremos B) y la matriz Mc\n",
        "B = [1,2,3,4]\n",
        "\n",
        "Mc = [\n",
        "    [0,1,0,1],\n",
        "    [1,0,1,0],\n",
        "    [0,1,0,1],\n",
        "    [1,0,1,0],\n",
        "]\n",
        "\n",
        "# Se llama a la funcion pares_ordenados y a la funcion es_irreflexivas\n",
        "relacion_segunda_prueba = es_irreflexiva(pares_ordenados(B, Mc), B)\n",
        "\n",
        "# Evaluamos si la matriz es irreflexiva.\n",
        "if relacion_segunda_prueba:\n",
        "    print(\"La matriz Mc es irreflexiva\")\n",
        "else:\n",
        "    print(\"La matriz Mc no es irreflexiva\")"
      ],
      "metadata": {
        "id": "4bqWTifYzutN",
        "colab": {
          "base_uri": "https://localhost:8080/"
        },
        "outputId": "ffa880e0-545d-40e3-9ea6-0bfd06eef0bc"
      },
      "execution_count": null,
      "outputs": [
        {
          "output_type": "stream",
          "name": "stdout",
          "text": [
            "La matriz Ma no es irreflexiva\n",
            "La matriz Mc es irreflexiva\n"
          ]
        }
      ]
    },
    {
      "cell_type": "markdown",
      "source": [
        "## **Ejercicio 06**\n",
        "\n",
        "\n",
        "Ejercicio 06 del libro de Rosen 7th edition.\n",
        "\n",
        "\n",
        "<img src=\"https://drive.google.com/uc?id=1xCUXUwTwfHB8WouCQGDp0iu1ijTRzuJN\" width=\"500\">\n",
        "\n",
        "\n",
        "Enunciado traducido:\n",
        "\n",
        "¿Cómo se puede utilizar la matriz que representa una relación R en un conjunto A para determinar si la relación es asimétrica?"
      ],
      "metadata": {
        "id": "BFiavv1fzwb0"
      }
    },
    {
      "cell_type": "code",
      "source": [
        "# Podemos transformar la matriz en una relación y de esa manera probar si la relación es asimetrica.\n",
        "# También podemos determinar si una matriz es asimetrica si se cumplen con 2 condiciones:\n",
        "# 1. Si los elementos de su diagonal principal son ceros.\n",
        "# 2. Si los elementos que estan en posicion simetrica, son parejas de unos y ceros (o de ceros, es decir, no son pares de uno)\n",
        "# Ejemplo, usando la matriz y el conjunto A del problema 3\n",
        "\n",
        "\n",
        "# Funcion para determinar si una relación es asimetrica.\n",
        "def es_asimetrica(matriz):\n",
        "    tamanio = len(matriz)\n",
        "    for i in range(tamanio):\n",
        "      for j in range(tamanio):\n",
        "        if i != j:\n",
        "          if matriz[i][j] == 1 and matriz[j][i] == 0:\n",
        "            return False\n",
        "        else:\n",
        "          if matriz[i][j] == 1:\n",
        "            return False\n",
        "    return True\n",
        "\n",
        "# Funcion para transformar un matriz en una relación.\n",
        "def pares_ordenados(A, matriz):\n",
        "  relacion = []\n",
        "  for i in range(len(A)):\n",
        "    for j in range(len(A)):\n",
        "      if matriz[i][j] == 1:\n",
        "        relacion.append((A[i], A[j]))\n",
        "\n",
        "  return relacion\n",
        "\n",
        "# Definimos al conjunto A y a la matriz Mc del problema 3\n",
        "A = [1,2,3]\n",
        "\n",
        "Mc = [\n",
        "    [1,1,1],\n",
        "    [1,0,1],\n",
        "    [1,1,1],\n",
        "]\n",
        "\n",
        "# Se llama a la funcion pares_ordenados y a la funcion es_simetrica\n",
        "relacion_prueba = es_asimetrica(Mc)\n",
        "\n",
        "# Evaluamos si la matriz es asimetrica.\n",
        "# Dado que la funcion es_simetrica nos devuelve verdadero si la funcion es simetrica, entonces, el opuesto de una matriz simetrica es asimetrica.\n",
        "if relacion_prueba:\n",
        "    print(\"La matriz Mc es asimetrica\")\n",
        "else:\n",
        "    print(\"La matriz Mc no es asimetrica\")\n",
        "\n",
        "\n",
        "\n",
        "# Ahora probemos con una matriz que se da en el problema 4\n",
        "# Se define al conjunto A (lo denominaremos B) y la matriz Mb\n",
        "B = [1,2,3,4]\n",
        "\n",
        "Mb = [\n",
        "    [1,1,1,0],\n",
        "    [0,1,0,0],\n",
        "    [0,0,1,1],\n",
        "    [1,0,0,1],\n",
        "]\n",
        "\n",
        "# Se llama a la funcion pares_ordenados y a la funcion es_asimetrica\n",
        "relacion_segunda_prueba = es_asimetrica(Mb)\n",
        "\n",
        "# Evaluamos si la matriz es asimetrica.\n",
        "# Dado que la funcion es_simetrica nos devuelve verdadero si la funcion es simetrica, entonces, el opuesto de una matriz simetrica es asimetrica.\n",
        "if relacion_segunda_prueba:\n",
        "    print(\"La matriz Mb es asimetrica\")\n",
        "else:\n",
        "    print(\"La matriz Mb no es asimetrica\")"
      ],
      "metadata": {
        "id": "Iwu8g_76zzZ-",
        "colab": {
          "base_uri": "https://localhost:8080/"
        },
        "outputId": "1b1e6580-e0c4-4da8-9838-921bac68f7b8"
      },
      "execution_count": null,
      "outputs": [
        {
          "output_type": "stream",
          "name": "stdout",
          "text": [
            "La matriz Mc no es asimetrica\n",
            "La matriz Mb no es asimetrica\n"
          ]
        }
      ]
    },
    {
      "cell_type": "markdown",
      "source": [
        "## **Ejercicio 07**\n",
        "\n",
        "\n",
        "Ejercicio 09 del libro de Rosen 7th edition.\n",
        "\n",
        "\n",
        "<img src=\"https://drive.google.com/uc?id=1IMIHoVIEOHOFt-i94D_euiVsX0cgl4In\" width=\"500\">\n",
        "\n",
        "Enunciado traducido:\n",
        "\n",
        "¿Cuántas entradas distintas de cero tiene la matriz que representa la relación R en A = {1, 2, 3,..., 100} que consta de los primeros 100 enteros positivos si R es\n",
        "\n",
        "a) {(a, b) | a > b}\n",
        "\n",
        "b) {(a, b) | a != b}\n",
        "\n",
        "c) {(a, b) a = b+1}\n",
        "\n",
        "d) {(a, b) a = 1}\n",
        "\n",
        "e) {(a, b) | a*b = 1}"
      ],
      "metadata": {
        "id": "qgm6Vrjpz0cb"
      }
    },
    {
      "cell_type": "code",
      "source": [
        "# Se define el conjunto A\n",
        "A = [a for a in range(1,100+1)]\n",
        "\n",
        "# Generamos las relaciones en base a las condiciones de cada inciso\n",
        "relacion_a = [(a,b) for a in A for b in A if a > b]\n",
        "relacion_b = [(a,b) for a in A for b in A if a != b]\n",
        "relacion_c = [(a,b) for a in A for b in A if a == (b + 1)]\n",
        "relacion_d = [(a,b) for a in A for b in A if a == 1]\n",
        "relacion_e = [(a,b) for a in A for b in A if a*b == 1]\n",
        "\n",
        "# Ahora calculamos el numero de entradas distintas de cero que debe tener la matriz para cada relacion.\n",
        "entradas_a = sum(1 for a, b in relacion_a)\n",
        "entradas_b = sum(1 for a, b in relacion_b)\n",
        "entradas_c = sum(1 for a, b in relacion_c)\n",
        "entradas_d = sum(1 for a, b in relacion_d)\n",
        "entradas_e = sum(1 for a, b in relacion_e)\n",
        "\n",
        "\n",
        "# Imprimimos el numero de entradas distintas de cero que debe tener la matriz para cada relacion.\n",
        "print(f\"La matriz a) tiene {entradas_a} entradas distintas de cero.\")\n",
        "print(f\"La matriz b) tiene {entradas_b} entradas distintas de cero.\")\n",
        "print(f\"La matriz c) tiene {entradas_c} entradas distintas de cero.\")\n",
        "print(f\"La matriz d) tiene {entradas_d} entradas distintas de cero.\")\n",
        "print(f\"La matriz e) tiene {entradas_e} entradas distintas de cero.\")"
      ],
      "metadata": {
        "id": "CtuBncZvz2o6",
        "colab": {
          "base_uri": "https://localhost:8080/"
        },
        "outputId": "e51ca6b9-85cc-4332-eecb-37f7f3967845"
      },
      "execution_count": null,
      "outputs": [
        {
          "output_type": "stream",
          "name": "stdout",
          "text": [
            "La matriz a) tiene 4950 entradas distintas de cero.\n",
            "La matriz b) tiene 9900 entradas distintas de cero.\n",
            "La matriz c) tiene 99 entradas distintas de cero.\n",
            "La matriz d) tiene 100 entradas distintas de cero.\n",
            "La matriz e) tiene 1 entradas distintas de cero.\n"
          ]
        }
      ]
    },
    {
      "cell_type": "markdown",
      "source": [
        "## **Ejercicio 08**\n",
        "\n",
        "\n",
        "Ejercicio 10 del libro de Rosen 7th edition.\n",
        "\n",
        "\n",
        "<img src=\"https://drive.google.com/uc?id=1_Jw5SR4bpdoCely128la1k3GAlAROCKl\" width=\"500\">\n",
        "\n",
        "Enunciado traducido:\n",
        "\n",
        "¿Cuántas entradas distintas de cero tiene la matriz que representa la relación R en A = {1, 2, 3,..., 1000}?\n",
        "los primeros 1000 enteros positivos tienen si R es\n",
        "\n",
        "a) {(a, b) | a <= b}\n",
        "\n",
        "b) {(a, b) | a == b+/-1}\n",
        "\n",
        "c) {(a, b) | a + b == 1000}\n",
        "\n",
        "d) {(a, b) | a + b <=  1001}\n",
        "\n",
        "e) {(a, b) | a != 0}"
      ],
      "metadata": {
        "id": "p5PuGEeaz3Kp"
      }
    },
    {
      "cell_type": "code",
      "source": [
        "# Se define el conjunto A\n",
        "A = [a for a in range(1,1000+1)]\n",
        "\n",
        "# Generamos las relaciones en base a las condiciones de cada inciso\n",
        "relacion_a = [(a,b) for a in A for b in A if a <= b]\n",
        "relacion_b = [(a,b) for a in A for b in A if a == b+1 or a == b-1]\n",
        "relacion_c = [(a,b) for a in A for b in A if a + b == 1000]\n",
        "relacion_d = [(a,b) for a in A for b in A if a + b <= 1001]\n",
        "relacion_e = [(a,b) for a in A for b in A if a != 0]\n",
        "\n",
        "# Ahora calculamos el numero de entradas distintas de cero que debe tener la matriz para cada relacion.\n",
        "entradas_a = sum(1 for a, b in relacion_a)\n",
        "entradas_b = sum(1 for a, b in relacion_b)\n",
        "entradas_c = sum(1 for a, b in relacion_c)\n",
        "entradas_d = sum(1 for a, b in relacion_d)\n",
        "entradas_e = sum(1 for a, b in relacion_e)\n",
        "\n",
        "\n",
        "# Imprimimos el numero de entradas distintas de cero que debe tener la matriz para cada relacion.\n",
        "print(f\"La matriz a) tiene {entradas_a} entradas distintas de cero.\")\n",
        "print(f\"La matriz b) tiene {entradas_b} entradas distintas de cero.\")\n",
        "print(f\"La matriz c) tiene {entradas_c} entradas distintas de cero.\")\n",
        "print(f\"La matriz d) tiene {entradas_d} entradas distintas de cero.\")\n",
        "print(f\"La matriz e) tiene {entradas_e} entradas distintas de cero.\")"
      ],
      "metadata": {
        "id": "pWk8S4jwz8F6",
        "colab": {
          "base_uri": "https://localhost:8080/"
        },
        "outputId": "d1daa27a-d3ee-4d71-f63e-34ae549eba02"
      },
      "execution_count": null,
      "outputs": [
        {
          "output_type": "stream",
          "name": "stdout",
          "text": [
            "La matriz a) tiene 500500 entradas distintas de cero.\n",
            "La matriz b) tiene 1998 entradas distintas de cero.\n",
            "La matriz c) tiene 999 entradas distintas de cero.\n",
            "La matriz d) tiene 500500 entradas distintas de cero.\n",
            "La matriz e) tiene 1000000 entradas distintas de cero.\n"
          ]
        }
      ]
    },
    {
      "cell_type": "markdown",
      "source": [
        "## **Ejercicio 09**\n",
        "\n",
        "\n",
        "Ejercicio 14 del libro de Rosen 7th edition.\n",
        "\n",
        "\n",
        "<img src=\"https://drive.google.com/uc?id=15qWGiLO5CYhv2zDNbIKTM8rVUMBZdnPy\" width=\"500\">\n"
      ],
      "metadata": {
        "id": "n04iU-U3z8e9"
      }
    },
    {
      "cell_type": "code",
      "source": [
        "import numpy as np\n",
        "\n",
        "# Se define a las matriz en relacion con un conjunto A\n",
        "Mr1 = [\n",
        "    [0,1,0],\n",
        "    [1,1,1],\n",
        "    [1,0,0],\n",
        "]\n",
        "\n",
        "Mr2 = [\n",
        "    [0,1,0],\n",
        "    [0,1,1],\n",
        "    [1,1,1],\n",
        "]\n",
        "\n",
        "# Resolvemos cada inciso usando matrices, ya que no tenemos el conjunto A, entonces, realizaremos operaciones con las matrices, debido a que estas matrices representan relaciones con el conjunto A.\n",
        "inciso_a = np.logical_or(Mr1, Mr2).astype(int) # Union de matrices, es decir, se se agregan todos los elementos que tienen ambas matrices\n",
        "inciso_b = np.logical_and(Mr1, Mr2).astype(int) # Interseccion de matrices, es decir, se agregan los elementos en comun que tienen ambas matrices\n",
        "inciso_c = np.array(Mr2) * np.array(Mr1) # Multiplicacion elemento a elemento (Multiplicacion de Hadamard) de matrices\n",
        "inciso_d = np.array(Mr1) * np.array(Mr1) # Multiplicacion elemento a elemento (Multiplicacion de Hadamard) de matrices\n",
        "inciso_e = np.logical_xor(Mr1, Mr2).astype(int) # Representa a la diferencia simetrica, es decir, es la union de ambas matrices menos la interseccion de ambas matrices\n",
        "\n",
        "\n",
        "# Imprimimos en pantalla la solucion a cada inciso.\n",
        "# Usamos las operaciones de matrices para determinar las operaciones de las relaciones que se solicitan en cada inciso, debido a que nos piden las matrices de estas operaciones de relaciones.\n",
        "print(\"Union de R1 y R2: \\n\", inciso_a)\n",
        "print(\"\\nInterseccion de R1 y R2: \\n\", inciso_b)\n",
        "print(\"\\nMultiplicacion de Hadamard de R2 y R1: \\n\", inciso_c)\n",
        "print(\"\\nMultiplicacion de Hadamard de R1 y R1: \\n\", inciso_d)\n",
        "print(\"\\nDiferencia simetrica de R1 y R2: \\n\", inciso_e)"
      ],
      "metadata": {
        "id": "ziOBWAZvz_Ab",
        "colab": {
          "base_uri": "https://localhost:8080/"
        },
        "outputId": "a650fdd5-5e02-4b31-af1d-c9ab79711114"
      },
      "execution_count": null,
      "outputs": [
        {
          "output_type": "stream",
          "name": "stdout",
          "text": [
            "Union de R1 y R2: \n",
            " [[0 1 0]\n",
            " [1 1 1]\n",
            " [1 1 1]]\n",
            "\n",
            "Interseccion de R1 y R2: \n",
            " [[0 1 0]\n",
            " [0 1 1]\n",
            " [1 0 0]]\n",
            "\n",
            "Multiplicacion de Hadamard de R2 y R1: \n",
            " [[0 1 0]\n",
            " [0 1 1]\n",
            " [1 0 0]]\n",
            "\n",
            "Multiplicacion de Hadamard de R1 y R1: \n",
            " [[0 1 0]\n",
            " [1 1 1]\n",
            " [1 0 0]]\n",
            "\n",
            "Diferencia simetrica de R1 y R2: \n",
            " [[0 0 0]\n",
            " [1 0 0]\n",
            " [0 1 1]]\n"
          ]
        }
      ]
    },
    {
      "cell_type": "markdown",
      "source": [
        "## **Ejercicio 10**\n",
        "\n",
        "\n",
        "Ejercicio 15 del libro de Rosen 7th edition.\n",
        "\n",
        "\n",
        "<img src=\"https://drive.google.com/uc?id=1MsXKKySDs_CZJyKwZsSKjzoT3NvIdYSs\" width=\"500\">\n"
      ],
      "metadata": {
        "id": "jJzSHvGWz_Y5"
      }
    },
    {
      "cell_type": "code",
      "source": [
        "import numpy as np\n",
        "\n",
        "# Se define a la matriz Mr\n",
        "\n",
        "Mr = [\n",
        "    [0,1,0],\n",
        "    [0,0,1],\n",
        "    [1,1,0],\n",
        "]\n",
        "\n",
        "\n",
        "# Resolvemos cada inciso usando matrices.\n",
        "inciso_a = np.array(Mr) @ np.array(Mr) # Potencia de 2 de la matriz Mr\n",
        "inciso_b = np.array(Mr) @ np.array(Mr) @ np.array(Mr) # Potencia 3 de la matriz Mr\n",
        "inciso_c = np.array(Mr) @ np.array(Mr) @ np.array(Mr) @ np.array(Mr) # Potencia de 4 de la matriz Mr\n",
        "\n",
        "# Imprimimos en pantalla la solucion a cada inciso.\n",
        "print(\"Mr elevado a la potencia de 2: \\n\", inciso_a)\n",
        "print(\"\\nMr elevado a la potencia de 3: \\n\", inciso_b)\n",
        "print(\"\\nMr elevado a la potencia de 4: \\n\", inciso_c)"
      ],
      "metadata": {
        "id": "NEDXIfYK0CJ0",
        "colab": {
          "base_uri": "https://localhost:8080/"
        },
        "outputId": "58e47529-47bb-4a55-d684-de75509fd854"
      },
      "execution_count": null,
      "outputs": [
        {
          "output_type": "stream",
          "name": "stdout",
          "text": [
            "Mr elevado a la potencia de 2: \n",
            " [[0 0 1]\n",
            " [1 1 0]\n",
            " [0 1 1]]\n",
            "\n",
            "Mr elevado a la potencia de 3: \n",
            " [[1 1 0]\n",
            " [0 1 1]\n",
            " [1 1 1]]\n",
            "\n",
            "Mr elevado a la potencia de 4: \n",
            " [[0 1 1]\n",
            " [1 1 1]\n",
            " [1 2 1]]\n"
          ]
        }
      ]
    }
  ]
}