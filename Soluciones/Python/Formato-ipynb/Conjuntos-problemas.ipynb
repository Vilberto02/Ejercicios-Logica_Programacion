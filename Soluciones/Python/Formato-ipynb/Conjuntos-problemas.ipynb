{
  "nbformat": 4,
  "nbformat_minor": 0,
  "metadata": {
    "colab": {
      "provenance": []
    },
    "kernelspec": {
      "name": "python3",
      "display_name": "Python 3"
    },
    "language_info": {
      "name": "python"
    }
  },
  "cells": [
    {
      "cell_type": "markdown",
      "source": [
        "# **Tarea N°02: Conjuntos**"
      ],
      "metadata": {
        "id": "Tla2TroDkeAd"
      }
    },
    {
      "cell_type": "markdown",
      "source": [
        "## **Ejercicio 01**\n",
        "\n",
        "**Autor del libro:** JohnsonBaugh\n",
        "\n",
        "**Enunciado:**\n",
        "En los ejericios 1 al 16, establezca el universo como el conjunto $ U=\\{1,2,3,..,10\\}$. Sea $A=\\{1,4,7,10\\}$, $B=\\{1,2,3,4,5\\}$ y $C=\\{2,\\ 4,\\ 6,\\ 8\\}$. Liste los elementos de cada conjunto.\n",
        "\n",
        "Ejercicios a resolver:\n",
        "\n",
        "\n",
        "\n",
        "13  $\\overline{B} \\cap ( C-A)$\n",
        "\n",
        "\n",
        "15  $\\overline{A\\cap B} \\cup C$"
      ],
      "metadata": {
        "id": "laLDKiZxnGUT"
      }
    },
    {
      "cell_type": "code",
      "source": [
        "#Datos del primer bloque\n",
        "conjunto_universal = set([1,2,3,4,5,6,7,8,9,10])\n",
        "conjunto_a = set([1,4,7,10])\n",
        "conjunto_b = set([1,2,3,4,5])\n",
        "conjunto_c = set([2,4,6,8])"
      ],
      "metadata": {
        "id": "PHk5qaNUq2Wu"
      },
      "execution_count": null,
      "outputs": []
    },
    {
      "cell_type": "code",
      "source": [
        "# Ejercicios 13:\n",
        "\n",
        "complemento_b = conjunto_universal.difference(conjunto_b)\n",
        "intersection = complemento_b.intersection(conjunto_c.difference(conjunto_a))\n",
        "intersection"
      ],
      "metadata": {
        "colab": {
          "base_uri": "https://localhost:8080/"
        },
        "id": "45whnjbOjmBQ",
        "outputId": "b13af063-dfd9-428f-c499-3c88620cd40b"
      },
      "execution_count": null,
      "outputs": [
        {
          "output_type": "execute_result",
          "data": {
            "text/plain": [
              "{6, 8}"
            ]
          },
          "metadata": {},
          "execution_count": 7
        }
      ]
    },
    {
      "cell_type": "code",
      "source": [
        "# Ejercicios 15:\n",
        "\n",
        "intersection = conjunto_a & conjunto_b\n",
        "union = (conjunto_universal - intersection) | conjunto_c\n",
        "union"
      ],
      "metadata": {
        "colab": {
          "base_uri": "https://localhost:8080/"
        },
        "id": "wE6fP0QiqxKX",
        "outputId": "2b574a67-2aaf-4dd2-e10e-3096ea51580d"
      },
      "execution_count": null,
      "outputs": [
        {
          "output_type": "execute_result",
          "data": {
            "text/plain": [
              "{2, 3, 4, 5, 6, 7, 8, 9, 10}"
            ]
          },
          "metadata": {},
          "execution_count": 9
        }
      ]
    },
    {
      "cell_type": "markdown",
      "source": [
        "## **Ejercicio 02**\n",
        "\n",
        "**Autor del libro:** JohnsonBaugh\n",
        "\n",
        "**Enunciado:**\n",
        "En los ejercicios 17 al 24, dibuje un diagrama de Venn y sombree el conjunto indicado.\n",
        "\n",
        "Ejercicios a resolver:\n",
        "\n",
        "21 $B\\cap \\overline{( C\\cup A)}$\n",
        "\n",
        "24 $( B-\\overline{C}) \\cup (( B-\\overline{A}) \\cap ( C\\cup B))$"
      ],
      "metadata": {
        "id": "NjFFbcs-r6Vb"
      }
    },
    {
      "cell_type": "code",
      "source": [
        "#Paquetes necesarios\n",
        "!install upsetplot\n",
        "!pip install vennfig\n",
        "import vennfig as v\n",
        "import matplotlib.pyplot as plt\n",
        "from matplotlib_venn import venn2, venn3"
      ],
      "metadata": {
        "colab": {
          "base_uri": "https://localhost:8080/"
        },
        "id": "-scjAhuvtBos",
        "outputId": "3e646464-eb15-4283-ac99-02d173069002"
      },
      "execution_count": null,
      "outputs": [
        {
          "output_type": "stream",
          "name": "stdout",
          "text": [
            "install: missing destination file operand after 'upsetplot'\n",
            "Try 'install --help' for more information.\n",
            "Requirement already satisfied: vennfig in /usr/local/lib/python3.10/dist-packages (0.2.3)\n",
            "Requirement already satisfied: matplotlib in /usr/local/lib/python3.10/dist-packages (from vennfig) (3.7.1)\n",
            "Requirement already satisfied: matplotlib-venn in /usr/local/lib/python3.10/dist-packages (from vennfig) (0.11.10)\n",
            "Requirement already satisfied: contourpy>=1.0.1 in /usr/local/lib/python3.10/dist-packages (from matplotlib->vennfig) (1.2.1)\n",
            "Requirement already satisfied: cycler>=0.10 in /usr/local/lib/python3.10/dist-packages (from matplotlib->vennfig) (0.12.1)\n",
            "Requirement already satisfied: fonttools>=4.22.0 in /usr/local/lib/python3.10/dist-packages (from matplotlib->vennfig) (4.51.0)\n",
            "Requirement already satisfied: kiwisolver>=1.0.1 in /usr/local/lib/python3.10/dist-packages (from matplotlib->vennfig) (1.4.5)\n",
            "Requirement already satisfied: numpy>=1.20 in /usr/local/lib/python3.10/dist-packages (from matplotlib->vennfig) (1.25.2)\n",
            "Requirement already satisfied: packaging>=20.0 in /usr/local/lib/python3.10/dist-packages (from matplotlib->vennfig) (24.0)\n",
            "Requirement already satisfied: pillow>=6.2.0 in /usr/local/lib/python3.10/dist-packages (from matplotlib->vennfig) (9.4.0)\n",
            "Requirement already satisfied: pyparsing>=2.3.1 in /usr/local/lib/python3.10/dist-packages (from matplotlib->vennfig) (3.1.2)\n",
            "Requirement already satisfied: python-dateutil>=2.7 in /usr/local/lib/python3.10/dist-packages (from matplotlib->vennfig) (2.8.2)\n",
            "Requirement already satisfied: scipy in /usr/local/lib/python3.10/dist-packages (from matplotlib-venn->vennfig) (1.11.4)\n",
            "Requirement already satisfied: six>=1.5 in /usr/local/lib/python3.10/dist-packages (from python-dateutil>=2.7->matplotlib->vennfig) (1.16.0)\n"
          ]
        }
      ]
    },
    {
      "cell_type": "code",
      "source": [
        "#Operaciones del ejercicio 21\n",
        "resultado = conjunto_b & (conjunto_universal - (conjunto_c | conjunto_a))\n",
        "resultado"
      ],
      "metadata": {
        "colab": {
          "base_uri": "https://localhost:8080/"
        },
        "id": "FjihYdhauyEu",
        "outputId": "d460c5ac-4803-4279-b044-2c4a96ca0198"
      },
      "execution_count": null,
      "outputs": [
        {
          "output_type": "execute_result",
          "data": {
            "text/plain": [
              "{3, 5}"
            ]
          },
          "metadata": {},
          "execution_count": 10
        }
      ]
    },
    {
      "cell_type": "code",
      "source": [
        "#Grafica del ejercicio 21\n",
        "fig = plt.figure(figsize=(5, 5))\n",
        "\n",
        "venn3(subsets = (2, 2, 1, 2, 0, 2, 4), set_labels = ('A', 'B', 'C'), alpha = 0.5); #subsets = (conjunto_a, conjunto_b, intersection_a_b, conjunto_c, intersection_a_c, intersection_b_c, intersection_a_b_c)\n",
        "plt.title(\"Diagrama de Venn de A, B y C\")\n",
        "plt.show()"
      ],
      "metadata": {
        "colab": {
          "base_uri": "https://localhost:8080/",
          "height": 443
        },
        "id": "oFx-pcBIvBN6",
        "outputId": "43f30ff0-18fd-4de0-c9e0-84fdd4bc39d5"
      },
      "execution_count": null,
      "outputs": [
        {
          "output_type": "display_data",
          "data": {
            "text/plain": [
              "<Figure size 500x500 with 1 Axes>"
            ],
            "image/png": "[encoded data removed]"
          },
          "metadata": {}
        }
      ]
    },
    {
      "cell_type": "code",
      "source": [
        "#Operaciones del ejercicio 24\n",
        "resultado = (conjunto_b - (conjunto_universal - conjunto_c)) | ((conjunto_b - (conjunto_universal - conjunto_a)) & (conjunto_c | conjunto_b))\n",
        "resultado"
      ],
      "metadata": {
        "colab": {
          "base_uri": "https://localhost:8080/"
        },
        "id": "Z-2f_1sqwIJs",
        "outputId": "1daff48a-8a0e-4aef-a286-3c089e87ec7a"
      },
      "execution_count": null,
      "outputs": [
        {
          "output_type": "execute_result",
          "data": {
            "text/plain": [
              "{1, 2, 4}"
            ]
          },
          "metadata": {},
          "execution_count": 14
        }
      ]
    },
    {
      "cell_type": "code",
      "source": [
        "#Grafica del ejercicio 24\n",
        "fig = plt.figure(figsize=(5, 5))\n",
        "\n",
        "venn3(subsets = (2, 2, 1, 2, 0, 2, 4), set_labels = ('A', 'B', 'C'), alpha = 0.6); #subsets = (conjunto_a, conjunto_b, intersection_a_b, conjunto_c, intersection_a_c, intersection_b_c, intersection_a_b_c)\n",
        "plt.title(\"Diagrama de Venn de A, B y C\")\n",
        "plt.show()"
      ],
      "metadata": {
        "colab": {
          "base_uri": "https://localhost:8080/",
          "height": 443
        },
        "id": "Hq3g-HewwLsV",
        "outputId": "b3e8540d-5471-464c-a5b7-efcb26b58d8f"
      },
      "execution_count": null,
      "outputs": [
        {
          "output_type": "display_data",
          "data": {
            "text/plain": [
              "<Figure size 500x500 with 1 Axes>"
            ],
            "image/png": "[encoded data removed]"
          },
          "metadata": {}
        }
      ]
    },
    {
      "cell_type": "markdown",
      "source": [
        "## **Ejercicio 03**\n",
        "\n",
        "**Autor del libro:** Murillo\n",
        "\n",
        "Ejercicios (sección 2.1)\n",
        "\n",
        "Ejercicios a resolver:\n",
        "\n",
        "<img src=\"https://drive.google.com/uc?id=1jqHKYV7kle70M7RMmhS7v_CpQYCVRK8V\" width=\"500\"/>"
      ],
      "metadata": {
        "id": "555HGyscOryx"
      }
    },
    {
      "cell_type": "code",
      "source": [
        "#Funciones necesarias\n",
        "def conjunto_potencia(conjunto):\n",
        "    potencia = [[]]\n",
        "    for elemento in conjunto:\n",
        "        potencia.extend([subconjunto + [elemento] for subconjunto in potencia])\n",
        "    return potencia"
      ],
      "metadata": {
        "id": "DpdMzkMxbFLP"
      },
      "execution_count": null,
      "outputs": []
    },
    {
      "cell_type": "code",
      "source": [
        "#Problema 01\n",
        "conjunto_A = set([\"a\",\"b\",\"c\"])\n",
        "conjunto_B = set([\"c\",\"d\",\"e\"])\n",
        "conjunto_C = set([\"c\",\"e\",\"f\",\"g\"])\n",
        "\n",
        "#Inciso A\n",
        "producto_cartesiano = [(a, b) for a in conjunto_A for b in (conjunto_B - conjunto_C)]\n",
        "print(f\"Inciso A:  {producto_cartesiano}\")\n",
        "\n",
        "#Inciso B\n",
        "potencia = conjunto_potencia(conjunto_A - conjunto_B)\n",
        "print(f\"Inciso B:  {potencia}\")\n",
        "\n",
        "#Inciso C\n",
        "resultado = (conjunto_A ^ conjunto_C) & conjunto_B\n",
        "print(f\"Inciso C:  {resultado}\")"
      ],
      "metadata": {
        "colab": {
          "base_uri": "https://localhost:8080/"
        },
        "id": "WpoMpo55QROp",
        "outputId": "0382b668-c059-4ddf-8195-25b2ce3fa4db"
      },
      "execution_count": null,
      "outputs": [
        {
          "output_type": "stream",
          "name": "stdout",
          "text": [
            "Inciso A:  [('a', 'd'), ('b', 'd'), ('c', 'd')]\n",
            "Inciso B:  [[], ['a'], ['b'], ['a', 'b']]\n",
            "Inciso C:  {'e'}\n"
          ]
        }
      ]
    },
    {
      "cell_type": "code",
      "source": [
        "#Problema 02\n",
        "conjunto_Un = {\"a\",\"b\",\"c\",\"d\",\"f\"}\n",
        "conjunto_Aa = {\"a\",\"b\",\"e\"}\n",
        "conjunto_Bb = {\"c\",\"e\",\"f\"}\n",
        "conjunto_Cc = {\"b\",\"e\",\"f\"}\n",
        "\n",
        "result = ((conjunto_Aa - conjunto_Bb) | conjunto_Cc) & (conjunto_Un - (conjunto_Bb.symmetric_difference(conjunto_Cc) | {\"d\"}))\n",
        "result"
      ],
      "metadata": {
        "colab": {
          "base_uri": "https://localhost:8080/"
        },
        "id": "HSynVCowQR3f",
        "outputId": "08454c0e-9c8f-4e66-b3c9-c1029f9c044f"
      },
      "execution_count": null,
      "outputs": [
        {
          "output_type": "execute_result",
          "data": {
            "text/plain": [
              "{'a', 'f'}"
            ]
          },
          "metadata": {},
          "execution_count": 28
        }
      ]
    },
    {
      "cell_type": "code",
      "source": [
        "#Problema 05\n",
        "conjunto_A = set([\"a\",\"b\"])\n",
        "conjunto_B = set([\"b\",\"c\",\"d\"])\n",
        "conjunto_C = set([\"a\",\"d\"])\n",
        "conjunto_U = set([\"a\",\"b\",\"c\",\"d\",\"e\",\"f\"])\n",
        "\n",
        "#Inciso A\n",
        "resultado_a = (conjunto_A | conjunto_C).symmetric_difference(conjunto_B)\n",
        "print(f\"Inciso A:  {resultado_a}\")\n",
        "\n",
        "#Inciso B\n",
        "resultado_b = conjunto_potencia((conjunto_U - conjunto_A) & (conjunto_U - conjunto_B))\n",
        "print(f\"Inciso B:  {resultado_b}\")\n",
        "\n",
        "#Inciso C\n",
        "producto_cartesiano_c_b = [(c, b) for c in conjunto_C for b in conjunto_B]\n",
        "producto_cartesiano_a_c = [(a, c) for a in conjunto_A for c in conjunto_C]\n",
        "diferencia = set(producto_cartesiano_c_b) - set(producto_cartesiano_a_c)\n",
        "print(f\"Inciso C:  {diferencia}\")"
      ],
      "metadata": {
        "colab": {
          "base_uri": "https://localhost:8080/"
        },
        "id": "pujEgUr6QSeI",
        "outputId": "08f719dc-3e7e-4e53-afd3-c5ea415f411d"
      },
      "execution_count": null,
      "outputs": [
        {
          "output_type": "stream",
          "name": "stdout",
          "text": [
            "Inciso A:  {'a', 'c'}\n",
            "Inciso B:  [[], ['f'], ['e'], ['f', 'e']]\n",
            "Inciso C:  {('d', 'c'), ('a', 'b'), ('d', 'b'), ('a', 'c'), ('d', 'd')}\n"
          ]
        }
      ]
    },
    {
      "cell_type": "markdown",
      "source": [
        "## **Ejercicio 04**\n",
        "\n",
        "**Autor del libro:**  Murillo\n",
        "\n",
        "Ejercicios (sección 2.1)\n",
        "\n",
        "Ejercicios a resolver:\n",
        "\n",
        "<img src=\"https://drive.google.com/uc?id=1wxIMLpB1mypXe2L7YpDGa8O5QPsRhlwD\" width=\"500\"/>"
      ],
      "metadata": {
        "id": "RQQf2BP0QS9T"
      }
    },
    {
      "cell_type": "code",
      "source": [
        "#Problema 7\n",
        "a = set([\"a\",\"b\",\"g\"])\n",
        "b = set([\"b\",\"d\",\"e\",\"g\"])\n",
        "c = set([\"a\",\"b\",\"d\",\"f\",\"g\"])\n",
        "u = set([\"a\",\"b\",\"c\",\"d\",\"e\",\"f\",\"g\"])\n",
        "\n",
        "#Inciso A\n",
        "resultado_a = a.symmetric_difference(c) & (u - (b - a))\n",
        "print(f\"Inciso A:  {resultado_a}\")\n",
        "\n",
        "\n",
        "#Inciso B\n",
        "producto_cartesiano = [(p, m) for p in (conjunto_potencia(c-b)) for m in (a & b)]\n",
        "print(f\"Inciso B:  {producto_cartesiano}\")"
      ],
      "metadata": {
        "colab": {
          "base_uri": "https://localhost:8080/"
        },
        "id": "vie3Nnhfk7Yq",
        "outputId": "5357cb8d-3edf-4940-a37a-2b38d9d925c7"
      },
      "execution_count": null,
      "outputs": [
        {
          "output_type": "stream",
          "name": "stdout",
          "text": [
            "Inciso A:  {'f'}\n",
            "Inciso B:  [([], 'b'), ([], 'g'), (['f'], 'b'), (['f'], 'g'), (['a'], 'b'), (['a'], 'g'), (['f', 'a'], 'b'), (['f', 'a'], 'g')]\n"
          ]
        }
      ]
    },
    {
      "cell_type": "markdown",
      "source": [
        "## **Ejercicio 05**\n",
        "\n",
        "**Autor del libro:** Murillo\n",
        "\n",
        "\n",
        "<img src=\"https://drive.google.com/uc?id=14c71LjUPb4TH8JHFbxwPROUmC3yny3Tb\" width=\"800\"/>"
      ],
      "metadata": {
        "id": "NiDxrZOjy4VI"
      }
    },
    {
      "cell_type": "code",
      "source": [
        "#Problema 11\n",
        "a_p11 = set([1,2])\n",
        "b_p11 = set([3,5,7])\n",
        "c_p11 = set([2,4,5,6])\n",
        "d_p11 = set([2,5,6])\n",
        "u_p11 = set([1,2,3,4,5,6,7])\n",
        "\n",
        "#Inciso A\n",
        "resultado_a_p11 = (u_p11 - (a_p11.symmetric_difference(b_p11) - b_p11)) & d_p11\n",
        "print(f\"Inciso A:  {resultado_a_p11}\")\n",
        "\n",
        "\n",
        "#Inciso B\n",
        "producto_cartesiano_p11 = [(m, p) for m in conjunto_potencia(b_p11 - d_p11) for p in conjunto_potencia(b_p11 - c_p11)]\n",
        "print(f\"Inciso B: {producto_cartesiano_p11}\")"
      ],
      "metadata": {
        "colab": {
          "base_uri": "https://localhost:8080/"
        },
        "id": "6vVpNFSImGAK",
        "outputId": "db28cbbe-83b3-4833-d31b-9798c32f26b4"
      },
      "execution_count": null,
      "outputs": [
        {
          "output_type": "stream",
          "name": "stdout",
          "text": [
            "Inciso A:  {5, 6}\n",
            "Inciso B: [([], []), ([], [3]), ([], [7]), ([], [3, 7]), ([3], []), ([3], [3]), ([3], [7]), ([3], [3, 7]), ([7], []), ([7], [3]), ([7], [7]), ([7], [3, 7]), ([3, 7], []), ([3, 7], [3]), ([3, 7], [7]), ([3, 7], [3, 7])]\n"
          ]
        }
      ]
    },
    {
      "cell_type": "markdown",
      "source": [
        "## **Ejercicio 06**\n",
        "\n",
        "<img src=\"https://drive.google.com/uc?id=1bqqxT4zp5mObL5Qa6wXRCoxjpOSDoxvE\" width=\"800\" />"
      ],
      "metadata": {
        "id": "4GOVs8SPtQyi"
      }
    },
    {
      "cell_type": "code",
      "source": [
        "# Ejercicio 4.4.1\n",
        "conjunto_x = set([-2,2])\n",
        "conjunto_y = set([0,4])\n",
        "conjunto_z = set([-3,0,3])\n",
        "\n",
        "#Inciso A\n",
        "producto_cartesiano_x_y = [(x, y) for x in conjunto_x for y in conjunto_y]\n",
        "print(f\"Inciso A: {producto_cartesiano_x_y}\")\n",
        "\n",
        "#Inciso B\n",
        "producto_cartesiano_x_z = [(x, z) for x in conjunto_x for z in conjunto_z]\n",
        "print(f\"Inciso B: {producto_cartesiano_x_z}\")\n",
        "\n",
        "#Inciso C\n",
        "producto_cartesiano_z_y_y = [(z, y, y) for z in conjunto_z for y in conjunto_y for y in conjunto_y]\n",
        "print(f\"Inciso C: {producto_cartesiano_z_y_y}\")"
      ],
      "metadata": {
        "colab": {
          "base_uri": "https://localhost:8080/"
        },
        "id": "Bl8kA3oqtkVr",
        "outputId": "256d6c07-2fec-4cd4-9344-a654a1bddb7d"
      },
      "execution_count": null,
      "outputs": [
        {
          "output_type": "stream",
          "name": "stdout",
          "text": [
            "Inciso A: [(2, 0), (2, 4), (-2, 0), (-2, 4)]\n",
            "Inciso B: [(2, 0), (2, 3), (2, -3), (-2, 0), (-2, 3), (-2, -3)]\n",
            "Inciso C: [(0, 0, 0), (0, 4, 4), (0, 0, 0), (0, 4, 4), (3, 0, 0), (3, 4, 4), (3, 0, 0), (3, 4, 4), (-3, 0, 0), (-3, 4, 4), (-3, 0, 0), (-3, 4, 4)]\n"
          ]
        }
      ]
    },
    {
      "cell_type": "markdown",
      "source": [
        "## **Ejercicio 07**\n",
        "\n",
        "<img src=\"https://drive.google.com/uc?id=19QX0zd3tviDIleoKwPAxb6uYNQvNqGja\" width=\"800\"/>"
      ],
      "metadata": {
        "id": "-7z1zmXVtrWV"
      }
    },
    {
      "cell_type": "code",
      "source": [
        "#Ejericio 4.4.5\n",
        "conjunto_x = {-2,2}\n",
        "\n",
        "#Inciso A\n",
        "producto_cartesiano_x_px = [(x, m) for x in conjunto_x for m in conjunto_potencia(conjunto_x)]\n",
        "print(f\"Inciso A: {producto_cartesiano_x_px}\")\n",
        "\n",
        "#Inciso B\n",
        "producto_cartesiano_px_px = [(n, m) for n in conjunto_potencia(conjunto_x) for m in conjunto_potencia(conjunto_x)]\n",
        "print(f\"Inciso B: {producto_cartesiano_px_px}\")\n",
        "\n",
        "#Inciso C\n",
        "producto_cartesiano_x_x = [(m,n) for m in conjunto_x for n in conjunto_x]\n",
        "potencia = conjunto_potencia(producto_cartesiano_x_x)\n",
        "print(f\"Inciso C: {potencia}\")"
      ],
      "metadata": {
        "colab": {
          "base_uri": "https://localhost:8080/"
        },
        "id": "6ohGKl8yuFq2",
        "outputId": "a82ba45c-3beb-4171-af64-810bb9597a97"
      },
      "execution_count": null,
      "outputs": [
        {
          "output_type": "stream",
          "name": "stdout",
          "text": [
            "Inciso A: [(2, []), (2, [2]), (2, [-2]), (2, [2, -2]), (-2, []), (-2, [2]), (-2, [-2]), (-2, [2, -2])]\n",
            "Inciso B: [([], []), ([], [2]), ([], [-2]), ([], [2, -2]), ([2], []), ([2], [2]), ([2], [-2]), ([2], [2, -2]), ([-2], []), ([-2], [2]), ([-2], [-2]), ([-2], [2, -2]), ([2, -2], []), ([2, -2], [2]), ([2, -2], [-2]), ([2, -2], [2, -2])]\n",
            "Inciso C: [[], [(2, 2)], [(2, -2)], [(2, 2), (2, -2)], [(-2, 2)], [(2, 2), (-2, 2)], [(2, -2), (-2, 2)], [(2, 2), (2, -2), (-2, 2)], [(-2, -2)], [(2, 2), (-2, -2)], [(2, -2), (-2, -2)], [(2, 2), (2, -2), (-2, -2)], [(-2, 2), (-2, -2)], [(2, 2), (-2, 2), (-2, -2)], [(2, -2), (-2, 2), (-2, -2)], [(2, 2), (2, -2), (-2, 2), (-2, -2)]]\n"
          ]
        }
      ]
    },
    {
      "cell_type": "markdown",
      "source": [
        "## **Ejercicio 08**\n",
        "\n",
        "**Libro:** Mathematical Thinking\n",
        "\n",
        "\n",
        "<img src=\"https://drive.google.com/uc?id=1Qt6D6-tWyGjDkOvME349-Ra-HO10Oa8i\" width=\"800\"/>\n",
        "\n",
        "\n",
        "**Traducción:**\n",
        "Escriba una función de Python que tome como argumento un conjunto no vacío de nombres de archivos; los archivos correspondientes contienen nombres de personas, como en los ejemplos de la Sección 8.2. Su función devolverá el conjunto de nombres que están en todos los archivos. Por ejemplo, los archivos pueden ser listas de un maestro de los estudiantes en clase en diferentes días, y su función calculará los nombres de los estudiantes con asistencia perfecta. Haz que tu código sea lo más simple y elegante que puedas."
      ],
      "metadata": {
        "id": "TJCw8OvyuKod"
      }
    },
    {
      "cell_type": "code",
      "source": [
        "#Problema 01\n",
        "import csv\n",
        "\n",
        "def obtener_csv_como_lista_diccionarios(nombre_archivo):\n",
        "        separador = \",\"\n",
        "        with open(nombre_archivo, encoding=\"utf-8\") as archivo:\n",
        "            next(archivo)\n",
        "            alumnos = []\n",
        "            for linea in archivo:\n",
        "                linea = linea.strip(\"\\n\")\n",
        "                columnas = linea.split(separador)\n",
        "                nombres = columnas[0]\n",
        "                apellidos = columnas[1]\n",
        "                asistencia_lunes = columnas[2]\n",
        "                asistencia_martes = columnas[3]\n",
        "                asistencia_miercoles = columnas[4]\n",
        "                asistencia_jueves = columnas[5]\n",
        "                asistencia_viernes = columnas[6]\n",
        "                asistencia_sabado = columnas[7]\n",
        "                alumnos.append({\n",
        "                    \"nombres\": nombres,\n",
        "                    \"apellidos\": apellidos,\n",
        "                    \"asistencia_lunes\": asistencia_lunes,\n",
        "                    \"asistencia_martes\": asistencia_martes,\n",
        "                    \"asistencia_miercoles\": asistencia_miercoles,\n",
        "                    \"asistencia_jueves\": asistencia_jueves,\n",
        "                    \"asistencia_viernes\": asistencia_viernes,\n",
        "                    \"asistencia_sabado\": asistencia_sabado,\n",
        "                })\n",
        "            return alumnos\n",
        "\n",
        "def asistencia_perfecta(lista_diccionarios):\n",
        "        nombres_asistencia = set()\n",
        "        for alumno in lista_diccionarios:\n",
        "          sentencia = alumno[\"asistencia_lunes\"] == \"si\" and alumno[\"asistencia_martes\"] == \"si\" and alumno[\"asistencia_miercoles\"] == \"si\" and alumno[\"asistencia_jueves\"] == \"si\" and alumno[\"asistencia_viernes\"] == \"si\" and alumno[\"asistencia_sabado\"] == \"si\"\n",
        "          if sentencia:\n",
        "              nombres_asistencia.add(f\"{alumno['nombres']}, {alumno['apellidos']}\")\n",
        "\n",
        "        return nombres_asistencia\n",
        "\n",
        "archivo_csv = 'asistencia.csv'\n",
        "lista_alumnos = obtener_csv_como_lista_diccionarios(archivo_csv)\n",
        "nombres_asistencia = asistencia_perfecta(lista_alumnos)\n",
        "print(f\"Nombres con asistencia perfecta: {nombres_asistencia}\")"
      ],
      "metadata": {
        "colab": {
          "base_uri": "https://localhost:8080/"
        },
        "id": "3fgLnMmxCybM",
        "outputId": "e7035bcd-9b41-4b97-d77f-5ecae1719c66"
      },
      "execution_count": null,
      "outputs": [
        {
          "output_type": "stream",
          "name": "stdout",
          "text": [
            "Nombres con asistencia perfecta: {'Mateo Alejandro, Choy Rios', 'Erick Martin, Alegre Mayanga', 'Rodrigo Jose, Alva Saenz', 'Diego Alonso, Calderon Matias', 'Sebastian Antonio, Cueto Salazar', 'Sebastian Fernando, Castillo Layme', 'Harumi Nayeli, Contreras Quispe', 'Hugo Sebastian, Alvarez Mora', 'Luiz Yazid, Arroyo Vasquez', 'Luis Eduardo, Calle Huamantinco', 'Kelly Milene, Bellido Medina', 'Jesus Stevan, Diaz Ingol', 'Alwin Edu, Davila Raffo'}\n"
          ]
        }
      ]
    },
    {
      "cell_type": "markdown",
      "source": [
        "## **Ejercicio 09**\n",
        "\n",
        "**Autor del libro:** Omar Hijab\n",
        "\n",
        "\n",
        "<img src=\"https://drive.google.com/uc?id=16JeM_DaMbLNGTcBVJ83my6jTJnJFKVTB\" width=\"800\"/>"
      ],
      "metadata": {
        "id": "HL7Y9uxSwqp9"
      }
    },
    {
      "cell_type": "code",
      "source": [
        "#Problema 3.8\n",
        "conjunto_divisibles = set()\n",
        "\n",
        "for i in range(1, 10001):\n",
        "  if i%2==0 or i%3==0 or i%5==0:\n",
        "    conjunto_divisibles.add(i)\n",
        "\n",
        "print(f\"La cantidad de enteros que hay entre 1 y 10000 es: {len(conjunto_divisibles)}\")\n"
      ],
      "metadata": {
        "colab": {
          "base_uri": "https://localhost:8080/"
        },
        "id": "dDD6eGBow7Fw",
        "outputId": "1e65d27c-a4b8-454c-8894-12198d906cb5"
      },
      "execution_count": null,
      "outputs": [
        {
          "output_type": "stream",
          "name": "stdout",
          "text": [
            "La cantidad de enteros que hay entre 1 y 10000 es: 7334\n"
          ]
        }
      ]
    },
    {
      "cell_type": "markdown",
      "source": [
        "## **Ejercicio 10**\n",
        "\n",
        "**Autor del libro:** Susanna S. EPP\n",
        "\n",
        "\n",
        "<img src=\"https://drive.google.com/uc?id=1pX4ArbK_1xAiKACMJ26OF3CIMjOV-53_\" width=\"800\" />"
      ],
      "metadata": {
        "id": "x3p7Jtltx5J6"
      }
    },
    {
      "cell_type": "code",
      "source": [
        "#Problema 35\n",
        "a = set([\"a\", \"b\"])\n",
        "b = set([1,2])\n",
        "c = set([2,3])\n",
        "\n",
        "#Inciso A\n",
        "producto_cartesiano_a_bc = [(p, m) for p in a for m in (b | c)]\n",
        "print(f\"Inciso A: {producto_cartesiano_a_bc}\")\n",
        "\n",
        "#Inciso B\n",
        "producto_cartesiano_ab = [(p, m) for p in a for m in b]\n",
        "producto_cartesiano_ac = [(p, m) for p in a for m in c]\n",
        "resultado = set(producto_cartesiano_ab) | set(producto_cartesiano_ac)\n",
        "print(f\"Inciso B: {resultado}\")\n",
        "\n",
        "#Inciso C\n",
        "producto_cartesiano_a_bc = [(p, m) for p in a for m in (b & c)]\n",
        "print(f\"Inciso C: {producto_cartesiano_a_bc}\")\n",
        "\n",
        "#Inciso D\n",
        "producto_cartesiano_ab = [(p, m) for p in a for m in b]\n",
        "producto_cartesiano_ac = [(p, m) for p in a for m in c]\n",
        "resultado = set(producto_cartesiano_ab) & set(producto_cartesiano_ac)\n",
        "print(f\"Inciso D: {resultado}\")\n"
      ],
      "metadata": {
        "colab": {
          "base_uri": "https://localhost:8080/"
        },
        "id": "-MgpX2d3zxeo",
        "outputId": "40608bd1-b0e8-4e07-e956-0e84b492854c"
      },
      "execution_count": null,
      "outputs": [
        {
          "output_type": "stream",
          "name": "stdout",
          "text": [
            "Inciso A: [('a', 1), ('a', 2), ('a', 3), ('b', 1), ('b', 2), ('b', 3)]\n",
            "Inciso B: {('a', 1), ('b', 2), ('a', 3), ('b', 1), ('a', 2), ('b', 3)}\n",
            "Inciso C: [('a', 2), ('b', 2)]\n",
            "Inciso D: {('a', 2), ('b', 2)}\n"
          ]
        }
      ]
    },
    {
      "cell_type": "markdown",
      "source": [
        "## **Ejercicios de la PPT de la clase**"
      ],
      "metadata": {
        "id": "I2GNpJW2WvCq"
      }
    },
    {
      "cell_type": "markdown",
      "source": [
        "### **Ejercicio 01**\n",
        "\n",
        "<img src=\"https://drive.google.com/uc?id=16cq-fvWMRH6flY0Y9xvp_9Xww_II5cpt\" width=\"600\" />"
      ],
      "metadata": {
        "id": "pNtnAe5dXnIc"
      }
    },
    {
      "cell_type": "code",
      "source": [
        "#Primer conjunto\n",
        "conjunto_x_reales = {x for x in range(-20,21) if x**2 <= 20}\n",
        "print(f\"Primer conjunto: {conjunto_x_reales}\")\n",
        "\n",
        "#Segundo conjunto\n",
        "conjunto_x_naturales = {x for x in range(21) if x**2 <= 20}\n",
        "print(f\"Segundo conjunto: {conjunto_x_naturales}\")\n",
        "\n",
        "#Tercer conjunto\n",
        "conjunto_x_naturales_condicion = {x for x in range(21) for n in range(21) if x <= 20 and x == n ** 2}\n",
        "print(f\"Tercer conjunto: {conjunto_x_naturales_condicion}\")\n",
        "\n",
        "#Conjunto A\n",
        "conjunto_a = {x ** 2 for x in range(-20,21)}\n",
        "print(f\"Lista de elementos del conjunto A: {conjunto_a}\")\n",
        "\n",
        "#Conjunto B\n",
        "conjunto_b = {2*n + 1 for n in range(-20,21)}\n",
        "print(f\"Lista de elementos del conjunto B: {conjunto_b}\")\n",
        "\n",
        "#Conjunto C\n",
        "conjunto_c = {3*n + 1 for n in range(-20,21)}\n",
        "print(f\"Lista de elementos del conjunto C: {conjunto_c}\")\n",
        "\n",
        "#Conjunto D\n",
        "a = 3\n",
        "b = 16\n",
        "\n",
        "conjunto_d = {x for x in range(a+1, b)}\n",
        "print(f\"Conjunto (a, b) para a = {a} y b = {b}: {conjunto_d}\")\n",
        "\n",
        "#Conjunto E\n",
        "a = 15\n",
        "b = 32\n",
        "\n",
        "conjunto_e = {x for x in range(a, b+1)}\n",
        "print(f\"Conjunto (a, b) para a = {a} y b = {b}: {conjunto_e}\")\n",
        "\n",
        "#Conjunto F\n",
        "a = 8\n",
        "b = 22\n",
        "\n",
        "conjunto_f = {x for x in range(a, b+1)}\n",
        "print(f\"Conjunto (a, b) para a = {a} y b = {b}: {conjunto_f}\")\n",
        "\n",
        "\n",
        "#Conjunto G\n",
        "a = 7\n",
        "b = 24\n",
        "\n",
        "conjunto_g = {x for x in range(a+1, b+1)}\n",
        "print(f\"Conjunto (a, b) para a = {a} y b = {b}: {conjunto_g}\")"
      ],
      "metadata": {
        "colab": {
          "base_uri": "https://localhost:8080/"
        },
        "id": "WsPjmIpyWyqw",
        "outputId": "acba9e7c-8eaa-42c8-9d74-7f129ef282f5"
      },
      "execution_count": null,
      "outputs": [
        {
          "output_type": "stream",
          "name": "stdout",
          "text": [
            "Primer conjunto: {0, 1, 2, 3, 4, -1, -4, -3, -2}\n",
            "Segundo conjunto: {0, 1, 2, 3, 4}\n",
            "Tercer conjunto: {0, 1, 4, 9, 16}\n",
            "Lista de elementos del conjunto A: {256, 1, 0, 4, 9, 400, 144, 16, 25, 289, 36, 169, 49, 64, 324, 196, 81, 225, 100, 361, 121}\n",
            "Lista de elementos del conjunto B: {1, 3, 5, 7, 9, 11, 13, 15, 17, 19, 21, 23, 25, 27, 29, 31, 33, 35, 37, 39, 41, -39, -37, -35, -33, -31, -29, -27, -25, -23, -21, -19, -17, -15, -13, -11, -9, -7, -5, -3, -1}\n",
            "Lista de elementos del conjunto C: {1, 4, 7, 10, 13, 16, 19, 22, 25, 28, 31, 34, 37, 40, 43, 46, 49, 52, 55, 58, 61, -59, -56, -53, -50, -47, -44, -41, -38, -35, -32, -29, -26, -23, -20, -17, -14, -11, -8, -5, -2}\n",
            "Conjunto (a, b) para a = 3 y b = 16: {4, 5, 6, 7, 8, 9, 10, 11, 12, 13, 14, 15}\n",
            "Conjunto (a, b) para a = 15 y b = 32: {32, 15, 16, 17, 18, 19, 20, 21, 22, 23, 24, 25, 26, 27, 28, 29, 30, 31}\n",
            "Conjunto (a, b) para a = 8 y b = 22: {8, 9, 10, 11, 12, 13, 14, 15, 16, 17, 18, 19, 20, 21, 22}\n",
            "Conjunto (a, b) para a = 7 y b = 24: {8, 9, 10, 11, 12, 13, 14, 15, 16, 17, 18, 19, 20, 21, 22, 23, 24}\n"
          ]
        }
      ]
    },
    {
      "cell_type": "markdown",
      "source": [
        "### **Ejercicio 02**\n",
        "\n",
        "<img src=\"https://drive.google.com/uc?id=1EcWKazz7jSAQC9PeDRGaG6zAUstNmzRp\" width=\"600\" />"
      ],
      "metadata": {
        "id": "RNCAVk9hZGKD"
      }
    },
    {
      "cell_type": "code",
      "source": [
        "conjunto_u = {1,2,3,4,5,6,7,8,9,10,11,12,13,14,15,16,17,18,19,20} #Dado que no se puede enumarar a todos los numeros del conjunto de los numeros naturales, en este caso se limita el conjunto universal.\n",
        "conjunto_a = {1,2,3,4}\n",
        "conjunto_b = {3,4,5,6,7}\n",
        "conjunto_c = {2,3,8,9}\n",
        "#conjunto_e = {2,6,6,...} #Dado que tiene elementos repetidos, no seria un conjunto, ya que un conjunto tiene elementos unicos.\n",
        "conjunto_e = {2,6}\n",
        "complemento_c = conjunto_u - conjunto_c\n",
        "\n",
        "#Complemento de A\n",
        "complemento_a = conjunto_u - conjunto_a\n",
        "print(f\"Complemento de A: {complemento_a}\")\n",
        "\n",
        "#Complemento de B\n",
        "complemento_b = conjunto_u - conjunto_b\n",
        "print(f\"Complemento de B: {complemento_b}\")\n",
        "\n",
        "#Complemento de E\n",
        "complemento_e = conjunto_u - conjunto_e\n",
        "print(f\"Complemento de E: {complemento_e}\")\n",
        "\n",
        "print()\n",
        "\n",
        "#A\\B = A - B\n",
        "print(f\"A\\B: {conjunto_a - conjunto_b}\")\n",
        "\n",
        "#A\\C = A - C\n",
        "print(f\"A\\C: {conjunto_a - conjunto_c}\")\n",
        "\n",
        "#B\\C = B - C\n",
        "print(f\"B\\C: {conjunto_b - conjunto_c}\")\n",
        "\n",
        "#A\\E = A - E\n",
        "print(f\"A\\E: {conjunto_a - conjunto_e}\")\n",
        "\n",
        "#B\\A = B - A\n",
        "print(f\"B\\A: {conjunto_b - conjunto_a}\")\n",
        "\n",
        "#A\\C = A - C\n",
        "print(f\"A\\C: {conjunto_a - conjunto_c}\")\n",
        "\n",
        "#C\\A = C - A\n",
        "print(f\"C\\A: {conjunto_c - conjunto_a}\")\n",
        "\n",
        "#C\\B = C - B\n",
        "print(f\"C\\B: {conjunto_c - conjunto_b}\")\n",
        "\n",
        "#E\\A = E - A\n",
        "print(f\"E\\A: {conjunto_e - conjunto_a}\")\n",
        "\n",
        "print()\n",
        "\n",
        "#A  B\n",
        "print(f\"Primera parte: {((conjunto_a | conjunto_b) - (conjunto_a & conjunto_b))}\")\n",
        "\n",
        "#B  C\n",
        "print(f\"Segunda parte: {((conjunto_b | conjunto_c) - (conjunto_b & conjunto_c))}\")\n",
        "\n",
        "#A  C\n",
        "print(f\"Tercera parte: {((conjunto_a | conjunto_c) - (conjunto_a & conjunto_c))}\")\n",
        "\n",
        "#A  E\n",
        "print(f\"Cuarta parte: {((conjunto_a | conjunto_e) - (conjunto_a & conjunto_e))}\")"
      ],
      "metadata": {
        "colab": {
          "base_uri": "https://localhost:8080/"
        },
        "id": "7pKhVURDZVsM",
        "outputId": "8675da30-9347-4048-898d-7901040a8187"
      },
      "execution_count": null,
      "outputs": [
        {
          "output_type": "stream",
          "name": "stdout",
          "text": [
            "Complemento de A: {5, 6, 7, 8, 9, 10, 11, 12, 13, 14, 15, 16, 17, 18, 19, 20}\n",
            "Complemento de B: {1, 2, 8, 9, 10, 11, 12, 13, 14, 15, 16, 17, 18, 19, 20}\n",
            "Complemento de E: {1, 3, 4, 5, 7, 8, 9, 10, 11, 12, 13, 14, 15, 16, 17, 18, 19, 20}\n",
            "\n",
            "A\\B: {1, 2}\n",
            "A\\C: {1, 4}\n",
            "B\\C: {4, 5, 6, 7}\n",
            "A\\E: {1, 3, 4}\n",
            "B\\A: {5, 6, 7}\n",
            "A\\C: {1, 4}\n",
            "C\\A: {8, 9}\n",
            "C\\B: {8, 9, 2}\n",
            "E\\A: {6}\n",
            "\n",
            "Primera parte: {1, 2, 5, 6, 7}\n",
            "Segunda parte: {2, 4, 5, 6, 7, 8, 9}\n",
            "Tercera parte: {8, 1, 4, 9}\n",
            "Primera parte: {1, 3, 4, 6}\n"
          ]
        }
      ]
    },
    {
      "cell_type": "markdown",
      "source": [
        "### **Ejercicio 03**\n",
        "\n",
        "<img src=\"https://drive.google.com/uc?id=1OYJuOvy3M_A0LN8JoYwRvZ5G7lrHAZ-L\" width=\"600\" />"
      ],
      "metadata": {
        "id": "FtTVzgBHZWJ-"
      }
    },
    {
      "cell_type": "code",
      "source": [
        "#Particion de un conjunto\n",
        "def particion(conjunto_original, particion):\n",
        "    #La union de todas las particiones debe es igual al conjunto original\n",
        "    if set().union(*particion) != conjunto_original: #Calcula la union de todas los conjuntos que se encuentra en la particion desempaquetando la lista de conjuntos, luego, se verifica dicho conjunto con el conjunto original\n",
        "        return False\n",
        "\n",
        "    #Cada conjunto de la particion deben de ser disjuntos\n",
        "    for i in range(len(particion)): #Mide el tamaño de la particion y la recorre.\n",
        "        for j in range(i + 1, len(particion)): #Recorre el conjunto actual y el siguiente.\n",
        "            if particion[i].intersection(particion[j]): #Verifica si existen intersecciones entre los conjuntos.\n",
        "                return False\n",
        "\n",
        "    return True"
      ],
      "metadata": {
        "id": "7uRTCPUOx8zg"
      },
      "execution_count": null,
      "outputs": []
    },
    {
      "cell_type": "code",
      "source": [
        "conjunto_s = {1,2,3,4,5,6,7,8,9}\n",
        "\n",
        "#Proposicion 1\n",
        "conjunto = [{1,3,5},{2,6},{4,8,9}]\n",
        "resultado = particion(conjunto_s,conjunto)\n",
        "print(f\"Proposicion 01: {resultado}\")\n",
        "\n",
        "#Proposicion 2\n",
        "conjunto = [{1,3,5},{2,4,6,8},{5,7,9}]\n",
        "resultado = particion(conjunto_s,conjunto)\n",
        "print(f\"Proposicion 02: {resultado}\")\n",
        "\n",
        "#Proposicion 3\n",
        "conjunto = [{1,3,5},{2,4,6,8},{7,9}]\n",
        "resultado = particion(conjunto_s,conjunto)\n",
        "print(f\"Proposicion 03: {resultado}\")"
      ],
      "metadata": {
        "colab": {
          "base_uri": "https://localhost:8080/"
        },
        "id": "E6L18Vl_ZnHx",
        "outputId": "6d4fc7fd-3e61-4f30-b16d-27d2dadfbe69"
      },
      "execution_count": null,
      "outputs": [
        {
          "output_type": "stream",
          "name": "stdout",
          "text": [
            "Proposicion 01: False\n",
            "Proposicion 02: False\n",
            "Proposicion 03: True\n"
          ]
        }
      ]
    },
    {
      "cell_type": "markdown",
      "source": [
        "### **Ejercicio 04**\n",
        "\n",
        "<img src=\"https://drive.google.com/uc?id=1j0hVoBNsflIsoSUfz8jcbTaXNbgTWhrz\" width=\"600\" />"
      ],
      "metadata": {
        "id": "ufZ49HnuZnZf"
      }
    },
    {
      "cell_type": "code",
      "source": [
        "#Datos\n",
        "conjunto_a = 68 #Excelente conducta\n",
        "conjunto_b = 138 #Inteligentes\n",
        "conjunto_c = 160 #Sociables\n",
        "interseccion_b_c = 120 #Sociales e inteligentes\n",
        "\n",
        "#Datos del enunciado\n",
        "diferencia_a_b = 20 #Excelente conducta y no inteligentes\n",
        "diferencia_a_c = 13 #Excelente conducta y no sociables\n",
        "interseccion_a_c_menos_b = 15 #Excelente conducta, sociable pero no inteligente\n",
        "\n",
        "#Datos razonados a partir del enunciado\n",
        "interseccion_a_b = 48\n",
        "interseccion_a_c = 55\n",
        "interseccion_a_b_c = 40\n",
        "\n",
        "\n",
        "#Figura\n",
        "fig = plt.figure(figsize=(5, 5))\n",
        "\n",
        "venn3(subsets = (conjunto_a, conjunto_b, interseccion_a_b, conjunto_c, interseccion_a_c, interseccion_b_c, interseccion_a_b_c), set_labels = ('Excelente \\nconducta (A)', 'Inteligente (B)', 'Sociable (C)'), alpha = 0.6); #subsets = (conjunto_a, conjunto_b, interseccion_a_b, conjunto_c, interseccion_a_c, interseccion_b_c, interseccion_a_b_c)\n",
        "plt.title(\"Diagrama de Venn de A, B y C\")\n",
        "plt.show()"
      ],
      "metadata": {
        "colab": {
          "base_uri": "https://localhost:8080/",
          "height": 446
        },
        "id": "3T4lhi9zZ5Nf",
        "outputId": "21a28c01-f1dd-4fff-9a99-5e7086c7f779"
      },
      "execution_count": null,
      "outputs": [
        {
          "output_type": "display_data",
          "data": {
            "text/plain": [
              "<Figure size 500x500 with 1 Axes>"
            ],
            "image/png": "[encoded data removed]"
          },
          "metadata": {}
        }
      ]
    },
    {
      "cell_type": "markdown",
      "source": [
        "### **Ejercicio 05**\n",
        "\n",
        "<img src=\"https://drive.google.com/uc?id=1Vp6Y5vcbl4QNGc6ErvMf35tjgW64TCl3\" width=\"600\" />"
      ],
      "metadata": {
        "id": "ZoyC_fv0Z5kY"
      }
    },
    {
      "cell_type": "code",
      "source": [
        "#Potencia - Se demora en ejecutar\n",
        "#potencia_a = conjunto_potencia(conjunto_potencia(conjunto_a))"
      ],
      "metadata": {
        "id": "rkRq122Rcxlg"
      },
      "execution_count": null,
      "outputs": []
    },
    {
      "cell_type": "code",
      "source": [
        "conjunto_a = [[], [4, 5], [4], [5], [], 5]\n",
        "\n",
        "#Proposicion A\n",
        "resultado = [] in conjunto_a\n",
        "print(f\"Proposicion A: {resultado}\")\n",
        "\n",
        "#Proposicion B\n",
        "resultado = [5] in conjunto_potencia(conjunto_a)\n",
        "print(f\"Proposicion B: {resultado}\")\n",
        "\n",
        "#Proposicion C\n",
        "resultado = [4,5] in conjunto_potencia(conjunto_a)\n",
        "print(f\"Proposicion C: {resultado}\")\n",
        "\n",
        "#Proposicion D - Se demora mucho, por eso se ignorara.\n",
        "#resultado = [4,5] in potencia_a\n",
        "#print(f\"Proposicion D: {resultado}\")\n",
        "\n",
        "#Proposicion E\n",
        "resultado = [] in conjunto_potencia(conjunto_a)\n",
        "print(f\"Proposicion E: {resultado}\")\n",
        "\n",
        "#Proposicion F\n",
        "resultado = [[]] in conjunto_potencia(conjunto_a)\n",
        "print(f\"Proposicion F: {resultado}\")\n",
        "\n",
        "#Proposicion G\n",
        "resultado = [] in conjunto_potencia(conjunto_a)\n",
        "print(f\"Proposicion G: {resultado}\")"
      ],
      "metadata": {
        "colab": {
          "base_uri": "https://localhost:8080/"
        },
        "id": "6oLtyXpnaLUs",
        "outputId": "87c6483e-6554-4cb0-c53f-952d4a81f721"
      },
      "execution_count": null,
      "outputs": [
        {
          "output_type": "stream",
          "name": "stdout",
          "text": [
            "Proposicion A: True\n",
            "Proposicion B: True\n",
            "Proposicion C: False\n",
            "Proposicion E: True\n",
            "Proposicion F: True\n",
            "Proposicion G: True\n"
          ]
        }
      ]
    },
    {
      "cell_type": "markdown",
      "source": [
        "### **Ejercicio 06**\n",
        "\n",
        "\n",
        "<img src=\"https://drive.google.com/uc?id=16xj62SwfmOujpJ55xcE2nwA4f53it8PK\" width=\"600\" />\n",
        "\n"
      ],
      "metadata": {
        "id": "PqXOTWApATtJ"
      }
    },
    {
      "cell_type": "code",
      "source": [
        "#Primer enunciado\n",
        "conjunto_x_reales = {x for x in range(-10, 11) if x**2 <= 1}\n",
        "print(f\"Elementos del primer enunciado: {conjunto_x_reales}\")\n",
        "\n",
        "#Segundo enunciado\n",
        "conjunto_x_naturales = {x for x in range(1,2) if x**2 <= 1}\n",
        "print(f\"Elementos del segundo enunciado: {conjunto_x_naturales}\")"
      ],
      "metadata": {
        "colab": {
          "base_uri": "https://localhost:8080/"
        },
        "id": "cFyx_xSjAm0L",
        "outputId": "5c5293f5-5f04-44a7-aa72-a26f33cc7b67"
      },
      "execution_count": null,
      "outputs": [
        {
          "output_type": "stream",
          "name": "stdout",
          "text": [
            "Elementos del primer enunciado: {0, 1, -1}\n",
            "Elementos del segundo enunciado: {1}\n"
          ]
        }
      ]
    },
    {
      "cell_type": "markdown",
      "source": [
        "### **Ejercicio 07**\n",
        "\n",
        "\n",
        "<img src=\"https://drive.google.com/uc?id=1qJ0YZjeGkPT24d_K60fBVEI49mwm1q2c\" width=\"800\" />"
      ],
      "metadata": {
        "id": "RDn49I19VkzR"
      }
    },
    {
      "cell_type": "code",
      "source": [
        "#Datos del enunciado\n",
        "conjunto_universal = 100 #Cantidad de empleados\n",
        "interseccion_a_b = 25 #Son contadores y economistas\n",
        "interseccion_b_C = 27 #Son contadores e ingenieros\n",
        "interseccion_a_C = 33 #Son economistas e ingenieros\n",
        "\n",
        "#Datos razonados a partir del enunciado\n",
        "interseccion_a_b_c = 15\n",
        "interseccion_a_b_menos_c = 10\n",
        "interseccion_b_c_menos_a = 12\n",
        "interseccion_a_c_menos_b = 18\n",
        "\n",
        "#Inciso a\n",
        "print(f\"a) Cantidad de empleados que tienen las 3 profesiones: {interseccion_a_b_c}\")\n",
        "\n",
        "#Inciso b\n",
        "print(f\"b) Cantidad de empleados que tienen 2 profesiones: {interseccion_a_b_menos_c + interseccion_b_c_menos_a + interseccion_a_c_menos_b}\")"
      ],
      "metadata": {
        "colab": {
          "base_uri": "https://localhost:8080/"
        },
        "id": "MhW-eYWSVsPt",
        "outputId": "be67f87a-1cef-4cd7-c8ea-05e10b153ffa"
      },
      "execution_count": null,
      "outputs": [
        {
          "output_type": "stream",
          "name": "stdout",
          "text": [
            "a) Cantidad de empleados que tienen las 3 profesiones: 15\n",
            "b) Cantidad de empleados que tienen 2 profesiones: 40\n"
          ]
        }
      ]
    },
    {
      "cell_type": "markdown",
      "source": [
        "### **Ejercicio 08**\n",
        "\n",
        "<img src=\"https://drive.google.com/uc?id=1mSRY6pRJS_WP63XtEGVFKFsJsLXSkH7a\" width=\"600\" />"
      ],
      "metadata": {
        "id": "3CKHqwIsVs2r"
      }
    },
    {
      "cell_type": "code",
      "source": [
        "#Inciso a\n",
        "conjunto_a = {3*x + 1 for x in range(-20,20 + 1)}\n",
        "pertenencia = -11 not in conjunto_a\n",
        "print(f\" -11 no pertenece al conjunto A: {pertenencia}\")\n",
        "\n",
        "#Inciso b\n",
        "potencia = conjunto_potencia({1} & {2})\n",
        "print(f\"Potencia de ({{1}} & {{2}}): {potencia}\")"
      ],
      "metadata": {
        "colab": {
          "base_uri": "https://localhost:8080/"
        },
        "id": "_e3n8vjmcYCM",
        "outputId": "d2de4156-eacb-4a7d-aa5a-b9835e9e4967"
      },
      "execution_count": null,
      "outputs": [
        {
          "output_type": "stream",
          "name": "stdout",
          "text": [
            " -11 no pertenece al conjunto A: False\n",
            "Potencia de ({1} & {2}): [[]]\n"
          ]
        }
      ]
    }
  ]
}