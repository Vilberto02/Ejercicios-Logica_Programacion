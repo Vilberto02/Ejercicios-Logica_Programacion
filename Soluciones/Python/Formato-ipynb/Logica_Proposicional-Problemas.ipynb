{
  "nbformat": 4,
  "nbformat_minor": 0,
  "metadata": {
    "colab": {
      "provenance": []
    },
    "kernelspec": {
      "name": "python3",
      "display_name": "Python 3"
    },
    "language_info": {
      "name": "python"
    }
  },
  "cells": [
    {
      "cell_type": "markdown",
      "source": [
        "# Tarea N°01: Lógica proposicional"
      ],
      "metadata": {
        "id": "mRZLahFlqd4P"
      }
    },
    {
      "cell_type": "code",
      "source": [
        "from itertools import product\n",
        "import re\n",
        "from itertools import product\n",
        "from tabulate import tabulate\n",
        "\n",
        "symbols = {'∧', '∨', '→', '↔'} # Símbolos para facilitar la copia en la declaración lógica"
      ],
      "metadata": {
        "id": "0ZCpVa1kqnH-"
      },
      "execution_count": null,
      "outputs": []
    },
    {
      "cell_type": "code",
      "source": [
        "#Condicional\n",
        "def ifthen(a, b):\n",
        "  return not a or b"
      ],
      "metadata": {
        "id": "XP6gzLa7sFub"
      },
      "execution_count": null,
      "outputs": []
    },
    {
      "cell_type": "code",
      "source": [
        "#Bicondicional\n",
        "def biconditional(a, b):\n",
        "  return ifthen(a, b) and ifthen(b, a)"
      ],
      "metadata": {
        "id": "DCpSDjF4sN9I"
      },
      "execution_count": null,
      "outputs": []
    },
    {
      "cell_type": "markdown",
      "source": [
        "Ejercicio 01:\n",
        "\n",
        "Proposición lógica: $A:\\ \\left[( p\\land q)\\rightarrow ( r\\lor \\sim p)\\right] \\land r$    \n",
        "Proposición simplificada: $A:\\ [ \\sim ( p\\land q) \\lor r] \\land r$"
      ],
      "metadata": {
        "id": "yx0SqtGwTlq9"
      }
    },
    {
      "cell_type": "code",
      "source": [
        "def proposicion(p, q, r):\n",
        "    return f\"{(not (p and q) or r) and r}\"\n",
        "\n",
        "print(\"Proposicion logica: [(p ∧ q) → (r ∨ ~ p)] ∧ r\")\n",
        "print(\"Tabla de verdad\")\n",
        "for P, Q, R in product((True, False), repeat=3):\n",
        "    print(f\"[({str(P):<5} and {str(Q):<5}) → ({str(R):<5} or not {str(P):<5})] and {str(R):<5} is \"\n",
        "          f\"{(ifthen((P and Q), (R or not P))) and R}\")\n",
        "\n",
        "print(\"\\n---------------------------------------------------------------------------\")\n",
        "\n",
        "print(\"\\nProposicion simplificada: [~ (p ∧ q) ∨ r] ∧ r\")\n",
        "print(\"Tabla de verdad\")\n",
        "for P, Q, R in product((True, False), repeat=3):\n",
        "    print(f\"[not ({str(P):<5} and {str(Q):<5}) or {str(R):<5}] and {str(R):<5} is \"\n",
        "          f\"{proposicion(P, Q, R)}\")"
      ],
      "metadata": {
        "colab": {
          "base_uri": "https://localhost:8080/"
        },
        "id": "8HoB9BuAW3hN",
        "outputId": "a3b625e8-5bfd-4a9c-c905-2bc4a8aca172"
      },
      "execution_count": null,
      "outputs": [
        {
          "output_type": "stream",
          "name": "stdout",
          "text": [
            "Proposicion logica: [(p ∧ q) → (r ∨ ~ p)] ∧ r\n",
            "Tabla de verdad\n",
            "[(True  and True ) → (True  or not True )] and True  is True\n",
            "[(True  and True ) → (False or not True )] and False is False\n",
            "[(True  and False) → (True  or not True )] and True  is True\n",
            "[(True  and False) → (False or not True )] and False is False\n",
            "[(False and True ) → (True  or not False)] and True  is True\n",
            "[(False and True ) → (False or not False)] and False is False\n",
            "[(False and False) → (True  or not False)] and True  is True\n",
            "[(False and False) → (False or not False)] and False is False\n",
            "\n",
            "---------------------------------------------------------------------------\n",
            "\n",
            "Proposicion simplificada: [~ (p ∧ q) ∨ r] ∧ r\n",
            "Tabla de verdad\n",
            "[not (True  and True ) or True ] and True  is True\n",
            "[not (True  and True ) or False] and False is False\n",
            "[not (True  and False) or True ] and True  is True\n",
            "[not (True  and False) or False] and False is False\n",
            "[not (False and True ) or True ] and True  is True\n",
            "[not (False and True ) or False] and False is False\n",
            "[not (False and False) or True ] and True  is True\n",
            "[not (False and False) or False] and False is False\n"
          ]
        }
      ]
    },
    {
      "cell_type": "markdown",
      "source": [
        "Ejercicio 02\n",
        "\n",
        "Proposicion lógica: $B:\\ [ \\sim p\\Rightarrow ( q\\land p)] \\Longleftrightarrow \\sim q$\n",
        "\n",
        "Proposicion simplificada: $B: [(p \\land \\sim q) \\lor (\\sim p \\land q)]$"
      ],
      "metadata": {
        "id": "MhzA1gvXXnEZ"
      }
    },
    {
      "cell_type": "code",
      "source": [
        "def proposicion(a, b):\n",
        "  return (a and not b) or (not a and b)\n",
        "\n",
        "print(\"Proposicion logica: [~ p → (q ∧ p)] ↔ ~ q\")\n",
        "print(\"Tabla de verdad\")\n",
        "for P, Q in product((True, False), repeat=2):\n",
        "    print(f\"[not {str(P):<5} → ({str(Q):<5} and ({str(P):<5})] ↔ not {str(Q):<5} is \"\n",
        "          f\"{(biconditional((ifthen(not P, (Q and P))), (not Q)))}\")\n",
        "\n",
        "print(\"\\n---------------------------------------------------------------------------\")\n",
        "\n",
        "print(\"\\nProposicion simplificada: [(p ∧ ~ q) ∨ (~ p ∧ q)]\")\n",
        "print(\"Tabla de verdad\")\n",
        "for P, Q in product((True, False), repeat=2):\n",
        "    print(f\"[({str(P):<5} and not {str(Q):<5}) or (not {str(P):<5} and {str(Q):<5})] is \"\n",
        "          f\"{proposicion(P, Q)}\")"
      ],
      "metadata": {
        "colab": {
          "base_uri": "https://localhost:8080/"
        },
        "id": "CEakztOYXzvJ",
        "outputId": "e93d6e4d-f884-4aaa-b419-bccb519f1003"
      },
      "execution_count": null,
      "outputs": [
        {
          "output_type": "stream",
          "name": "stdout",
          "text": [
            "Proposicion logica: [~ p → (q ∧ p)] ↔ ~ q\n",
            "Tabla de verdad\n",
            "[not True  → (True  and (True )] ↔ not True  is False\n",
            "[not True  → (False and (True )] ↔ not False is True\n",
            "[not False → (True  and (False)] ↔ not True  is True\n",
            "[not False → (False and (False)] ↔ not False is False\n",
            "\n",
            "---------------------------------------------------------------------------\n",
            "\n",
            "Proposicion simplificada: [(p ∧ ~ q) ∨ (~ p ∧ q)]\n",
            "Tabla de verdad\n",
            "[(True  and not True ) or (not True  and True )] is False\n",
            "[(True  and not False) or (not True  and False)] is True\n",
            "[(False and not True ) or (not False and True )] is True\n",
            "[(False and not False) or (not False and False)] is False\n"
          ]
        }
      ]
    },
    {
      "cell_type": "markdown",
      "source": [
        "\n",
        "\n",
        "Ejercicio 03: $C:\\ [ \\sim p\\land ( q\\lor r)] \\Rightarrow [( p\\lor r) \\land q]$\n",
        "\n",
        "Otra representación: $C: [p \\lor \\sim (q \\lor r)] \\lor [(p \\lor r) \\land q]$"
      ],
      "metadata": {
        "id": "ZOfkWWTiX4Pd"
      }
    },
    {
      "cell_type": "code",
      "source": [
        "def proposicion(a, b, c):\n",
        "  return (a or not (b or c)) or ((a or c) and b)\n",
        "\n",
        "print(\"Proposicion logica: [~ p ∧ (q ∨ r)] → [(p ∨ r) ∧ q]\")\n",
        "print(\"Tabla de verdad\")\n",
        "for P, Q, R in product((True, False), repeat=3):\n",
        "    print(f\"[not {str(P):<5} and ({str(Q):<5} or {str(R):<5})] → [({str(P):<5} or {str(R):<5}) and {str(Q):<5}] is \"\n",
        "          f\"{ifthen((not P and (Q or R)), ((P or R) and Q))}\")\n",
        "\n",
        "print(\"\\n---------------------------------------------------------------------------\")\n",
        "\n",
        "print(\"\\nProposicion simplificada: [p ∨ ~ (q ∨ r)] ∨ [(p ∨ r) ∧ q]\")\n",
        "print(\"Tabla de verdad\")\n",
        "for P, Q, R in product((True, False), repeat=3):\n",
        "    print(f\"[{str(P):<5} or not ({str(Q):<5}) or {str(R):<5})] or [({str(P):<5} or {str(R):<5}) and {str(Q):<5}] is \"\n",
        "          f\"{proposicion(P, Q, R)}\")"
      ],
      "metadata": {
        "colab": {
          "base_uri": "https://localhost:8080/"
        },
        "id": "8sDBV8ejX9Gq",
        "outputId": "8d76f1be-91c8-4ab8-c257-af01dcc03335"
      },
      "execution_count": null,
      "outputs": [
        {
          "output_type": "stream",
          "name": "stdout",
          "text": [
            "Proposicion logica: [~ p ∧ (q ∨ r)] → [(p ∨ r) ∧ q]\n",
            "Tabla de verdad\n",
            "[not True  and (True  or True )] → [(True  or True ) and True ] is True\n",
            "[not True  and (True  or False)] → [(True  or False) and True ] is True\n",
            "[not True  and (False or True )] → [(True  or True ) and False] is True\n",
            "[not True  and (False or False)] → [(True  or False) and False] is True\n",
            "[not False and (True  or True )] → [(False or True ) and True ] is True\n",
            "[not False and (True  or False)] → [(False or False) and True ] is False\n",
            "[not False and (False or True )] → [(False or True ) and False] is False\n",
            "[not False and (False or False)] → [(False or False) and False] is True\n",
            "\n",
            "---------------------------------------------------------------------------\n",
            "\n",
            "Proposicion simplificada: [p ∨ ~ (q ∨ r)] ∨ [(p ∨ r) ∧ q]\n",
            "Tabla de verdad\n",
            "[True  or not (True ) or True )] or [(True  or True ) and True ] is True\n",
            "[True  or not (True ) or False)] or [(True  or False) and True ] is True\n",
            "[True  or not (False) or True )] or [(True  or True ) and False] is True\n",
            "[True  or not (False) or False)] or [(True  or False) and False] is True\n",
            "[False or not (True ) or True )] or [(False or True ) and True ] is True\n",
            "[False or not (True ) or False)] or [(False or False) and True ] is False\n",
            "[False or not (False) or True )] or [(False or True ) and False] is False\n",
            "[False or not (False) or False)] or [(False or False) and False] is True\n"
          ]
        }
      ]
    },
    {
      "cell_type": "markdown",
      "source": [
        "Ejercicio 04: $[ \\sim ( p\\lor q) \\Longleftrightarrow ( \\sim q\\land \\sim p)] \\lor p$\n",
        "\n",
        "Otra representación: $\\{[ \\sim ( p\\lor q) \\land ( \\sim q\\land \\sim p)] \\lor [( p\\lor q) \\land \\sim ( \\sim q\\land \\sim p)]\\} \\lor p$"
      ],
      "metadata": {
        "id": "r95wxWf8YL_3"
      }
    },
    {
      "cell_type": "code",
      "source": [
        "valores_verdad = []\n",
        "\n",
        "def evaluar(lista):\n",
        "    verdadera = False\n",
        "    falso = False\n",
        "    for elemento in lista:\n",
        "        if elemento:\n",
        "            verdadera = True\n",
        "        else:\n",
        "            falso = True\n",
        "\n",
        "    if verdadera and falso:\n",
        "        return \"contingencia\"\n",
        "    elif verdadera:\n",
        "        return \"tautologia\"\n",
        "    elif falso:\n",
        "        return \"contradicción\"\n",
        "\n",
        "\n",
        "for P, Q in product((True, False), repeat=2):\n",
        "  valores = biconditional(not (P or Q), (not Q and not P)) or P\n",
        "  print(f\"[not ({str(P):<5} or {str(Q):<5}) ↔ (not {str(Q):<5} and not {str(P):<5})] or {str(P):<5} is {valores}\")\n",
        "  valores_verdad.append(valores)\n",
        "\n",
        "resultado = evaluar(valores_verdad)\n",
        "print(f\"\\nConclusion: Es una {resultado}\")"
      ],
      "metadata": {
        "colab": {
          "base_uri": "https://localhost:8080/"
        },
        "id": "VW58GLWnYNA8",
        "outputId": "0fbc66ac-0b5c-4121-894b-6f3d10bb23eb"
      },
      "execution_count": null,
      "outputs": [
        {
          "output_type": "stream",
          "name": "stdout",
          "text": [
            "[not (True  or True ) ↔ (not True  and not True )] or True  is True\n",
            "[not (True  or False) ↔ (not False and not True )] or True  is True\n",
            "[not (False or True ) ↔ (not True  and not False)] or False is True\n",
            "[not (False or False) ↔ (not False and not False)] or False is True\n",
            "\n",
            "Conclusion: Es una tautologia\n"
          ]
        }
      ]
    },
    {
      "cell_type": "markdown",
      "source": [
        "## **Ejercicios del bloque 1**\n",
        "\n",
        "**Enunciado:** Se sabe que únicamente P es verdadero, ¿Qué puede afirmarse del valor de verdad de cada una de las proposiciones siguientes?\n",
        "\n",
        "\n",
        "\n",
        "**Explicación:** El enunciado menciona que P es únicamente verdadero, entonces, P es el único que puede ser verdadero y las demás proposiciones son falsas."
      ],
      "metadata": {
        "id": "Int2BV4_zopz"
      }
    },
    {
      "cell_type": "markdown",
      "source": [
        "### Ejercicio 01: $P\\land Q$\n",
        "\n",
        "Como $P$ es unicamente verdadero, entonces, Q sería falso:\n",
        "\n",
        "$V\\land F$\n",
        "\n",
        "Ahora, por la tabla de verdad de la conjunción, se obtiene lo siguiente:\n",
        "\n",
        " $F$"
      ],
      "metadata": {
        "id": "Acn_NvJ1u004"
      }
    },
    {
      "cell_type": "code",
      "source": [
        "P = True\n",
        "Q = False\n",
        "resultado = P and Q\n",
        "print(f\"{str(P):<5} and {str(Q):<5} is {resultado}\")"
      ],
      "metadata": {
        "colab": {
          "base_uri": "https://localhost:8080/"
        },
        "id": "NtpthAZPu5jn",
        "outputId": "2017972e-962a-4778-9f97-ae744b2b9f1d"
      },
      "execution_count": null,
      "outputs": [
        {
          "output_type": "stream",
          "name": "stdout",
          "text": [
            "(True  and False) is False\n"
          ]
        }
      ]
    },
    {
      "cell_type": "markdown",
      "source": [
        "### Ejercicio 02: $r\\lor p$\n",
        "\n",
        "Como $p$ es unicamente verdadero, entonces, $r$ sería falso:\n",
        "\n",
        "$F\\lor V$\n",
        "\n",
        "Ahora, por la tabla de verdad de la disyunción, se obtiene lo siguiente:\n",
        "\n",
        "$V$"
      ],
      "metadata": {
        "id": "lWM6Q6MEu8Ss"
      }
    },
    {
      "cell_type": "code",
      "source": [
        "R = False\n",
        "P = True\n",
        "resultado = R or P\n",
        "print(f\"{str(R):<5} or {str(P):<5} is {resultado}\")"
      ],
      "metadata": {
        "colab": {
          "base_uri": "https://localhost:8080/"
        },
        "id": "cC9-qi2Wu_ib",
        "outputId": "5f8867ad-2d23-445f-d04f-bc15ad057714"
      },
      "execution_count": null,
      "outputs": [
        {
          "output_type": "stream",
          "name": "stdout",
          "text": [
            " False or True  is True\n"
          ]
        }
      ]
    },
    {
      "cell_type": "markdown",
      "source": [
        "### Ejercicio 03: $r\\land p$\n",
        "\n",
        "Como $p$ es únicamente verdadero, entonces, $r$ sería falso:\n",
        "\n",
        "$F\\land V$\n",
        "\n",
        "Ahora, por la tabla de verdad de la conjunción, se obtiene lo siguiente:\n",
        "\n",
        "$F$"
      ],
      "metadata": {
        "id": "xMRvhKKNvFLK"
      }
    },
    {
      "cell_type": "code",
      "source": [
        "R = False\n",
        "P = True\n",
        "resultado = R and P\n",
        "print(f\" {str(R):<5} and {str(P):<5} is {resultado}\")"
      ],
      "metadata": {
        "colab": {
          "base_uri": "https://localhost:8080/"
        },
        "id": "XFoR9M_cvIf6",
        "outputId": "034682be-389b-4419-fd58-8ec9ccafc8e4"
      },
      "execution_count": null,
      "outputs": [
        {
          "output_type": "stream",
          "name": "stdout",
          "text": [
            " False and True  is False\n"
          ]
        }
      ]
    },
    {
      "cell_type": "markdown",
      "source": [
        "### Ejercicio 04: $s\\lor \\sim p$\n",
        "\n",
        "Como $p$ es unicamente verdadero, entonces, $s$ sería falso:\n",
        "\n",
        "$F\\lor F$\n",
        "\n",
        "Ahora, por la tabla de verdad de la disyunción, se obtiene lo siguiente:\n",
        "\n",
        "$F$"
      ],
      "metadata": {
        "id": "cW20ZLelvLAT"
      }
    },
    {
      "cell_type": "code",
      "source": [
        "S = False\n",
        "P = True\n",
        "resultado = S or not P\n",
        "print(f\"{str(S):<5} or not {str(P):<5} is {resultado}\")"
      ],
      "metadata": {
        "colab": {
          "base_uri": "https://localhost:8080/"
        },
        "id": "hro5x0-RvT2h",
        "outputId": "f518561c-0937-4a23-969d-378eba53ce0a"
      },
      "execution_count": null,
      "outputs": [
        {
          "output_type": "stream",
          "name": "stdout",
          "text": [
            "False or not True  is False\n"
          ]
        }
      ]
    },
    {
      "cell_type": "markdown",
      "source": [
        "### Ejercicio 05: $r\\rightarrow p$\n",
        "\n",
        "La proposición tiene otra representación:\n",
        "\n",
        "$\\sim r\\lor p$\n",
        "\n",
        "Como $p$ es únicamente verdadero, entonces, $r$ sería falso:\n",
        "\n",
        "$\\sim F\\lor V$\n",
        "\n",
        "Ahora, por la tabla de verdad de la disyunción, se obtiene lo siguiente:\n",
        "\n",
        "$V$"
      ],
      "metadata": {
        "id": "P2nmSIsovWRy"
      }
    },
    {
      "cell_type": "code",
      "source": [
        "R = False\n",
        "P = True\n",
        "resultado = not R or P\n",
        "print(f\"not {str(R):<5} or {str(P):<5} is {resultado}\")"
      ],
      "metadata": {
        "colab": {
          "base_uri": "https://localhost:8080/"
        },
        "id": "Zd9PiDjUvag6",
        "outputId": "a9e01e07-6a65-4b2f-fbed-ff168e7f64cb"
      },
      "execution_count": null,
      "outputs": [
        {
          "output_type": "stream",
          "name": "stdout",
          "text": [
            "not False or True  is True\n"
          ]
        }
      ]
    },
    {
      "cell_type": "markdown",
      "source": [
        "### Ejercicio 06: $p\\rightarrow q$\n",
        "\n",
        "La proposición tiene otra representación:\n",
        "\n",
        "$\\sim p\\lor q$\n",
        "\n",
        "Como $p$ es únicamente verdadero, entonces, $q$ sería falso:\n",
        "\n",
        "$F\\lor F$\n",
        "\n",
        "Ahora, por la tabla de verdad de la disyunción, se obtiene lo siguiente:\n",
        "\n",
        "$F$"
      ],
      "metadata": {
        "id": "97LqKhWxwEqw"
      }
    },
    {
      "cell_type": "code",
      "source": [
        "P = True\n",
        "Q = False\n",
        "resultado =  not P or Q\n",
        "print(f\"not {str(P):<5} or {str(Q):<5} is {resultado}\")"
      ],
      "metadata": {
        "colab": {
          "base_uri": "https://localhost:8080/"
        },
        "id": "O1SrxVFlwH_n",
        "outputId": "877c3fe1-a24e-49fb-9ccb-37f587aa59fa"
      },
      "execution_count": null,
      "outputs": [
        {
          "output_type": "stream",
          "name": "stdout",
          "text": [
            "not True  or False is False\n"
          ]
        }
      ]
    },
    {
      "cell_type": "markdown",
      "source": [
        "### Ejercicio 07: $p\\rightarrow ( p\\lor s)$\n",
        "\n",
        "La proposición tiene otra representación:\n",
        "\n",
        "$\\sim p\\lor ( p\\lor s)$\n",
        "\n",
        "Como $p$ es únicamente verdadero, entonces, $s$ sería falso:\n",
        "\n",
        "$F\\lor ( V\\ \\lor F)$\n",
        "\n",
        "$F\\lor V$\n",
        "\n",
        "Ahora, por la tabla de verdad de la disyunción, se obtiene lo siguiente:\n",
        "\n",
        "$V$"
      ],
      "metadata": {
        "id": "GZN1hRcEwOdv"
      }
    },
    {
      "cell_type": "code",
      "source": [
        "P = True\n",
        "S = False\n",
        "resultado = not P or (P or S)\n",
        "print(f\"not {str(P):<5} or ({str(P):<5} or {str(S):<5}) is {resultado}\")"
      ],
      "metadata": {
        "colab": {
          "base_uri": "https://localhost:8080/"
        },
        "id": "IQ64Pdz6wQZ-",
        "outputId": "ec50d3ed-238a-4508-fc47-5a18cdd04843"
      },
      "execution_count": null,
      "outputs": [
        {
          "output_type": "stream",
          "name": "stdout",
          "text": [
            "not True  or (True  or False) is True\n"
          ]
        }
      ]
    },
    {
      "cell_type": "markdown",
      "source": [
        "### Ejercicio 08: $\\sim p\\rightarrow q\\land r$\n",
        "\n",
        "La proposición tiene otra representación:\n",
        "\n",
        "$p\\lor ( q\\land r)$\n",
        "\n",
        "Como $p$ es únicamente verdadero, entonces, $q$ y $r$ son falsos:\n",
        "\n",
        "$V\\lor ( F\\land F)$\n",
        "\n",
        "$V\\lor F$\n",
        "\n",
        "Ahora, por la tabla de verdad de la disyunción, se obtiene lo siguiente:\n",
        "\n",
        "$V$"
      ],
      "metadata": {
        "id": "rx6eu_8bwUB0"
      }
    },
    {
      "cell_type": "code",
      "source": [
        "P = True\n",
        "Q = False\n",
        "R = False\n",
        "resultado = P or (Q and R)\n",
        "print(f\"{str(P):<5} or ({str(Q):<5} and {str(R):<5}) is {resultado}\")"
      ],
      "metadata": {
        "colab": {
          "base_uri": "https://localhost:8080/"
        },
        "id": "ZskAOYnswYk9",
        "outputId": "49ddfcb7-8936-452d-bbcd-09af150bc86e"
      },
      "execution_count": null,
      "outputs": [
        {
          "output_type": "stream",
          "name": "stdout",
          "text": [
            "True  or (False and False) is True\n"
          ]
        }
      ]
    },
    {
      "cell_type": "markdown",
      "source": [
        "### Ejercicio 09: $s\\rightarrow \\sim p$\n",
        "\n",
        "La proposición tiene otra representación:\n",
        "\n",
        "$\\sim s\\lor \\sim p$\n",
        "\n",
        "Como $p$ es únicamente verdadero, entonces, $s$ es falso:\n",
        "\n",
        "$\\sim F\\lor F$\n",
        "\n",
        "$V\\lor F$\n",
        "\n",
        "Ahora, por la tabla de verdad de la disyunción, se obtiene lo siguiente:\n",
        "\n",
        "$V$"
      ],
      "metadata": {
        "id": "wJ7deCehwlXz"
      }
    },
    {
      "cell_type": "code",
      "source": [
        "S = False\n",
        "P = True\n",
        "resultado = not S or not P\n",
        "print(f\"not {str(S):<5} or not {str(P):<5} is {resultado}\")"
      ],
      "metadata": {
        "colab": {
          "base_uri": "https://localhost:8080/"
        },
        "id": "4XRaDovkwoRb",
        "outputId": "15f0a6e7-93c0-416a-c0f8-07b3ccfae087"
      },
      "execution_count": null,
      "outputs": [
        {
          "output_type": "stream",
          "name": "stdout",
          "text": [
            "not False or not True  is True\n"
          ]
        }
      ]
    },
    {
      "cell_type": "markdown",
      "source": [
        "### Ejercicio 10: $r\\rightarrow \\left( s\\rightarrow p\\right)$\n",
        "\n",
        "La proposición tiene otra representación:\n",
        "\n",
        "$\\sim r\\lor ( \\sim s\\lor p)$\n",
        "\n",
        "Como $p$ es únicamente verdadero, entonces, $r$ y $s$ son falsos:\n",
        "\n",
        "$\\sim F\\lor ( \\sim F\\lor V)$\n",
        "\n",
        "$V\\lor V$\n",
        "\n",
        "Ahora, por la tabla de verdad de la disyunción, se obtiene lo siguiente:\n",
        "\n",
        "$V$"
      ],
      "metadata": {
        "id": "YxzqsVX4wqwR"
      }
    },
    {
      "cell_type": "code",
      "source": [
        "P = True\n",
        "S = False\n",
        "R = False\n",
        "resultado = not R or (not S or P)\n",
        "print(f\"not {str(R):<5} or (not {str(S):<5} or {str(P):<5}) is {resultado}\")"
      ],
      "metadata": {
        "colab": {
          "base_uri": "https://localhost:8080/"
        },
        "id": "6xEKdadXwtx9",
        "outputId": "6f45832a-e63c-4e32-bbd2-6a30e5928010"
      },
      "execution_count": null,
      "outputs": [
        {
          "output_type": "stream",
          "name": "stdout",
          "text": [
            "not False or (not False or True ) is True\n"
          ]
        }
      ]
    },
    {
      "cell_type": "markdown",
      "source": [
        "### Ejercicio 11: $( p\\lor s)\\rightarrow ( q\\land \\sim p)$\n",
        "\n",
        "La proposición tiene otra representación:\n",
        "\n",
        "$\\sim ( p\\lor s) \\lor ( q\\land \\sim p)$\n",
        "\n",
        "Como $p$ es únicamente verdadero, entonces, $s$ y $q$ son falsos:\n",
        "\n",
        "$\\sim ( V\\lor F) \\lor ( F\\land F)$\n",
        "\n",
        "$\\sim ( V) \\lor F$\n",
        "\n",
        "$F\\lor F$\n",
        "\n",
        "Ahora, por la tabla de verdad de la disyunción, se obtiene lo siguiente:\n",
        "\n",
        "$F$"
      ],
      "metadata": {
        "id": "Ec9-IK7OwwRt"
      }
    },
    {
      "cell_type": "code",
      "source": [
        "P = True\n",
        "S = False\n",
        "Q = False\n",
        "resultado = not (P or S) or (Q and not P)\n",
        "print(f\"not ({str(P):<5} or {str(S):<5}) or ({str(Q):<5} and not {str(P):<5}) is {resultado}\")"
      ],
      "metadata": {
        "colab": {
          "base_uri": "https://localhost:8080/"
        },
        "id": "AIdFeEmjwzM6",
        "outputId": "c927f266-364f-4bb9-8092-fa1f669dfed3"
      },
      "execution_count": null,
      "outputs": [
        {
          "output_type": "stream",
          "name": "stdout",
          "text": [
            "not (True  or False) or (False and not True ) is False\n"
          ]
        }
      ]
    },
    {
      "cell_type": "markdown",
      "source": [
        "### Ejercicio 12: $( q\\land \\sim p)\\rightarrow (r\\land q)$\n",
        "\n",
        "La proposición tiene otra representación:\n",
        "\n",
        "$\\sim (q\\land \\sim p) \\lor (r\\land q)$\n",
        "\n",
        "Como $p$ es únicamente verdadero, entonces, $r$ y $q$ son falsos:\n",
        "\n",
        "$\\sim ( F\\land \\sim V) \\lor (F\\land F)$\n",
        "\n",
        "$\\sim (F) \\lor F$\n",
        "\n",
        "$V\\lor F$\n",
        "\n",
        "Ahora, por la tabla de verdad de la disyunción, se obtiene lo siguiente:\n",
        "\n",
        "$V$"
      ],
      "metadata": {
        "id": "K1V_9Kn44aIJ"
      }
    },
    {
      "cell_type": "code",
      "source": [
        "P = True\n",
        "Q = False\n",
        "R = False\n",
        "resultado = not (Q and not P) or (R and Q)\n",
        "print(f\"not ({str(Q):<5} and not {str(P):<5}) or ({str(R):<5} and {str(Q):<5}) is {resultado}\")"
      ],
      "metadata": {
        "colab": {
          "base_uri": "https://localhost:8080/"
        },
        "id": "yd5ipP8I6Jxb",
        "outputId": "f52f7c52-af5d-4613-8d7e-82b29af60249"
      },
      "execution_count": null,
      "outputs": [
        {
          "output_type": "stream",
          "name": "stdout",
          "text": [
            "not (False and not True ) or (False and False) is True\n"
          ]
        }
      ]
    },
    {
      "cell_type": "markdown",
      "source": [
        "## **Ejercicios del bloque 2**\n",
        "\n",
        "Determinar cuáles de las siguientes proposiciones son tautologías."
      ],
      "metadata": {
        "id": "wmJsX7UDw2jA"
      }
    },
    {
      "cell_type": "markdown",
      "source": [
        "Ejercicio 01: $p\\land q\\rightarrow p\\land r$\n",
        "\n",
        "Otra representación: $\\sim ( p\\land q) \\lor ( p\\land r)$"
      ],
      "metadata": {
        "id": "uWeFvmw7w_O9"
      }
    },
    {
      "cell_type": "code",
      "source": [
        "valores_verdad = []\n",
        "\n",
        "def evaluar(lista):\n",
        "    verdadera = False\n",
        "    falso = False\n",
        "    for elemento in lista:\n",
        "        if elemento:\n",
        "            verdadera = True\n",
        "        else:\n",
        "            falso = True\n",
        "\n",
        "    if verdadera and falso:\n",
        "        return \"contingencia\"\n",
        "    elif verdadera:\n",
        "        return \"tautologia\"\n",
        "    elif falso:\n",
        "        return \"contradicción\"\n",
        "\n",
        "\n",
        "for P, Q, R in product((True, False), repeat=3):\n",
        "    valores = ifthen((P and Q),(P and R))\n",
        "    print(valores)\n",
        "    valores_verdad.append(valores)\n",
        "\n",
        "resultado = evaluar(valores_verdad)\n",
        "print(f\"\\nConclusion: Es una {resultado}\")"
      ],
      "metadata": {
        "colab": {
          "base_uri": "https://localhost:8080/"
        },
        "id": "zLaCLNODxEzK",
        "outputId": "eaf89b46-e74d-40e9-e4a0-0ecd1f6f886b"
      },
      "execution_count": null,
      "outputs": [
        {
          "output_type": "stream",
          "name": "stdout",
          "text": [
            "True\n",
            "False\n",
            "True\n",
            "True\n",
            "True\n",
            "True\n",
            "True\n",
            "True\n",
            "\n",
            "Conclusion: Es una contingencia\n"
          ]
        }
      ]
    },
    {
      "cell_type": "markdown",
      "source": [
        "Ejercicio 02: $p\\rightarrow p\\land q$\n",
        "\n",
        "Otra representación: $\\sim p\\lor ( p\\land q)$"
      ],
      "metadata": {
        "id": "lFq55QEoxMIY"
      }
    },
    {
      "cell_type": "code",
      "source": [
        "valores_verdad = []\n",
        "\n",
        "def evaluar(lista):\n",
        "    verdadera = False\n",
        "    falso = False\n",
        "    for elemento in lista:\n",
        "        if elemento:\n",
        "            verdadera = True\n",
        "        else:\n",
        "            falso = True\n",
        "\n",
        "    if verdadera and falso:\n",
        "        return \"contingencia\"\n",
        "    elif verdadera:\n",
        "        return \"tautologia\"\n",
        "    elif falso:\n",
        "        return \"contradicción\"\n",
        "\n",
        "\n",
        "for P, Q in product((True, False), repeat=2):\n",
        "    valores = ifthen(P, P and Q)\n",
        "    print(valores)\n",
        "    valores_verdad.append(valores)\n",
        "\n",
        "resultado = evaluar(valores_verdad)\n",
        "print(f\"\\nConclusion: Es una {resultado}\")"
      ],
      "metadata": {
        "colab": {
          "base_uri": "https://localhost:8080/"
        },
        "id": "gbv4VU3lxMto",
        "outputId": "f8c59619-d773-4b2c-8662-a532b7a5f4fb"
      },
      "execution_count": null,
      "outputs": [
        {
          "output_type": "stream",
          "name": "stdout",
          "text": [
            "True\n",
            "False\n",
            "True\n",
            "True\n",
            "\n",
            "Conclusion: Es una contingencia\n"
          ]
        }
      ]
    },
    {
      "cell_type": "markdown",
      "source": [
        "Ejercicio 03: $p\\land \\sim ( q\\lor p)$"
      ],
      "metadata": {
        "id": "VLvF_2AWxO88"
      }
    },
    {
      "cell_type": "code",
      "source": [
        "valores_verdad = []\n",
        "\n",
        "\n",
        "def evaluar(lista):\n",
        "    verdadera = False\n",
        "    falso = False\n",
        "    for elemento in lista:\n",
        "        if elemento:\n",
        "            verdadera = True\n",
        "        else:\n",
        "            falso = True\n",
        "\n",
        "    if verdadera and falso:\n",
        "        return \"contingencia\"\n",
        "    elif verdadera:\n",
        "        return \"tautologia\"\n",
        "    elif falso:\n",
        "        return \"contradicción\"\n",
        "\n",
        "\n",
        "for P, Q in product((True, False), repeat=2):\n",
        "    valores = P and not (Q or P)\n",
        "    print(valores)\n",
        "    valores_verdad.append(valores)\n",
        "\n",
        "resultado = evaluar(valores_verdad)\n",
        "print(f\"\\nConclusion: Es una {resultado}\")"
      ],
      "metadata": {
        "colab": {
          "base_uri": "https://localhost:8080/"
        },
        "id": "Chs5-TmPxR_E",
        "outputId": "d513f882-77c9-423c-e5f5-15bb92763041"
      },
      "execution_count": null,
      "outputs": [
        {
          "output_type": "stream",
          "name": "stdout",
          "text": [
            "False\n",
            "False\n",
            "False\n",
            "False\n",
            "\n",
            "Conclusion: Es una contradicción\n"
          ]
        }
      ]
    },
    {
      "cell_type": "markdown",
      "source": [
        "Ejercicio 04: $\\left( p\\rightarrow ( q\\lor \\sim p)\\right)\\rightarrow \\sim q$\n",
        "\n",
        "Otra representación: $\\sim ( \\sim p\\lor ( q\\lor \\sim p)) \\lor \\sim q$"
      ],
      "metadata": {
        "id": "IWMRcbhBxUQr"
      }
    },
    {
      "cell_type": "code",
      "source": [
        "valores_verdad = []\n",
        "\n",
        "\n",
        "def evaluar(lista):\n",
        "    verdadera = False\n",
        "    falso = False\n",
        "    for elemento in lista:\n",
        "        if elemento:\n",
        "            verdadera = True\n",
        "        else:\n",
        "            falso = True\n",
        "\n",
        "    if verdadera and falso:\n",
        "        return \"contingencia\"\n",
        "    elif verdadera:\n",
        "        return \"tautologia\"\n",
        "    elif falso:\n",
        "        return \"contradicción\"\n",
        "\n",
        "\n",
        "for P, Q in product((True, False), repeat=2):\n",
        "    valores = ifthen((ifthen(P, (Q or not P))), not Q)\n",
        "    print(valores)\n",
        "    valores_verdad.append(valores)\n",
        "\n",
        "resultado = evaluar(valores_verdad)\n",
        "print(f\"\\nConclusion: Es una {resultado}\")"
      ],
      "metadata": {
        "colab": {
          "base_uri": "https://localhost:8080/"
        },
        "id": "gfuMYQIvxXC3",
        "outputId": "010ff3fc-b397-45f9-c41e-59d700163807"
      },
      "execution_count": null,
      "outputs": [
        {
          "output_type": "stream",
          "name": "stdout",
          "text": [
            "False\n",
            "True\n",
            "False\n",
            "True\n",
            "\n",
            "Conclusion: Es una contingencia\n"
          ]
        }
      ]
    },
    {
      "cell_type": "markdown",
      "source": [
        "Ejercicio 05: $\\left( p\\rightarrow q\\right)\\rightarrow \\left( \\sim q\\rightarrow p\\right)$\n",
        "\n",
        "Otra representación: $\\sim ( \\sim p\\lor q) \\lor ( q\\lor p)$"
      ],
      "metadata": {
        "id": "u3KjC8QAxZdR"
      }
    },
    {
      "cell_type": "code",
      "source": [
        "valores_verdad = []\n",
        "\n",
        "\n",
        "def evaluar(lista):\n",
        "    verdadera = False\n",
        "    falso = False\n",
        "    for elemento in lista:\n",
        "        if elemento:\n",
        "            verdadera = True\n",
        "        else:\n",
        "            falso = True\n",
        "\n",
        "    if verdadera and falso:\n",
        "        return \"contingencia\"\n",
        "    elif verdadera:\n",
        "        return \"tautologia\"\n",
        "    elif falso:\n",
        "        return \"contradicción\"\n",
        "\n",
        "\n",
        "for P, Q in product((True, False), repeat=2):\n",
        "    valores = ifthen((ifthen(P, Q)), (ifthen(not Q, P)))\n",
        "    print(valores)\n",
        "    valores_verdad.append(valores)\n",
        "\n",
        "resultado = evaluar(valores_verdad)\n",
        "print(f\"\\nConclusion: Es una {resultado}\")"
      ],
      "metadata": {
        "colab": {
          "base_uri": "https://localhost:8080/"
        },
        "id": "ZgGVk_6Uxciv",
        "outputId": "4ee30664-7145-42e6-e926-f3e225946810"
      },
      "execution_count": null,
      "outputs": [
        {
          "output_type": "stream",
          "name": "stdout",
          "text": [
            "True\n",
            "True\n",
            "True\n",
            "False\n",
            "\n",
            "Conclusion: Es una contingencia\n"
          ]
        }
      ]
    },
    {
      "cell_type": "markdown",
      "source": [
        "Ejercicio 06: $( p\\leftrightarrow q) \\land ( p\\land \\sim q)$\n",
        "\n",
        "Otra representación: $[( p\\land q) \\lor ( \\sim p\\land \\sim q)] \\land ( p\\land \\sim q)$"
      ],
      "metadata": {
        "id": "zwLxtuTqxfZB"
      }
    },
    {
      "cell_type": "code",
      "source": [
        "valores_verdad = []\n",
        "\n",
        "\n",
        "def evaluar(lista):\n",
        "    verdadera = False\n",
        "    falso = False\n",
        "    for elemento in lista:\n",
        "        if elemento:\n",
        "            verdadera = True\n",
        "        else:\n",
        "            falso = True\n",
        "\n",
        "    if verdadera and falso:\n",
        "        return \"contingencia\"\n",
        "    elif verdadera:\n",
        "        return \"tautologia\"\n",
        "    elif falso:\n",
        "        return \"contradicción\"\n",
        "\n",
        "\n",
        "for P, Q in product((True, False), repeat=2):\n",
        "  valores = (biconditional(P, Q)) and (P and not Q)\n",
        "  print(valores)\n",
        "  valores_verdad.append(valores)\n",
        "\n",
        "resultado = evaluar(valores_verdad)\n",
        "print(f\"\\nConclusion: Es una {resultado}\")"
      ],
      "metadata": {
        "colab": {
          "base_uri": "https://localhost:8080/"
        },
        "id": "W8eqzV7FxilM",
        "outputId": "4b97c083-77e1-401e-f546-443e59189eda"
      },
      "execution_count": null,
      "outputs": [
        {
          "output_type": "stream",
          "name": "stdout",
          "text": [
            "False\n",
            "False\n",
            "False\n",
            "False\n",
            "\n",
            "Conclusion: Es una contradicción\n"
          ]
        }
      ]
    },
    {
      "cell_type": "markdown",
      "source": [
        "Ejercicio 07: $p\\land \\sim (( p\\lor q) \\lor r)$"
      ],
      "metadata": {
        "id": "tAO-u4RQxk7L"
      }
    },
    {
      "cell_type": "code",
      "source": [
        "valores_verdad = []\n",
        "\n",
        "\n",
        "def evaluar(lista):\n",
        "    verdadera = False\n",
        "    falso = False\n",
        "    for elemento in lista:\n",
        "        if elemento:\n",
        "            verdadera = True\n",
        "        else:\n",
        "            falso = True\n",
        "\n",
        "    if verdadera and falso:\n",
        "        return \"contingencia\"\n",
        "    elif verdadera:\n",
        "        return \"tautologia\"\n",
        "    elif falso:\n",
        "        return \"contradicción\"\n",
        "\n",
        "\n",
        "for P, Q, R in product((True, False), repeat=3):\n",
        "  valores = P and not ((P or Q) or R)\n",
        "  print(valores)\n",
        "  valores_verdad.append(valores)\n",
        "\n",
        "resultado = evaluar(valores_verdad)\n",
        "print(f\"\\nConclusion: Es una {resultado}\")"
      ],
      "metadata": {
        "id": "aHEJ40r0xn-x",
        "colab": {
          "base_uri": "https://localhost:8080/"
        },
        "outputId": "d8b81178-2a0f-43c4-d489-6ae1ae5618b6"
      },
      "execution_count": null,
      "outputs": [
        {
          "output_type": "stream",
          "name": "stdout",
          "text": [
            "False\n",
            "False\n",
            "False\n",
            "False\n",
            "False\n",
            "False\n",
            "False\n",
            "False\n",
            "\n",
            "Conclusion: Es una contradicción\n"
          ]
        }
      ]
    },
    {
      "cell_type": "markdown",
      "source": [
        "Ejercicio 08: $p\\lor ( \\sim p\\lor r)$"
      ],
      "metadata": {
        "id": "jmX6Z0UyxqSQ"
      }
    },
    {
      "cell_type": "code",
      "source": [
        "valores_verdad = []\n",
        "\n",
        "\n",
        "def evaluar(lista):\n",
        "    verdadera = False\n",
        "    falso = False\n",
        "    for elemento in lista:\n",
        "        if elemento:\n",
        "            verdadera = True\n",
        "        else:\n",
        "            falso = True\n",
        "\n",
        "    if verdadera and falso:\n",
        "        return \"contingencia\"\n",
        "    elif verdadera:\n",
        "        return \"tautologia\"\n",
        "    elif falso:\n",
        "        return \"contradicción\"\n",
        "\n",
        "\n",
        "for P, R in product((True, False), repeat=2):\n",
        "  valores = P or (not P or R)\n",
        "  print(valores)\n",
        "  valores_verdad.append(valores)\n",
        "\n",
        "resultado = evaluar(valores_verdad)\n",
        "print(f\"\\nConclusion: Es una {resultado}\")"
      ],
      "metadata": {
        "id": "czm-izNCxtmG",
        "colab": {
          "base_uri": "https://localhost:8080/"
        },
        "outputId": "f4379119-9d8e-42cd-989d-4fca8df518af"
      },
      "execution_count": null,
      "outputs": [
        {
          "output_type": "stream",
          "name": "stdout",
          "text": [
            "True\n",
            "True\n",
            "True\n",
            "True\n",
            "\n",
            "Conclusion: Es una tautologia\n"
          ]
        }
      ]
    }
  ]
}