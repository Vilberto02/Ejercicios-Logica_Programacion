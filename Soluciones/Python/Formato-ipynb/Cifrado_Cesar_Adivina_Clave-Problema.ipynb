{
  "nbformat": 4,
  "nbformat_minor": 0,
  "metadata": {
    "colab": {
      "provenance": []
    },
    "kernelspec": {
      "name": "python3",
      "display_name": "Python 3"
    },
    "language_info": {
      "name": "python"
    }
  },
  "cells": [
    {
      "cell_type": "markdown",
      "source": [
        "# **Tarea N°04: Combinatoria y permutaciones**"
      ],
      "metadata": {
        "id": "NGlC-xhUc75Y"
      }
    },
    {
      "cell_type": "markdown",
      "source": [
        "## **Ejercicio 01**\n",
        "\n",
        "Enunciado:\n",
        "\n",
        "Se tiene un candado de clave de 4 dígitos. Genere aleatoriamente una clave mediante un script en Python que permita a una persona adivinar la clave y cuando ingrese el valor correcto, se imprima en pantalla un mensaje de \"Se abrió el candado\""
      ],
      "metadata": {
        "id": "8qZxVoHJeT9Q"
      }
    },
    {
      "cell_type": "code",
      "execution_count": null,
      "metadata": {
        "colab": {
          "base_uri": "https://localhost:8080/"
        },
        "id": "EhXAmBpGcOST",
        "outputId": "abfc6b78-a962-4d45-bd6f-63d208f40d15"
      },
      "outputs": [
        {
          "output_type": "stream",
          "name": "stdout",
          "text": [
            "Adivina la clave del candado: Solo tienes 3 intentos\n",
            "Ingrese la clave: 1234\n",
            "Clave incorrecta. Solo te quedan 2 intentos\n",
            "Ingrese la clave: 5621\n",
            "Clave incorrecta. Solo te quedan 1 intentos\n",
            "Ingrese la clave: 8521\n",
            "-> Completaste tus 3 intentos.\n"
          ]
        }
      ],
      "source": [
        "import numpy as np\n",
        "\n",
        "digitos = [0,1,2,3,4,5,6,7,8,9]\n",
        "\n",
        "clave = np.random.choice(digitos, size = (4,)) # Genera un arreglo de numeros aleatorios, teniendo una longitud de 4.\n",
        "cadena_concatenada = \"\".join([str(numero) for numero in clave]) # Concatena cada uno de los elementos del arreglo clave.\n",
        "#print(clave)\n",
        "#print(cadena_concatenada)\n",
        "control = True\n",
        "contador = 3\n",
        "print(\"Adivina la clave del candado: Solo tienes 3 intentos\")\n",
        "while(control):\n",
        "    clave_usuario = int(input(\"Ingrese la clave: \"))\n",
        "    if(clave_usuario <= 999 or clave_usuario >= 10000):\n",
        "      print(\"Debe ingresar una clave de 4 digitos...\")\n",
        "      control = True\n",
        "    else:\n",
        "      if clave_usuario == int(cadena_concatenada):\n",
        "        print(f\"-> El candado esta abierto. Se demoro {contador} veces en encontrar la clave.\")\n",
        "        control = False\n",
        "      else:\n",
        "          contador -= 1\n",
        "          if (contador == 0):\n",
        "              print(\"-> Completaste tus 3 intentos.\")\n",
        "              control = False\n",
        "          else:\n",
        "              print(f\"Clave incorrecta. Solo te quedan {contador} intentos\")"
      ]
    },
    {
      "cell_type": "markdown",
      "source": [
        "## **Ejercicio 02: Cifrado de César**\n",
        "\n",
        "Una comprobación por fuerza bruta de cómo se descifraría el texto para cada posible cifrado César, considerando que se intercepto un mensaje, el cual puede obtener un mensaje."
      ],
      "metadata": {
        "id": "yt7-lp3QktMo"
      }
    },
    {
      "cell_type": "code",
      "source": [
        "# Desplazaremos por 0, desplazaremos por 1, desplazaremos por 2, ... e imprimiremos los resultados\n",
        "\n",
        "def cifrado_cesar(codedMessage: str):\n",
        "  for counter in range(26):\n",
        "    # Empezar sin adivinar\n",
        "    guessedMessage = ''\n",
        "\n",
        "    # Recorre en bucle cada letra del mensaje codificado\n",
        "    for x in codedMessage:\n",
        "\n",
        "        # Si x no es un espacio\n",
        "        if x != ' ':\n",
        "\n",
        "            # Desplazar la letra hacia delante en sentido contrario\n",
        "            if ord(x)+counter <= 122:\n",
        "                x = chr(ord(x)+counter)\n",
        "\n",
        "            # Resta 26 si vamos más allá de z\n",
        "            else:\n",
        "                x = chr(ord(x)+counter-26)\n",
        "\n",
        "        # Adivina el mensaje letra a letra\n",
        "        guessedMessage = guessedMessage + x\n",
        "\n",
        "    # Imprime el contador (el turno) y el mensaje\n",
        "    print(counter, guessedMessage)\n",
        "\n",
        "# Lista de mensajes a codificar.\n",
        "lista_mensajes = [\"k nki gsdryed vkeqrdob sc k nki gkcdon\",\"m rduqzp ue itmf ftq tqmdf zqqpe mxx ftq fuyq\", \"grr eua tkkj oy g lxkyn yzgxz\"]\n",
        "\n",
        "# Recorre la lista para descifrar los mensajes.\n",
        "for mensaje in lista_mensajes:\n",
        "  print(\"\\n--- Cifrado ---\\n\")\n",
        "  cifrado_cesar(mensaje)\n"
      ],
      "metadata": {
        "colab": {
          "base_uri": "https://localhost:8080/"
        },
        "id": "AAsXWMGnlOOO",
        "outputId": "826549a2-3c77-4ed9-e864-41e3260ed90c"
      },
      "execution_count": null,
      "outputs": [
        {
          "output_type": "stream",
          "name": "stdout",
          "text": [
            "\n",
            "--- Cifrado ---\n",
            "\n",
            "0 k nki gsdryed vkeqrdob sc k nki gkcdon\n",
            "1 l olj hteszfe wlfrsepc td l olj hldepo\n",
            "2 m pmk iuftagf xmgstfqd ue m pmk imefqp\n",
            "3 n qnl jvgubhg ynhtugre vf n qnl jnfgrq\n",
            "4 o rom kwhvcih zoiuvhsf wg o rom koghsr\n",
            "5 p spn lxiwdji apjvwitg xh p spn lphits\n",
            "6 q tqo myjxekj bqkwxjuh yi q tqo mqijut\n",
            "7 r urp nzkyflk crlxykvi zj r urp nrjkvu\n",
            "8 s vsq oalzgml dsmyzlwj ak s vsq osklwv\n",
            "9 t wtr pbmahnm etnzamxk bl t wtr ptlmxw\n",
            "10 u xus qcnbion fuoabnyl cm u xus qumnyx\n",
            "11 v yvt rdocjpo gvpbcozm dn v yvt rvnozy\n",
            "12 w zwu sepdkqp hwqcdpan eo w zwu swopaz\n",
            "13 x axv tfqelrq ixrdeqbo fp x axv txpqba\n",
            "14 y byw ugrfmsr jysefrcp gq y byw uyqrcb\n",
            "15 z czx vhsgnts kztfgsdq hr z czx vzrsdc\n",
            "16 a day without laughter is a day wasted\n",
            "17 b ebz xjuipvu mbvhiufs jt b ebz xbtufe\n",
            "18 c fca ykvjqwv ncwijvgt ku c fca ycuvgf\n",
            "19 d gdb zlwkrxw odxjkwhu lv d gdb zdvwhg\n",
            "20 e hec amxlsyx peyklxiv mw e hec aewxih\n",
            "21 f ifd bnymtzy qfzlmyjw nx f ifd bfxyji\n",
            "22 g jge coznuaz rgamnzkx oy g jge cgyzkj\n",
            "23 h khf dpaovba shbnoaly pz h khf dhzalk\n",
            "24 i lig eqbpwcb ticopbmz qa i lig eiabml\n",
            "25 j mjh frcqxdc ujdpqcna rb j mjh fjbcnm\n",
            "\n",
            "--- Cifrado ---\n",
            "\n",
            "0 m rduqzp ue itmf ftq tqmdf zqqpe mxx ftq fuyq\n",
            "1 n sevraq vf jung gur urneg arrqf nyy gur gvzr\n",
            "2 o tfwsbr wg kvoh hvs vsofh bssrg ozz hvs hwas\n",
            "3 p ugxtcs xh lwpi iwt wtpgi cttsh paa iwt ixbt\n",
            "4 q vhyudt yi mxqj jxu xuqhj duuti qbb jxu jycu\n",
            "5 r wizveu zj nyrk kyv yvrik evvuj rcc kyv kzdv\n",
            "6 s xjawfv ak ozsl lzw zwsjl fwwvk sdd lzw laew\n",
            "7 t ykbxgw bl patm max axtkm gxxwl tee max mbfx\n",
            "8 u zlcyhx cm qbun nby byuln hyyxm uff nby ncgy\n",
            "9 v amdziy dn rcvo ocz czvmo izzyn vgg ocz odhz\n",
            "10 w bneajz eo sdwp pda dawnp jaazo whh pda peia\n",
            "11 x cofbka fp texq qeb ebxoq kbbap xii qeb qfjb\n",
            "12 y dpgclb gq ufyr rfc fcypr lccbq yjj rfc rgkc\n",
            "13 z eqhdmc hr vgzs sgd gdzqs mddcr zkk sgd shld\n",
            "14 a friend is what the heart needs all the time\n",
            "15 b gsjfoe jt xibu uif ifbsu offet bmm uif ujnf\n",
            "16 c htkgpf ku yjcv vjg jgctv pggfu cnn vjg vkog\n",
            "17 d iulhqg lv zkdw wkh khduw qhhgv doo wkh wlph\n",
            "18 e jvmirh mw alex xli lievx riihw epp xli xmqi\n",
            "19 f kwnjsi nx bmfy ymj mjfwy sjjix fqq ymj ynrj\n",
            "20 g lxoktj oy cngz znk nkgxz tkkjy grr znk zosk\n",
            "21 h mypluk pz doha aol olhya ullkz hss aol aptl\n",
            "22 i nzqmvl qa epib bpm pmizb vmmla itt bpm bqum\n",
            "23 j oarnwm rb fqjc cqn qnjac wnnmb juu cqn crvn\n",
            "24 k pbsoxn sc grkd dro rokbd xoonc kvv dro dswo\n",
            "25 l qctpyo td hsle esp splce yppod lww esp etxp\n",
            "\n",
            "--- Cifrado ---\n",
            "\n",
            "0 grr eua tkkj oy g lxkyn yzgxz\n",
            "1 hss fvb ullk pz h mylzo zahya\n",
            "2 itt gwc vmml qa i nzmap abizb\n",
            "3 juu hxd wnnm rb j oanbq bcjac\n",
            "4 kvv iye xoon sc k pbocr cdkbd\n",
            "5 lww jzf yppo td l qcpds delce\n",
            "6 mxx kag zqqp ue m rdqet efmdf\n",
            "7 nyy lbh arrq vf n serfu fgneg\n",
            "8 ozz mci bssr wg o tfsgv ghofh\n",
            "9 paa ndj ctts xh p ugthw hipgi\n",
            "10 qbb oek duut yi q vhuix ijqhj\n",
            "11 rcc pfl evvu zj r wivjy jkrik\n",
            "12 sdd qgm fwwv ak s xjwkz klsjl\n",
            "13 tee rhn gxxw bl t ykxla lmtkm\n",
            "14 uff sio hyyx cm u zlymb mnuln\n",
            "15 vgg tjp izzy dn v amznc novmo\n",
            "16 whh ukq jaaz eo w bnaod opwnp\n",
            "17 xii vlr kbba fp x cobpe pqxoq\n",
            "18 yjj wms lccb gq y dpcqf qrypr\n",
            "19 zkk xnt mddc hr z eqdrg rszqs\n",
            "20 all you need is a fresh start\n",
            "21 bmm zpv offe jt b gsfti tubsu\n",
            "22 cnn aqw pggf ku c htguj uvctv\n",
            "23 doo brx qhhg lv d iuhvk vwduw\n",
            "24 epp csy riih mw e jviwl wxevx\n",
            "25 fqq dtz sjji nx f kwjxm xyfwy\n"
          ]
        }
      ]
    }
  ]
}